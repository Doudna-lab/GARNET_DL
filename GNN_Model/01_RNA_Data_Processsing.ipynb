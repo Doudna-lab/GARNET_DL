{
 "cells": [
  {
   "cell_type": "code",
   "execution_count": null,
   "id": "e7863d32",
   "metadata": {
    "collapsed": false
   },
   "outputs": [],
   "source": [
    "%load_ext autoreload\n",
    "%autoreload 2"
   ]
  },
  {
   "cell_type": "markdown",
   "id": "e7c04497",
   "metadata": {
    "collapsed": false
   },
   "source": [
    "DATA PROCESSING "
   ]
  },
  {
   "cell_type": "code",
   "execution_count": null,
   "id": "3d335033",
   "metadata": {
    "collapsed": false
   },
   "outputs": [],
   "source": [
    "from Bio import SeqIO\n",
    "from Bio.PDB.PDBParser import PDBParser\n",
    "from pathlib import Path\n",
    "import numpy as np\n",
    "import pandas as pd\n",
    "import torch"
   ]
  },
  {
   "cell_type": "code",
   "execution_count": null,
   "id": "b5599e9f",
   "metadata": {
    "collapsed": false
   },
   "outputs": [],
   "source": [
    "basedir = Path('.').resolve()\n",
    "pdb_file_path = (basedir / 'data/rna/7K00_23S.pdb').as_posix()\n",
    "parser = PDBParser(PERMISSIVE=1)\n",
    "struc = parser.get_structure('23S', pdb_file_path)\n",
    "\n",
    "wt_seq = SeqIO.read(basedir / 'data/rna/7K00_sequence.fasta', 'fasta')\n",
    "wt_seq = str(wt_seq.seq)\n",
    "\n",
    "wt_seq_match = np.asarray([nt for nt in wt_seq if nt == nt.upper()])\n",
    "res_idx_match = np.asarray([i for i,nt in enumerate(wt_seq) if nt == nt.upper()])\n",
    "# mask is for Ecoli match states (i.e. match states that are not deleted in the E-coli sequence)\n",
    "mask = np.asarray([(x != x.lower()) and (x != '-') for x in wt_seq_match])\n",
    "\n",
    "dist_map = pd.read_csv(basedir / 'data/rna/7K00_distance_map.csv', header=None).values[mask, :][:, mask]\n",
    "dist_map = torch.tensor(dist_map)\n",
    "np.save(basedir / 'data/rna/processed_for_ml' / 'distance_map.npy', dist_map.cpu().numpy())"
   ]
  },
  {
   "cell_type": "code",
   "execution_count": null,
   "id": "26abcdbc",
   "metadata": {
    "collapsed": false
   },
   "outputs": [],
   "source": [
    "allowed_chars = {'A', 'U', 'C', 'G', '-'}\n",
    "MSA = [str(s.seq) for s in SeqIO.parse(basedir / 'data/rna/23S_rRNA_aligned_7K00.fa', 'fasta')]\n",
    "MSA = [np.asarray(list(x))[mask].tolist() for x in MSA]\n",
    "MSA = [''.join([nt if nt in allowed_chars else 'X' for nt in seq]) for seq in MSA]\n",
    "\n",
    "with open(basedir / 'data/rna/processed_for_ml' / '23S_alignment.txt', 'w') as outfn:\n",
    "    for s in MSA:\n",
    "        outfn.write(f'{s}\\n')"
   ]
  },
  {
   "cell_type": "code",
   "execution_count": null,
   "id": "cc388f23",
   "metadata": {
    "collapsed": false
   },
   "outputs": [],
   "source": [
    "basedir = Path('.').resolve()\n",
    "processed_dir = basedir / 'data/rna/processed_for_ml'\n",
    "\n",
    "\n",
    "i_to_nt = ['A', 'U', 'C', 'G', '-', 'X']\n",
    "nt_to_i = {nt:i for i, nt in enumerate(i_to_nt)}\n",
    "MSA = [s.strip() for s in open(processed_dir / '23S_alignment.txt')]\n",
    "MSA_enc = torch.tensor([[nt_to_i[nt] for nt in s] for s in MSA]).cpu()\n",
    "idxs = torch.randperm(len(MSA_enc), device='cpu')"
   ]
  },
  {
   "cell_type": "code",
   "execution_count": null,
   "id": "c9e2654f",
   "metadata": {
    "collapsed": false
   },
   "outputs": [],
   "source": [
    "num_train = int(0.8*len(MSA_enc))\n",
    "\n",
    "train_idxs = idxs[:num_train]\n",
    "val_idxs = idxs[num_train:]\n",
    "\n",
    "torch.save(MSA_enc[train_idxs], processed_dir / 'train.pt')\n",
    "torch.save(MSA_enc[val_idxs], processed_dir / 'val.pt')"
   ]
  }
 ],
 "metadata": {
  "kernelspec": {
   "argv": [
    "/data/mambaforge/envs/pytorch_hunter/bin/python",
    "-m",
    "ipykernel_launcher",
    "-f",
    "{connection_file}"
   ],
   "display_name": "Python 3 (ipykernel)",
   "env": null,
   "interrupt_mode": "signal",
   "language": "python",
   "metadata": {
    "debugger": true
   },
   "name": "python3"
  },
  "name": "01_RNA_Data_Processsing.ipynb"
 },
 "nbformat": 4,
 "nbformat_minor": 5
}
