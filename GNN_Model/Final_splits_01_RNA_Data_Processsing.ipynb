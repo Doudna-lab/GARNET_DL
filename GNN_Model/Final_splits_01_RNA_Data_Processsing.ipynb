{
 "cells": [
  {
   "cell_type": "code",
   "execution_count": 1,
   "id": "e7863d32",
   "metadata": {
    "collapsed": false
   },
   "outputs": [],
   "source": [
    "%load_ext autoreload\n",
    "%autoreload 2"
   ]
  },
  {
   "cell_type": "markdown",
   "id": "e7c04497",
   "metadata": {
    "collapsed": false
   },
   "source": [
    "DATA PROCESSING "
   ]
  },
  {
   "cell_type": "code",
   "execution_count": 2,
   "id": "3d335033",
   "metadata": {
    "collapsed": false
   },
   "outputs": [],
   "source": [
    "from Bio import SeqIO\n",
    "from Bio.PDB.PDBParser import PDBParser\n",
    "from pathlib import Path\n",
    "import numpy as np\n",
    "import pandas as pd\n",
    "import torch"
   ]
  },
  {
   "cell_type": "code",
   "execution_count": 3,
   "id": "b5599e9f",
   "metadata": {
    "collapsed": false
   },
   "outputs": [],
   "source": [
    "basedir = Path('.').resolve()\n",
    "pdb_file_path = (basedir / 'data/rna/7K00_23S.pdb').as_posix()\n",
    "parser = PDBParser(PERMISSIVE=1)\n",
    "struc = parser.get_structure('23S', pdb_file_path)\n",
    "\n",
    "wt_seq = SeqIO.read(basedir / 'data/rna/7K00_sequence.fasta', 'fasta')\n",
    "wt_seq = str(wt_seq.seq)\n",
    "\n",
    "wt_seq_match = np.asarray([nt for nt in wt_seq if nt == nt.upper()])\n",
    "res_idx_match = np.asarray([i for i,nt in enumerate(wt_seq) if nt == nt.upper()])\n",
    "# mask is for Ecoli match states (i.e. match states that are not deleted in the E-coli sequence)\n",
    "mask = np.asarray([(x != x.lower()) and (x != '-') for x in wt_seq_match])\n",
    "\n",
    "dist_map = pd.read_csv(basedir / 'data/rna/7K00_distance_map.csv', header=None).values[mask, :][:, mask]\n",
    "dist_map = torch.tensor(dist_map)\n",
    "np.save(basedir / 'data/rna/processed_for_ml' / 'distance_map.npy', dist_map.cpu().numpy())"
   ]
  },
  {
   "cell_type": "markdown",
   "id": "8a2a798b",
   "metadata": {},
   "source": [
    "## Train set - 90/10 split for early stopping"
   ]
  },
  {
   "cell_type": "code",
   "execution_count": 5,
   "id": "26abcdbc",
   "metadata": {
    "collapsed": false
   },
   "outputs": [],
   "source": [
    "allowed_chars = {'A', 'U', 'C', 'G', '-'}\n",
    "MSA = [str(s.seq) for s in SeqIO.parse(basedir / 'data/rna/processed_for_ml/feb_24_23s_final_splits/final_23S_GNN_Train.afa', 'fasta')]\n",
    "MSA = [np.asarray(list(x))[mask].tolist() for x in MSA]\n",
    "MSA = [''.join([nt if nt in allowed_chars else 'X' for nt in seq]) for seq in MSA]\n",
    "\n",
    "with open(basedir / 'data/rna/processed_for_ml/feb_24_23s_final_splits' / '23S_alignment.txt', 'w') as outfn:\n",
    "    for s in MSA:\n",
    "        outfn.write(f'{s}\\n')"
   ]
  },
  {
   "cell_type": "code",
   "execution_count": 6,
   "id": "cc388f23",
   "metadata": {
    "collapsed": false
   },
   "outputs": [],
   "source": [
    "basedir = Path('.').resolve()\n",
    "processed_dir = basedir / 'data/rna/processed_for_ml/feb_24_23s_final_splits'\n",
    "\n",
    "\n",
    "i_to_nt = ['A', 'U', 'C', 'G', '-', 'X']\n",
    "nt_to_i = {nt:i for i, nt in enumerate(i_to_nt)}\n",
    "MSA = [s.strip() for s in open(processed_dir / '23S_alignment.txt')]\n",
    "MSA_enc = torch.tensor([[nt_to_i[nt] for nt in s] for s in MSA]).cpu()\n",
    "idxs = torch.randperm(len(MSA_enc), device='cpu')"
   ]
  },
  {
   "cell_type": "code",
   "execution_count": 7,
   "id": "c9e2654f",
   "metadata": {
    "collapsed": false
   },
   "outputs": [],
   "source": [
    "num_train = int(0.9*len(MSA_enc)) # 90% train, 10% val\n",
    "\n",
    "train_idxs = idxs[:num_train]\n",
    "val_idxs = idxs[num_train:]\n",
    "\n",
    "torch.save(MSA_enc[train_idxs], processed_dir / 'train.pt')\n",
    "torch.save(MSA_enc[val_idxs], processed_dir / 'val.pt')"
   ]
  },
  {
   "cell_type": "markdown",
   "id": "dbdf9485",
   "metadata": {},
   "source": [
    "## Test set"
   ]
  },
  {
   "cell_type": "code",
   "execution_count": 10,
   "id": "b9337f72",
   "metadata": {},
   "outputs": [],
   "source": [
    "allowed_chars = {'A', 'U', 'C', 'G', '-'}\n",
    "MSA = [str(s.seq) for s in SeqIO.parse(basedir / 'data/rna/processed_for_ml/feb_24_23s_final_splits/final_23S_GNN_Test.afa', 'fasta')]\n",
    "MSA = [np.asarray(list(x))[mask].tolist() for x in MSA]\n",
    "MSA = [''.join([nt if nt in allowed_chars else 'X' for nt in seq]) for seq in MSA]\n",
    "\n",
    "with open(basedir / 'data/rna/processed_for_ml/feb_24_23s_final_splits' / '23S_alignment_test.txt', 'w') as outfn:\n",
    "    for s in MSA:\n",
    "        outfn.write(f'{s}\\n')\n",
    "\n",
    "\n"
   ]
  },
  {
   "cell_type": "code",
   "execution_count": 11,
   "id": "2688da87",
   "metadata": {},
   "outputs": [],
   "source": [
    "basedir = Path('.').resolve()\n",
    "processed_dir = basedir / 'data/rna/processed_for_ml/feb_24_23s_final_splits'\n",
    "\n",
    "\n",
    "i_to_nt = ['A', 'U', 'C', 'G', '-', 'X']\n",
    "nt_to_i = {nt:i for i, nt in enumerate(i_to_nt)}\n",
    "MSA = [s.strip() for s in open(processed_dir / '23S_alignment_test.txt')]\n",
    "MSA_enc = torch.tensor([[nt_to_i[nt] for nt in s] for s in MSA]).cpu()\n",
    "idxs = torch.randperm(len(MSA_enc), device='cpu')"
   ]
  },
  {
   "cell_type": "code",
   "execution_count": 12,
   "id": "8a45a49a",
   "metadata": {},
   "outputs": [],
   "source": [
    "torch.save(MSA_enc, processed_dir / 'test.pt')\n"
   ]
  },
  {
   "cell_type": "code",
   "execution_count": null,
   "id": "23f8112a",
   "metadata": {},
   "outputs": [],
   "source": []
  }
 ],
 "metadata": {
  "kernelspec": {
   "argv": [
    "/data/mambaforge/envs/pytorch_hunter/bin/python",
    "-m",
    "ipykernel_launcher",
    "-f",
    "{connection_file}"
   ],
   "display_name": "Python 3 (ipykernel)",
   "env": null,
   "interrupt_mode": "signal",
   "language": "python",
   "metadata": {
    "debugger": true
   },
   "name": "python3"
  },
  "language_info": {
   "codemirror_mode": {
    "name": "ipython",
    "version": 3
   },
   "file_extension": ".py",
   "mimetype": "text/x-python",
   "name": "python",
   "nbconvert_exporter": "python",
   "pygments_lexer": "ipython3",
   "version": "3.8.16"
  },
  "name": "01_RNA_Data_Processsing.ipynb"
 },
 "nbformat": 4,
 "nbformat_minor": 5
}
