{
 "cells": [
  {
   "cell_type": "code",
   "execution_count": 2,
   "id": "86a45d81",
   "metadata": {
    "collapsed": false
   },
   "outputs": [],
   "source": [
    "%load_ext autoreload\n",
    "%autoreload 2"
   ]
  },
  {
   "cell_type": "markdown",
   "id": "7b44a099",
   "metadata": {
    "collapsed": false
   },
   "source": [
    "MODEL TRAINING"
   ]
  },
  {
   "cell_type": "code",
   "execution_count": 22,
   "id": "d46eefc0",
   "metadata": {
    "collapsed": false
   },
   "outputs": [],
   "source": [
    "import time\n",
    "import numpy as np\n",
    "import pandas as pd\n",
    "from tqdm import tqdm\n",
    "import torch\n",
    "from torch.optim import Adam\n",
    "from pathlib import Path\n",
    "from torch.utils.data import TensorDataset, DataLoader\n",
    "from struct2seq.rna_features import RNAFeatures, PositionalEncodings\n",
    "from struct2seq.rna_struct2seq import RNAStruct2Seq\n",
    "from struct2seq import noam_opt\n",
    "from Bio.PDB.PDBParser import PDBParser\n",
    "from Bio import SeqIO\n",
    "from Bio.Seq import Seq\n",
    "from Bio.SeqRecord import SeqRecord"
   ]
  },
  {
   "cell_type": "code",
   "execution_count": 4,
   "id": "3631cfe6",
   "metadata": {
    "collapsed": false
   },
   "outputs": [
    {
     "data": {
      "text/plain": [
       "<module 'struct2seq' from '/home/hunter/projects/structure/structure-based-rna-model/struct2seq/__init__.py'>"
      ]
     },
     "execution_count": 4,
     "metadata": {},
     "output_type": "execute_result"
    }
   ],
   "source": [
    "import struct2seq\n",
    "struct2seq"
   ]
  },
  {
   "cell_type": "code",
   "execution_count": 5,
   "id": "9fe08bab",
   "metadata": {
    "collapsed": false
   },
   "outputs": [],
   "source": [
    "from Bio.Seq import Seq\n",
    "from Bio.SeqRecord import SeqRecord"
   ]
  },
  {
   "cell_type": "code",
   "execution_count": 6,
   "id": "cc74b539",
   "metadata": {
    "collapsed": false
   },
   "outputs": [],
   "source": [
    "gen_dir = Path('/home/hunter/projects/structure/structure-based-rna-model/generated_sequences')"
   ]
  },
  {
   "cell_type": "code",
   "execution_count": 7,
   "id": "ef2a82b2",
   "metadata": {
    "collapsed": false
   },
   "outputs": [],
   "source": [
    "basedir = Path('.').resolve()\n",
    "pdb_file_path = (basedir / 'data/rna/7K00_23S.pdb').as_posix()\n",
    "parser = PDBParser(PERMISSIVE=1)\n",
    "struc = parser.get_structure('23S', pdb_file_path)\n",
    "\n",
    "wt_seq = SeqIO.read(basedir / 'data/rna/7K00_sequence.fasta', 'fasta')\n",
    "wt_seq = str(wt_seq.seq)\n",
    "\n",
    "wt_seq_match = np.asarray([nt for nt in wt_seq if nt == nt.upper()])\n",
    "res_idx_match = np.asarray([i for i,nt in enumerate(wt_seq) if nt == nt.upper()])\n",
    "# mask is for Ecoli match states (i.e. match states that are not deleted in the E-coli sequence)\n",
    "mask = np.asarray([(x != x.lower()) and (x != '-') for x in wt_seq_match])\n"
   ]
  },
  {
   "cell_type": "code",
   "execution_count": 92,
   "id": "538a6d19",
   "metadata": {
    "collapsed": false
   },
   "outputs": [
    {
     "data": {
      "text/plain": [
       "(2870,)"
      ]
     },
     "execution_count": 92,
     "metadata": {},
     "output_type": "execute_result"
    }
   ],
   "source": [
    "mask.shape"
   ]
  },
  {
   "cell_type": "code",
   "execution_count": 93,
   "id": "807b23ac",
   "metadata": {
    "collapsed": false
   },
   "outputs": [
    {
     "data": {
      "text/plain": [
       "2719"
      ]
     },
     "execution_count": 93,
     "metadata": {},
     "output_type": "execute_result"
    }
   ],
   "source": [
    "mask.sum()"
   ]
  },
  {
   "cell_type": "code",
   "execution_count": 8,
   "id": "6de60de4",
   "metadata": {
    "collapsed": false
   },
   "outputs": [],
   "source": [
    "gap_idxs = []\n",
    "non_gap_idxs = []\n",
    "i = 0\n",
    "for nt in wt_seq:\n",
    "    if nt == nt.upper():\n",
    "        # match state\n",
    "        if nt == '-':\n",
    "            gap_idxs.append(i)\n",
    "        else:\n",
    "            non_gap_idxs.append(i)\n",
    "        i += 1\n",
    "    else:\n",
    "        continue"
   ]
  },
  {
   "cell_type": "code",
   "execution_count": 9,
   "id": "2c272770",
   "metadata": {
    "collapsed": false
   },
   "outputs": [],
   "source": [
    "basedir = Path('.').resolve()\n",
    "processed_dir = basedir / 'data/rna/processed_for_ml'\n",
    "\n",
    "X_train = torch.load(processed_dir / 'train.pt')\n",
    "X_val = torch.load(processed_dir / 'val.pt')\n",
    "\n",
    "batch_size = 10*2\n",
    "train_dl = DataLoader(TensorDataset(X_train), batch_size=batch_size)\n",
    "val_dl = DataLoader(TensorDataset(X_val), batch_size=batch_size, shuffle=False)\n",
    "\n",
    "\n",
    "dist_map = torch.tensor(np.load(processed_dir / 'distance_map.npy'), device='cpu')"
   ]
  },
  {
   "cell_type": "code",
   "execution_count": 85,
   "id": "0bc9e925",
   "metadata": {
    "collapsed": false
   },
   "outputs": [
    {
     "data": {
      "text/plain": [
       "PosixPath('/home/hunter/projects/structure/structure-based-rna-model/data/rna/processed_for_ml/distance_map.npy')"
      ]
     },
     "execution_count": 85,
     "metadata": {},
     "output_type": "execute_result"
    }
   ],
   "source": [
    "processed_dir / 'distance_map.npy'"
   ]
  },
  {
   "cell_type": "code",
   "execution_count": 10,
   "id": "578c034a",
   "metadata": {
    "collapsed": false
   },
   "outputs": [],
   "source": [
    "i_to_nt = ['A', 'U', 'C', 'G', '-', 'X']\n",
    "nt_to_i = {nt:i for i, nt in enumerate(i_to_nt)}"
   ]
  },
  {
   "cell_type": "code",
   "execution_count": 11,
   "id": "48771a57",
   "metadata": {
    "collapsed": false
   },
   "outputs": [],
   "source": [
    "seed = torch.tensor([nt_to_i[nt] for nt in wt_seq_match[:100]])"
   ]
  },
  {
   "cell_type": "code",
   "execution_count": 89,
   "id": "2734a11d",
   "metadata": {
    "collapsed": false
   },
   "outputs": [
    {
     "data": {
      "text/plain": [
       "<All keys matched successfully>"
      ]
     },
     "execution_count": 89,
     "metadata": {},
     "output_type": "execute_result"
    }
   ],
   "source": [
    "vocab_size = 6\n",
    "num_node_feats = 64\n",
    "num_edge_feats = 64\n",
    "hidden_dim = 128\n",
    "num_encoder_layers = 1\n",
    "num_decoder_layers = 3\n",
    "\n",
    "k_nbrs = 50\n",
    "device = 'cuda'\n",
    "\n",
    "\n",
    "model = RNAStruct2Seq(vocab_size, num_node_feats, num_edge_feats, dist_map, hidden_dim, num_encoder_layers, num_decoder_layers, k_nbrs)\n",
    "model.to(device)\n",
    "\n",
    "base_folder = Path('/home/hunter/projects/structure/structure-based-rna-model/log/feb4_rna_hidden_dim_128_k_nbrs_50')\n",
    "model_name = base_folder.name\n",
    "\n",
    "sd = torch.load( base_folder / 'models' / 'checkpoint_32.pt', map_location=torch.device('cpu'))['model_state_dict']\n",
    "for k, v in list(sd.items()):\n",
    "    sd[k.split('module.')[1]] = sd.pop(k)\n",
    "model.load_state_dict(sd)"
   ]
  },
  {
   "cell_type": "code",
   "execution_count": 91,
   "id": "936dcf00",
   "metadata": {
    "collapsed": false
   },
   "outputs": [
    {
     "data": {
      "text/plain": [
       "2719"
      ]
     },
     "execution_count": 91,
     "metadata": {},
     "output_type": "execute_result"
    }
   ],
   "source": [
    "len(seqs[0])"
   ]
  },
  {
   "cell_type": "code",
   "execution_count": 88,
   "id": "fd536060",
   "metadata": {
    "collapsed": false
   },
   "outputs": [],
   "source": [
    "torch.load??"
   ]
  },
  {
   "cell_type": "code",
   "execution_count": 110,
   "id": "0bacd5b1",
   "metadata": {
    "collapsed": false
   },
   "outputs": [],
   "source": [
    "np.save('23s_gnn_seq_mask.npy', mask)"
   ]
  },
  {
   "cell_type": "code",
   "execution_count": 109,
   "id": "3358effc",
   "metadata": {
    "collapsed": false
   },
   "outputs": [
    {
     "name": "stdout",
     "output_type": "stream",
     "text": [
      "/home/hunter/projects/structure/structure-based-rna-model\r\n"
     ]
    }
   ],
   "source": [
    "! pwd"
   ]
  },
  {
   "cell_type": "code",
   "execution_count": null,
   "id": "4c8cad86",
   "metadata": {
    "collapsed": false
   },
   "outputs": [],
   "source": [
    "sd"
   ]
  },
  {
   "cell_type": "code",
   "execution_count": null,
   "id": "3a8d7c4b",
   "metadata": {
    "collapsed": false
   },
   "outputs": [],
   "source": [
    "base_folder / 'models' / 'checkpoint_32.pt'"
   ]
  },
  {
   "cell_type": "code",
   "execution_count": 13,
   "id": "4bac0ea0",
   "metadata": {
    "collapsed": false
   },
   "outputs": [],
   "source": [
    "X = X_train[:10]"
   ]
  },
  {
   "cell_type": "code",
   "execution_count": 14,
   "id": "1adaf8b3",
   "metadata": {
    "collapsed": false
   },
   "outputs": [
    {
     "data": {
      "text/plain": [
       "torch.Size([10, 2719])"
      ]
     },
     "execution_count": 14,
     "metadata": {},
     "output_type": "execute_result"
    }
   ],
   "source": [
    "X.shape"
   ]
  },
  {
   "cell_type": "code",
   "execution_count": 35,
   "id": "1a123385",
   "metadata": {
    "collapsed": false
   },
   "outputs": [],
   "source": [
    "\n",
    "seqs = [''.join([i_to_nt[i] for i in s]) for s in X]\n",
    "with open('example_input_log_liks.fa', 'w') as outfn:\n",
    "    #SeqIO.write([SeqRecord(Seq(s), name=f'seq_{i}', id=f'seq_{i}', description='') for i,s in enumerate(seqs)], outfn, 'fasta')\n",
    "    SeqIO.write([SeqRecord(Seq(s), id=f'seq_{i}', description='') for i,s in enumerate(seqs)], outfn, 'fasta')"
   ]
  },
  {
   "cell_type": "code",
   "execution_count": 111,
   "id": "91755dc2",
   "metadata": {
    "collapsed": false
   },
   "outputs": [],
   "source": [
    "with open('example_input_log_liks.fa', 'w') as outfn:\n",
    "    #SeqIO.write([SeqRecord(Seq(s), name=f'seq_{i}', id=f'seq_{i}', description='') for i,s in enumerate(seqs)], outfn, 'fasta')\n",
    "    SeqIO.write([SeqRecord(Seq(s), id=f'seq_{i}', description='') for i,s in enumerate(seqs_full)], outfn, 'fasta')"
   ]
  },
  {
   "cell_type": "code",
   "execution_count": null,
   "id": "aae924ec",
   "metadata": {
    "collapsed": false
   },
   "outputs": [],
   "source": []
  },
  {
   "cell_type": "code",
   "execution_count": null,
   "id": "0e0922b8",
   "metadata": {
    "collapsed": false
   },
   "outputs": [],
   "source": [
    "ids, seqs = zip(*[(s.id, str(s.seq)) for s in SeqIO.parse('example_input_log_liks.fa', 'fasta')])"
   ]
  },
  {
   "cell_type": "code",
   "execution_count": 94,
   "id": "dbf7c16f",
   "metadata": {
    "collapsed": false
   },
   "outputs": [],
   "source": [
    "seqs_full = []\n",
    "for s in seqs:\n",
    "    base_seq = ['-' for _ in range(2870)]\n",
    "    for i, nt in enumerate(s):\n",
    "        match_idx = non_gap_idxs[i]\n",
    "        base_seq[match_idx] = nt\n",
    "    seqs_full.append(''.join(base_seq))\n"
   ]
  },
  {
   "cell_type": "code",
   "execution_count": 103,
   "id": "ff4c9799",
   "metadata": {
    "collapsed": false
   },
   "outputs": [],
   "source": [
    "X = torch.tensor([[nt_to_i[nt] for nt in s] for s in seqs_full])\n",
    "X = X[:, mask]\n",
    "bs = 3"
   ]
  },
  {
   "cell_type": "code",
   "execution_count": 104,
   "id": "9af2525c",
   "metadata": {
    "collapsed": false
   },
   "outputs": [],
   "source": [
    "import math\n",
    "bs = 300\n",
    "num_batches = math.ceil(len(X) / bs)\n",
    "X_b = [X[i*bs:(i+1)*bs] for i in range(num_batches)]"
   ]
  },
  {
   "cell_type": "code",
   "execution_count": 116,
   "id": "635aed31",
   "metadata": {
    "collapsed": false
   },
   "outputs": [],
   "source": [
    "with torch.no_grad():\n",
    "    model.eval()\n",
    "    log_liks = []\n",
    "    for x in X_b:\n",
    "        log_probs = model(x.to(device)).cpu()\n",
    "        log_lik = (F.one_hot(x, num_classes=6) * log_probs).sum(dim=-1).sum(dim=-1)\n",
    "        log_liks.append(log_lik) \n",
    "    log_liks = torch.cat(log_liks)\n"
   ]
  },
  {
   "cell_type": "code",
   "execution_count": 121,
   "id": "0da71e4a",
   "metadata": {
    "collapsed": false
   },
   "outputs": [
    {
     "data": {
      "text/plain": [
       "tensor([ -612.9986, -1186.5546,  -518.7361,  -559.0251,  -457.8282,  -509.4339,\n",
       "        -1159.2383, -1382.2355,  -631.2004,  -406.8903])"
      ]
     },
     "execution_count": 121,
     "metadata": {},
     "output_type": "execute_result"
    }
   ],
   "source": [
    "log_liks"
   ]
  },
  {
   "cell_type": "code",
   "execution_count": 86,
   "id": "dfd6c2a4",
   "metadata": {
    "collapsed": false
   },
   "outputs": [],
   "source": [
    "tqdm??"
   ]
  },
  {
   "cell_type": "code",
   "execution_count": 82,
   "id": "07b99254",
   "metadata": {
    "collapsed": false
   },
   "outputs": [
    {
     "data": {
      "text/plain": [
       "tensor([ -676.8492, -1218.4702,  -585.6978,  -616.0959,  -519.2441,  -561.7820,\n",
       "        -1289.5763, -1406.0199,  -709.9355,  -467.1389])"
      ]
     },
     "execution_count": 82,
     "metadata": {},
     "output_type": "execute_result"
    }
   ],
   "source": [
    "log_liks"
   ]
  },
  {
   "cell_type": "code",
   "execution_count": 76,
   "id": "c349f69d",
   "metadata": {
    "collapsed": false
   },
   "outputs": [
    {
     "data": {
      "text/plain": [
       "tensor([ -686.3457, -1221.1766,  -578.9321,  -603.1350,  -524.7407,  -567.9171,\n",
       "        -1300.1755, -1412.5791,  -702.7637,  -474.2002])"
      ]
     },
     "execution_count": 76,
     "metadata": {},
     "output_type": "execute_result"
    }
   ],
   "source": []
  },
  {
   "cell_type": "code",
   "execution_count": 77,
   "id": "d10ef0b6",
   "metadata": {
    "collapsed": false
   },
   "outputs": [],
   "source": [
    "import torch.nn.functional as F\n",
    "with torch.no_grad():\n",
    "    log_probs = model(X.to(device)).cpu()\n",
    "    log_liks = (F.one_hot(X, num_classes=6) * log_probs).sum(dim=-1).sum(dim=-1)"
   ]
  },
  {
   "cell_type": "code",
   "execution_count": 78,
   "id": "0b32a0a0",
   "metadata": {
    "collapsed": false
   },
   "outputs": [
    {
     "data": {
      "text/plain": [
       "tensor([ -687.3654, -1239.9462,  -576.2243,  -611.2439,  -535.4435,  -578.5801,\n",
       "        -1252.9130, -1395.0033,  -697.7129,  -474.5015])"
      ]
     },
     "execution_count": 78,
     "metadata": {},
     "output_type": "execute_result"
    }
   ],
   "source": [
    "log_liks"
   ]
  },
  {
   "cell_type": "code",
   "execution_count": 50,
   "id": "650589ae",
   "metadata": {
    "collapsed": false
   },
   "outputs": [],
   "source": []
  },
  {
   "cell_type": "code",
   "execution_count": 51,
   "id": "8a8edaaf",
   "metadata": {
    "collapsed": false
   },
   "outputs": [
    {
     "data": {
      "text/plain": [
       "tensor([ -696.3499, -1234.9120,  -579.7871,  -612.3955,  -542.2399,  -568.0223,\n",
       "        -1278.6691, -1405.7983,  -695.4719,  -465.7080])"
      ]
     },
     "execution_count": 51,
     "metadata": {},
     "output_type": "execute_result"
    }
   ],
   "source": [
    "log_liks"
   ]
  },
  {
   "cell_type": "code",
   "execution_count": 60,
   "id": "98b50cfc",
   "metadata": {
    "collapsed": false
   },
   "outputs": [
    {
     "data": {
      "text/plain": [
       "tensor([ 697.4835, 1231.3704,  589.2134,  603.2424,  531.9867,  557.1047,\n",
       "        1280.0836, 1401.2496,  710.1725,  472.6102])"
      ]
     },
     "execution_count": 60,
     "metadata": {},
     "output_type": "execute_result"
    }
   ],
   "source": [
    "torch.nn.NLLLoss(reduction='none')(log_probs.contiguous().view(-1, 6).cpu(), X.reshape(-1)).reshape(X.shape).sum(dim=-1)"
   ]
  },
  {
   "cell_type": "code",
   "execution_count": 61,
   "id": "7fd17218",
   "metadata": {
    "collapsed": false
   },
   "outputs": [
    {
     "data": {
      "text/plain": [
       "tensor([ -697.4835, -1231.3704,  -589.2134,  -603.2424,  -531.9867,  -557.1047,\n",
       "        -1280.0836, -1401.2496,  -710.1725,  -472.6102])"
      ]
     },
     "execution_count": 61,
     "metadata": {},
     "output_type": "execute_result"
    }
   ],
   "source": [
    "log_liks"
   ]
  },
  {
   "cell_type": "code",
   "execution_count": 34,
   "id": "9fc0e304",
   "metadata": {
    "collapsed": false
   },
   "outputs": [
    {
     "data": {
      "text/plain": [
       "tensor([[3, 2, 3,  ..., 3, 2, 2]])"
      ]
     },
     "execution_count": 34,
     "metadata": {},
     "output_type": "execute_result"
    }
   ],
   "source": [
    "X_train[0].reshape(1, -1)"
   ]
  },
  {
   "cell_type": "code",
   "execution_count": 36,
   "id": "1ee5028e",
   "metadata": {
    "collapsed": false
   },
   "outputs": [
    {
     "data": {
      "text/plain": [
       "tensor([[-1.5599, -2.2777, -2.5525, -0.5960, -3.1567, -4.1420],\n",
       "        [-1.2484, -3.1919, -3.6134, -0.4897, -4.1255, -4.1351],\n",
       "        [-1.7092, -1.4685, -2.1836, -0.8164, -3.9568, -4.2042],\n",
       "        ...,\n",
       "        [-1.8448, -2.6413, -2.3605, -0.4539, -3.7989, -3.9760],\n",
       "        [-3.6633, -2.5730, -0.1615, -4.1981, -4.0864, -4.1737],\n",
       "        [-0.4906, -1.7554, -2.1965, -2.6877, -3.9264, -4.1373]])"
      ]
     },
     "execution_count": 36,
     "metadata": {},
     "output_type": "execute_result"
    }
   ],
   "source": [
    "log_probs.contiguous().view(-1, 6).cpu()"
   ]
  },
  {
   "cell_type": "code",
   "execution_count": 12,
   "id": "344c983f",
   "metadata": {
    "collapsed": false
   },
   "outputs": [
    {
     "data": {
      "text/plain": [
       "tensor([3, 2, 3,  ..., 3, 2, 2])"
      ]
     },
     "execution_count": 12,
     "metadata": {},
     "output_type": "execute_result"
    }
   ],
   "source": [
    "X_train[0]"
   ]
  },
  {
   "cell_type": "code",
   "execution_count": null,
   "id": "65c81ee6",
   "metadata": {
    "collapsed": false
   },
   "outputs": [
    {
     "name": "stderr",
     "output_type": "stream",
     "text": [
      "\r",
      "  0%|                                                                                                                 | 0/50 [00:00<?, ?it/s]"
     ]
    },
    {
     "name": "stderr",
     "output_type": "stream",
     "text": [
      "\r",
      "  2%|██                                                                                                       | 1/50 [00:07<06:26,  7.89s/it]"
     ]
    },
    {
     "name": "stderr",
     "output_type": "stream",
     "text": [
      "\r",
      "  4%|████▏                                                                                                    | 2/50 [00:15<06:13,  7.78s/it]"
     ]
    }
   ],
   "source": [
    "%%time\n",
    "\n",
    "batch = next(iter(train_dl))[0].to(device)\n",
    "\n",
    "for temperature in np.linspace(0.1, 1.0, 10):\n",
    "    temperature = round(temperature, 1)\n",
    "    all_seqs = []\n",
    "    for g in tqdm(range(50)):\n",
    "        with torch.no_grad():\n",
    "            res = model.sample(batch, temperature=temperature, seed=seed)\n",
    "            seqs = [''.join([i_to_nt[i] for i in x]) for x in res]\n",
    "            for s in seqs:\n",
    "                base_seq = ['-' for _ in range(2870)]\n",
    "                for i, nt in enumerate(s):\n",
    "                    match_idx = non_gap_idxs[i]\n",
    "                    base_seq[match_idx] = nt\n",
    "                all_seqs.append(''.join(base_seq))\n",
    "\n",
    "\n",
    "    seq_records = []\n",
    "    for i, s in enumerate(all_seqs, start=1):\n",
    "        dname = f'sample_temp_{temperature:0.2}_{i:04}'\n",
    "        sr = SeqRecord(Seq(s), id=dname, name=dname, description='')\n",
    "        seq_records.append(sr)\n",
    "\n",
    "    output_dir = (gen_dir / model_name)\n",
    "    output_dir.mkdir(exist_ok=True)\n",
    "    output_file = output_dir / f'pretrained_sampled_seqs_temp_{temperature}.fa'\n",
    "    with open(output_file, 'w') as oh:\n",
    "        SeqIO.write(seq_records, oh, \"fasta\")"
   ]
  },
  {
   "cell_type": "code",
   "execution_count": null,
   "id": "b10b14a7",
   "metadata": {
    "collapsed": false
   },
   "outputs": [],
   "source": [
    "vocab_size = 6\n",
    "num_node_feats = 64\n",
    "num_edge_feats = 64\n",
    "hidden_dim = 128\n",
    "num_encoder_layers = 1\n",
    "num_decoder_layers = 3\n",
    "\n",
    "k_nbrs = 50\n",
    "device = 'cuda'\n",
    "\n",
    "model = RNAStruct2Seq(vocab_size, num_node_feats, num_edge_feats, dist_map, hidden_dim, num_encoder_layers, num_decoder_layers, k_nbrs)\n",
    "model.to(device)\n",
    "\n",
    "base_folder = Path('/home/hunter/projects/structure/structure-based-rna-model/log/thermophile_finetuning_200_epochs_rna_hidden_dim_128_k_nbrs_50')\n",
    "model_name = base_folder.name\n",
    "\n",
    "sd = torch.load( base_folder / 'models' / 'checkpoint_125.pt')['model_state_dict']\n",
    "for k, v in list(sd.items()):\n",
    "    sd[k.split('module.')[1]] = sd.pop(k)\n",
    "model.load_state_dict(sd)"
   ]
  },
  {
   "cell_type": "code",
   "execution_count": null,
   "id": "6b368a5b",
   "metadata": {
    "collapsed": false
   },
   "outputs": [],
   "source": [
    "%%time\n",
    "\n",
    "batch = next(iter(train_dl))[0].to(device)\n",
    "\n",
    "temperature = 0.3\n",
    "for temperature in np.linspace(0.1, 1.0, 10):\n",
    "    temperature = round(temperature, 1)\n",
    "    all_seqs = []\n",
    "    for g in tqdm(range(50)):\n",
    "        with torch.no_grad():\n",
    "            res = model.sample(batch, temperature=temperature, seed=seed)\n",
    "            seqs = [''.join([i_to_nt[i] for i in x]) for x in res]\n",
    "            for s in seqs:\n",
    "                base_seq = ['-' for _ in range(2870)]\n",
    "                for i, nt in enumerate(s):\n",
    "                    match_idx = non_gap_idxs[i]\n",
    "                    base_seq[match_idx] = nt\n",
    "                all_seqs.append(''.join(base_seq))\n",
    "\n",
    "\n",
    "    seq_records = []\n",
    "    for i, s in enumerate(all_seqs, start=1):\n",
    "        dname = f'sample_temp_{temperature:0.2}_{i:04}'\n",
    "        sr = SeqRecord(Seq(s), id=dname, name=dname, description='')\n",
    "        seq_records.append(sr)\n",
    "\n",
    "    output_dir = (gen_dir / model_name)\n",
    "    output_dir.mkdir(exist_ok=True)\n",
    "    output_file = output_dir / f'finetuned_sampled_seqs_temp_{temperature}.fa'\n",
    "    with open(output_file, 'w') as oh:\n",
    "        SeqIO.write(seq_records, oh, \"fasta\")"
   ]
  },
  {
   "cell_type": "code",
   "execution_count": null,
   "id": "029ad5cd",
   "metadata": {
    "collapsed": false
   },
   "outputs": [],
   "source": []
  },
  {
   "cell_type": "code",
   "execution_count": null,
   "id": "d9d72791",
   "metadata": {
    "collapsed": false
   },
   "outputs": [],
   "source": []
  }
 ],
 "metadata": {
  "kernelspec": {
   "argv": [
    "/data/mambaforge/envs/pytorch_hunter/bin/python",
    "-m",
    "ipykernel_launcher",
    "-f",
    "{connection_file}"
   ],
   "display_name": "Python 3 (ipykernel)",
   "env": null,
   "interrupt_mode": "signal",
   "language": "python",
   "metadata": {
    "debugger": true
   },
   "name": "python3"
  },
  "name": "03_RNA_Generate.ipynb"
 },
 "nbformat": 4,
 "nbformat_minor": 5
}
