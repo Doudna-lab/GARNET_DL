{
 "cells": [
  {
   "cell_type": "code",
   "execution_count": 17,
   "id": "d9037bdc-1658-47f8-b123-d8130ea515e7",
   "metadata": {
    "scrolled": true
   },
   "outputs": [
    {
     "name": "stdout",
     "output_type": "stream",
     "text": [
      "Superset_Thermo_Finetune.fa 3458844\n",
      "Superset_Thermo_Test.fa 96379\n",
      "Superset_Test.fa 30805909\n",
      "Superset_Train.fa 274214273\n",
      "mini_rfam.fa 150819705\n",
      "final_5S_LM.fa 6357623\n",
      "final_16S_LM.fa 53783103\n",
      "final_23S_LM.fa 94059751\n",
      "23S_test.fa 65542\n",
      "23S_train.fa 1381832\n",
      "23S_train.fa 88626289\n"
     ]
    }
   ],
   "source": [
    "fastas = [\"/home/ubuntu/datasets/db1/traintestval_split/CD_Hit/Custom_CD_Hit/Hierarchical_Clustering/Final_Train_Test/Superset/Superset_Thermo_Finetune.fa\",\n",
    "          \"/home/ubuntu/datasets/db1/traintestval_split/CD_Hit/Custom_CD_Hit/Hierarchical_Clustering/Final_Train_Test/Superset/Superset_Thermo_Test.fa\",\n",
    "          \"/home/ubuntu/datasets/db1/traintestval_split/CD_Hit/Custom_CD_Hit/Hierarchical_Clustering/Final_Train_Test/Superset/Superset_Test.fa\",\n",
    "          \"/home/ubuntu/datasets/db1/traintestval_split/CD_Hit/Custom_CD_Hit/Hierarchical_Clustering/Final_Train_Test/Superset/Superset_Train.fa\",\n",
    "          \"/home/ubuntu/datasets/alignments/mini_Rfam/mini_rfam.fa\",\n",
    "          \"/home/ubuntu/datasets/alignments/5S_rRNA/final_alignments/final_5S_LM.fa\",\n",
    "          \"/home/ubuntu/datasets/alignments/16S_rRNA/final_alignments/final_16S_LM.fa\", \n",
    "          \"/home/ubuntu/datasets/alignments/23S_rRNA/final_alignments/final_23S_LM.fa\",\n",
    "          \"/home/ubuntu/datasets/db1/traintestval_split/CD_Hit/Custom_CD_Hit/Hierarchical_Clustering/Final_Train_Test/Thermophiles/23S_test.fa\",\n",
    "          \"/home/ubuntu/datasets/db1/traintestval_split/CD_Hit/Custom_CD_Hit/Hierarchical_Clustering/Final_Train_Test/Thermophiles/23S_train.fa\",\n",
    "          \"/home/ubuntu/datasets/db1/traintestval_split/CD_Hit/Custom_CD_Hit/Hierarchical_Clustering/Final_Train_Test/23S_train.fa\"\n",
    "         ]\n",
    "for fa in fastas:\n",
    "    original_fasta = fa\n",
    "    out = int(subprocess.check_output(f\"seqkit stats {original_fasta}\",\n",
    "                                                        shell=True, text=True).split()[12].replace(\",\", \"\"))\n",
    "    print(fa.split(\"/\")[-1], out)"
   ]
  },
  {
   "cell_type": "code",
   "execution_count": 20,
   "id": "71da7f04-f756-438d-8080-5699d11627a2",
   "metadata": {},
   "outputs": [
    {
     "data": {
      "text/plain": [
       "2605716"
      ]
     },
     "execution_count": 20,
     "metadata": {},
     "output_type": "execute_result"
    }
   ],
   "source": [
    "ogt_df = pd.read_csv(\"OGT_Comparison_Dataset.csv\")\n",
    "thermo_df = ogt_df.loc[ogt_df.TOME_Predicted_OGT_Celsius >= 60]\n",
    "thermo_acc = thermo_df.GTDB_Genome_Accession.to_list()\n",
    "fa = \"/home/ubuntu/datasets/db1/traintestval_split/CD_Hit/Custom_CD_Hit/Hierarchical_Clustering/Final_Train_Test/Superset/Superset_Train.fa\"\n",
    "np.sum([len(record.seq)for record in SeqIO.parse(fa, \"fasta\") if record.id.split(\"__\")[0] in thermo_acc])\n"
   ]
  },
  {
   "cell_type": "code",
   "execution_count": null,
   "id": "9d321de9-f57a-4148-985f-032562411fa7",
   "metadata": {},
   "outputs": [],
   "source": [
    "23S Pretrained Thermophilic Tokens: 1,162,403/88,626,289\n",
    "23S Finetuned Thermophilic Tokens: 1,381,832\n",
    "231 Pretrained Thermophilic Tokens: 2,605,716/274,214,273\n",
    "231 Finetuned Thermophilic Tokens: 3,458,844"
   ]
  },
  {
   "cell_type": "markdown",
   "id": "178ff875-823c-40fc-b04f-d9c54fc5a259",
   "metadata": {},
   "source": [
    "# <u>SUMMARY</u>\n",
    "\n",
    "Notebook summarizes hierarchical clustering with CD-HIT-EST and subsequent train/test splits for the following RFAM datasets:\n",
    "- I. Hierarchical clustering and train/test split of 5S, 16S and 23S datasets\n",
    "    - Implement individual 95/5 split for number of sequences in 5S, 16S and 23S datasets\n",
    "- II. Hierarchical Clustering and train/test split: 228 Rfam Set\n",
    "    - Implement 90/10 split on all tokens in 231 Rfam set\n",
    "- III. Aggregate 231 Rfam train/test superset:\n",
    "    - Create supersets for training and testing by concatenating rRNA Rfams with 228 Rfam train/test, repsectively\n",
    "    - Create thermophile finetuning set:\n",
    "        - Reserve 10% of all thermophile tokens in superset-test for thermophile-finetuning test set\n",
    "        - Reserve all thermophile tokens not in the thermophile-finetuning test set for finetuning\n",
    "  \n",
    "Code written for AWS Parallel Cluster."
   ]
  },
  {
   "cell_type": "markdown",
   "id": "d72f7601-3ff2-4ea6-b89c-69f4f49b3286",
   "metadata": {},
   "source": [
    "## I. <i>Hierarchical Clustering and train/test split of 5S, 16S and 23S Datasets</i>"
   ]
  },
  {
   "cell_type": "code",
   "execution_count": 2,
   "id": "7fc48ce9-d514-4c0d-80f0-ca90f7a44b17",
   "metadata": {},
   "outputs": [],
   "source": [
    "#### IMPORT LIBS AND DEF FX's ####\n",
    "import os, sys, subprocess, glob\n",
    "import pandas as pd\n",
    "import numpy as np\n",
    "import re\n",
    "from Bio import SeqIO\n",
    "from collections import defaultdict\n",
    "from collections import Counter\n",
    "np.random.seed(31415)\n",
    "\n",
    "## FUNCTIONS\n",
    "\n",
    "def subset_fasta_inclusion(id_list_file, sequence_ids, input_fasta, out_fasta):\n",
    "    \"\"\"\n",
    "    Subsets a FASTA file to only include specified sequences.\n",
    "\n",
    "    Parameters:\n",
    "    id_list_file (str): File path to save the list of sequence IDs to include.\n",
    "    sequence_ids (list): List of sequence IDs to include in the subset.\n",
    "    input_fasta (str): Path to the original FASTA file to subset.\n",
    "    out_fasta (str): File path to save the subsetted FASTA file.\n",
    "    \"\"\"\n",
    "    print(f\"## N_seqs: {len(sequence_ids)}\")\n",
    "    \n",
    "    # Write the list of IDs to a file\n",
    "    with open(id_list_file, \"w\") as f:\n",
    "        f.writelines(\"\\n\".join(sequence_ids))\n",
    "    \n",
    "    # Subset the original FASTA file using seqkit\n",
    "    os.system(f\"seqkit grep -f {id_list_file} {input_fasta} > {out_fasta}\")\n",
    "\n",
    "def subset_fasta_exclusion(id_list_file, sequence_ids, input_fasta, out_fasta):\n",
    "    \"\"\"\n",
    "    Subsets a FASTA file to exclude specified sequences.\n",
    "\n",
    "    Parameters:\n",
    "    id_list_file (str): File path to save the list of sequence IDs to include.\n",
    "    sequence_ids (list): List of sequence IDs to include in the subset.\n",
    "    input_fasta (str): Path to the original FASTA file to subset.\n",
    "    out_fasta (str): File path to save the subsetted FASTA file.\n",
    "    \"\"\"\n",
    "    print(f\"## N_seqs: {len(sequence_ids)}\")\n",
    "    \n",
    "    # Write the list of IDs to a file\n",
    "    with open(id_list_file, \"w\") as f:\n",
    "        f.writelines(\"\\n\".join(sequence_ids))\n",
    "    \n",
    "    # Subset the original FASTA file using seqkit\n",
    "    os.system(f\"\"\"seqkit grep -f {id_list_file} -v {input_fasta} > {out_fasta}\"\"\")\n",
    "\n",
    "def get_fasta_ids(input_fasta):\n",
    "    return [record.id for record in SeqIO.parse(input_fasta, \"fasta\")]\n",
    "\n",
    "def write_bash_script(script_id, script_contents):\n",
    "    \"\"\"Write bash script from list of commands.\"\"\"\n",
    "    with open(script_id, \"w\") as f:\n",
    "        f.writelines(\"\\n\".join(script_contents))\n",
    "    return None\n",
    "\n",
    "def add_suffix_to_fasta(input_file, output_file, suffix):\n",
    "    \"\"\"Add suffix (e.g. Rfam ID) to fasta ids\"\"\"\n",
    "    \n",
    "    # Create seq dict and append Rfam suffix to id\n",
    "    seq_dict = {f\">{record.id}{suffix}\":record.seq for record in SeqIO.parse(input_file, \"fasta\")}\n",
    "    \n",
    "    with open(output_file, \"w\") as output_handle:\n",
    "        for id_x,seq in seq_dict.items():\n",
    "            output_handle.write(f\"{id_x}\\n{seq}\\n\")"
   ]
  },
  {
   "cell_type": "code",
   "execution_count": 2,
   "id": "6b8df1bc-fa14-41bb-96cd-f80f2b96ac07",
   "metadata": {},
   "outputs": [
    {
     "name": "stdout",
     "output_type": "stream",
     "text": [
      "5S /home/ubuntu/datasets/alignments/5S_rRNA/final_alignments/final_5S_LM.fa /mnt/efs/fs1/software/Manuscript/GTDB_Data_Curation_and_Preprocessing/Hierarchical_Clustering/5S/\n",
      "16S /home/ubuntu/datasets/alignments/16S_rRNA/final_alignments/final_16S_LM.fa /mnt/efs/fs1/software/Manuscript/GTDB_Data_Curation_and_Preprocessing/Hierarchical_Clustering/16S/\n",
      "23S /home/ubuntu/datasets/alignments/23S_rRNA/final_alignments/final_23S_LM.fa /mnt/efs/fs1/software/Manuscript/GTDB_Data_Curation_and_Preprocessing/Hierarchical_Clustering/23S/\n"
     ]
    }
   ],
   "source": [
    "#### CD HIT: Cluster rRNA ####\n",
    "## VARIABLES \n",
    "# Results directory\n",
    "cluster_dir = \"/mnt/efs/fs1/software/Manuscript/GTDB_Data_Curation_and_Preprocessing/Hierarchical_Clustering/\"\n",
    "\n",
    "# Customized CD-HIT-EST Executable\n",
    "cd_hit=\"/home/ubuntu/software/cdhit_custom/cdhit/cd-hit-est\"\n",
    "\n",
    "# Customized CD-HIT executable for output merging\n",
    "cluster_rev = \"/home/ubuntu/software/cdhit_custom/cdhit/clstr_rev.pl\"\n",
    "\n",
    "# Threads\n",
    "threads = \"$SLURM_CPUS_ON_NODE\"\n",
    "\n",
    "# Rfam rRNA datasets\n",
    "fasta_dict = {\"5S\":\"/home/ubuntu/datasets/alignments/5S_rRNA/final_alignments/final_5S_LM.fa\",\n",
    "              \"16S\":\"/home/ubuntu/datasets/alignments/16S_rRNA/final_alignments/final_16S_LM.fa\", \n",
    "              \"23S\":\"/home/ubuntu/datasets/alignments/23S_rRNA/final_alignments/final_23S_LM.fa\", \n",
    "             }\n",
    "\n",
    "# Num nodes:\n",
    "n_nodes = {\"5S\":1, \"16S\":1, \"23S\":2}\n",
    "\n",
    "## FOR EACH FASTA\n",
    "bash_scripts = []\n",
    "all_cluster_dirs = []\n",
    "for rfam,fasta in fasta_dict.items():\n",
    "    # SETUP\n",
    "    out_dir = f\"{cluster_dir}{rfam}/\"\n",
    "    all_cluster_dirs.append(out_dir)\n",
    "    print(rfam,fasta, out_dir)\n",
    "\n",
    "    # Make subdir for Rfam clusters\n",
    "    if not os.path.exists(out_dir):\n",
    "        os.mkdir(out_dir)\n",
    "    \n",
    "    out_rfam = f\"{out_dir}{rfam}_Identity\"\n",
    "    bash_script_name = f\"{out_dir}{rfam}_vHierarchical.sh\"\n",
    "    bash_scripts.append(bash_script_name)\n",
    "\n",
    "    # WRITE BASH SCRIPT\n",
    "    cd_hit_script = f\"\"\"#!/bin/bash\n",
    "#SBATCH --job-name={rfam}\n",
    "#SBATCH --output={rfam}job_output.log\n",
    "#SBATCH --partition=cpu-c6i-16xlarge\n",
    "#SBATCH --exclusive\n",
    "#SBATCH --nodes={n_nodes[rfam]}\n",
    "\n",
    "## SETUP\n",
    "# ACTIVATE CONDA\n",
    "source /home/ubuntu/anaconda3/etc/profile.d/conda.sh\n",
    "conda activate Data_Preprocessing_Env\n",
    "\n",
    "# VARIABLES\n",
    "memory=0 # Unlimited = 0  #c6.16xL: 128000 MB\n",
    "def_line=0 # Grab entire header before first space\n",
    "mode=1 # Mode 1 has highest accuracy\n",
    "\n",
    "# START TIME\n",
    "start_time=$(date +\"%Y-%m-%d %H:%M:%S\")\n",
    "\n",
    "## CD-HIT\n",
    "# CLUSTER HIERARCHICALLY\n",
    "{cd_hit} -i {fasta} -o {out_rfam}90 -c 0.9  -n 8 -d $def_line -M $memory -g $mode -T {threads}\n",
    "{cd_hit} -i {out_rfam}90 -o {out_rfam}80 -c 0.8  -n 5 -d $def_line -M $memory -g $mode -T {threads}\n",
    "{cd_hit} -i {out_rfam}80 -o {out_rfam}70 -c 0.7  -n 4 -d $def_line -M $memory -g $mode -T {threads}\n",
    "{cd_hit} -i {out_rfam}70 -o {out_rfam}60 -c 0.6  -n 4 -d $def_line -M $memory -g $mode -T {threads}\n",
    "        \n",
    "# MERGE\n",
    "{cluster_rev} {out_rfam}70.clstr {out_rfam}60.clstr > {out_dir}{rfam}_70_60Identity.clstr\n",
    "{cluster_rev} {out_rfam}80.clstr {out_dir}{rfam}_70_60Identity.clstr > {out_dir}{rfam}_80_70_60Identity.clstr\n",
    "{cluster_rev} {out_rfam}90.clstr {out_dir}{rfam}_80_70_60Identity.clstr > {out_dir}{rfam}_90_80_70_60Identity.clstr\n",
    "\n",
    "# END TIME\n",
    "end_time=$(date +\"%Y-%m-%d %H:%M:%S\")\n",
    "# Calculate and print the runtime\n",
    "start_timestamp=$(date -d \"$start_time\" +%s)\n",
    "end_timestamp=$(date -d \"$end_time\" +%s)\n",
    "runtime=$((end_timestamp - start_timestamp))\n",
    "# Print the runtime to the log\n",
    "echo \"Job started at: $start_time\"\n",
    "echo \"Job ended at: $end_time\"\n",
    "echo \"Total runtime: $runtime seconds\"\n",
    "\"\"\"\n",
    "    # Write Bash script\n",
    "    write_bash_script(bash_script_name, cd_hit_script)\n",
    "    \n",
    "    # Run job\n",
    "    #os.system(f\"sbatch {bash_script_name}\")"
   ]
  },
  {
   "cell_type": "code",
   "execution_count": 3,
   "id": "4a9477ac-ba86-4836-8d7a-978efb4efea1",
   "metadata": {
    "scrolled": true
   },
   "outputs": [
    {
     "name": "stdout",
     "output_type": "stream",
     "text": [
      "#### PROCESSING: 5S\n",
      "Min_Ids: 2204, Max_Ids: 3306\n",
      "# PROCESSING >Cluster 12: 2 Members.\n",
      "# PROCESSING >Cluster 11: 3 Members.\n",
      "# PROCESSING >Cluster 9: 7 Members.\n",
      "# PROCESSING >Cluster 4: 93 Members.\n",
      "# PROCESSING >Cluster 6: 158 Members.\n",
      "# PROCESSING >Cluster 7: 214 Members.\n",
      "# PROCESSING >Cluster 3: 721 Members.\n",
      "# PROCESSING >Cluster 10: 855 Members.\n",
      "# PROCESSING >Cluster 8: 1587 Members.\n",
      "! EXLCUDING Cluster >Cluster 8, of size 1587 to avoid exceeding Max (3306) for current set (size = 2053).\n",
      "## N_seqs: 2053\n"
     ]
    },
    {
     "name": "stderr",
     "output_type": "stream",
     "text": [
      "[INFO]\u001b[0m 2053 patterns loaded from file\n"
     ]
    },
    {
     "name": "stdout",
     "output_type": "stream",
     "text": [
      "## N_seqs: 2053\n",
      "#### PROCESSING: 16S\n",
      "Min_Ids: 1422, Max_Ids: 2134\n",
      "# PROCESSING >Cluster 14: 1 Members.\n",
      "# PROCESSING >Cluster 9: 2 Members.\n",
      "# PROCESSING >Cluster 13: 3 Members.\n",
      "# PROCESSING >Cluster 5: 4 Members.\n",
      "# PROCESSING >Cluster 12: 8 Members.\n",
      "# PROCESSING >Cluster 6: 9 Members.\n",
      "# PROCESSING >Cluster 4: 10 Members.\n",
      "# PROCESSING >Cluster 3: 30 Members.\n",
      "# PROCESSING >Cluster 10: 64 Members.\n",
      "# PROCESSING >Cluster 8: 110 Members.\n",
      "# PROCESSING >Cluster 7: 119 Members.\n",
      "# PROCESSING >Cluster 11: 658 Members.\n",
      "# PROCESSING >Cluster 2: 677 Members.\n",
      "# PROCESSING >Cluster 1: 6916 Members.\n",
      "! EXLCUDING Cluster >Cluster 1, of size 6916 to avoid exceeding Max (2134) for current set (size = 1695).\n",
      "## N_seqs: 1695\n"
     ]
    },
    {
     "name": "stderr",
     "output_type": "stream",
     "text": [
      "[INFO]\u001b[0m 2053 patterns loaded from file\n",
      "[INFO]\u001b[0m 1695 patterns loaded from file\n"
     ]
    },
    {
     "name": "stdout",
     "output_type": "stream",
     "text": [
      "## N_seqs: 1695\n",
      "#### PROCESSING: 23S\n",
      "Min_Ids: 1292, Max_Ids: 1940\n",
      "# PROCESSING >Cluster 21: 1 Members.\n",
      "# PROCESSING >Cluster 25: 1 Members.\n",
      "# PROCESSING >Cluster 31: 1 Members.\n",
      "# PROCESSING >Cluster 45: 1 Members.\n",
      "# PROCESSING >Cluster 52: 1 Members.\n",
      "# PROCESSING >Cluster 54: 1 Members.\n",
      "# PROCESSING >Cluster 57: 1 Members.\n",
      "# PROCESSING >Cluster 61: 1 Members.\n",
      "# PROCESSING >Cluster 63: 1 Members.\n",
      "# PROCESSING >Cluster 64: 1 Members.\n",
      "# PROCESSING >Cluster 65: 1 Members.\n",
      "# PROCESSING >Cluster 66: 1 Members.\n",
      "# PROCESSING >Cluster 68: 1 Members.\n",
      "# PROCESSING >Cluster 73: 1 Members.\n",
      "# PROCESSING >Cluster 75: 1 Members.\n",
      "# PROCESSING >Cluster 77: 1 Members.\n",
      "# PROCESSING >Cluster 46: 2 Members.\n",
      "# PROCESSING >Cluster 51: 2 Members.\n",
      "# PROCESSING >Cluster 58: 2 Members.\n",
      "# PROCESSING >Cluster 67: 2 Members.\n",
      "# PROCESSING >Cluster 78: 2 Members.\n",
      "# PROCESSING >Cluster 79: 2 Members.\n",
      "# PROCESSING >Cluster 81: 2 Members.\n",
      "# PROCESSING >Cluster 4: 3 Members.\n",
      "# PROCESSING >Cluster 26: 3 Members.\n",
      "# PROCESSING >Cluster 33: 3 Members.\n",
      "# PROCESSING >Cluster 34: 3 Members.\n",
      "# PROCESSING >Cluster 13: 4 Members.\n",
      "# PROCESSING >Cluster 49: 4 Members.\n",
      "# PROCESSING >Cluster 53: 4 Members.\n",
      "# PROCESSING >Cluster 76: 4 Members.\n",
      "# PROCESSING >Cluster 32: 5 Members.\n",
      "# PROCESSING >Cluster 43: 5 Members.\n",
      "# PROCESSING >Cluster 80: 5 Members.\n",
      "# PROCESSING >Cluster 7: 7 Members.\n",
      "# PROCESSING >Cluster 29: 9 Members.\n",
      "# PROCESSING >Cluster 48: 9 Members.\n",
      "# PROCESSING >Cluster 72: 9 Members.\n",
      "# PROCESSING >Cluster 1: 10 Members.\n",
      "# PROCESSING >Cluster 16: 10 Members.\n",
      "# PROCESSING >Cluster 3: 12 Members.\n",
      "# PROCESSING >Cluster 18: 17 Members.\n",
      "# PROCESSING >Cluster 39: 17 Members.\n",
      "# PROCESSING >Cluster 71: 17 Members.\n",
      "# PROCESSING >Cluster 20: 22 Members.\n",
      "# PROCESSING >Cluster 28: 22 Members.\n",
      "# PROCESSING >Cluster 8: 23 Members.\n",
      "# PROCESSING >Cluster 19: 23 Members.\n",
      "# PROCESSING >Cluster 69: 24 Members.\n",
      "# PROCESSING >Cluster 56: 25 Members.\n",
      "# PROCESSING >Cluster 74: 25 Members.\n",
      "# PROCESSING >Cluster 24: 34 Members.\n",
      "# PROCESSING >Cluster 60: 37 Members.\n",
      "# PROCESSING >Cluster 37: 39 Members.\n",
      "# PROCESSING >Cluster 15: 40 Members.\n",
      "# PROCESSING >Cluster 6: 57 Members.\n",
      "# PROCESSING >Cluster 14: 64 Members.\n",
      "# PROCESSING >Cluster 10: 69 Members.\n",
      "# PROCESSING >Cluster 35: 83 Members.\n",
      "# PROCESSING >Cluster 59: 90 Members.\n",
      "# PROCESSING >Cluster 2: 110 Members.\n",
      "# PROCESSING >Cluster 9: 114 Members.\n",
      "# PROCESSING >Cluster 55: 156 Members.\n",
      "# PROCESSING >Cluster 30: 169 Members.\n",
      "# PROCESSING >Cluster 42: 197 Members.\n",
      "# PROCESSING >Cluster 27: 218 Members.\n",
      "# PROCESSING >Cluster 0: 261 Members.\n",
      "! EXLCUDING Cluster >Cluster 0, of size 261 to avoid exceeding Max (1940) for current set (size = 1831).\n",
      "## N_seqs: 1831\n"
     ]
    },
    {
     "name": "stderr",
     "output_type": "stream",
     "text": [
      "[INFO]\u001b[0m 1695 patterns loaded from file\n",
      "[INFO]\u001b[0m 1831 patterns loaded from file\n"
     ]
    },
    {
     "name": "stdout",
     "output_type": "stream",
     "text": [
      "## N_seqs: 1831\n"
     ]
    },
    {
     "name": "stderr",
     "output_type": "stream",
     "text": [
      "[INFO]\u001b[0m 1831 patterns loaded from file\n"
     ]
    }
   ],
   "source": [
    "#### SUBSET FASTAS FOR TRAIN/TEST: rRNA ####\n",
    "final_train_test_dir = f\"{cluster_dir}Final_Train_Test/\"\n",
    "\n",
    "cd_hit_suffix = \"_90_80_70_60Identity\"\n",
    "fraction = 0.05 # Fraction of sequences to reserve\n",
    "seq_margin = 0.01 # Margin of error for sequences to collect\n",
    "test_size = {}\n",
    "total_sizes = {}\n",
    "all_clusters_dict = {}\n",
    "test_seq_ids = {}\n",
    "train_fastas = {}\n",
    "\n",
    "### FOR EACH CLUSTERING RUN, SUBSET THE ORIGINAL FASTA INTO TRAIN/TEST BY RESERVING 5% OF SEQUENCES\n",
    "# for dir in allall_cluster_dirs:\n",
    "for dir in [x.replace(cluster_dir, \n",
    "                      \"/mnt/efs/fs1/datasets/db1/traintestval_split/CD_Hit/Custom_CD_Hit/Hierarchical_Clustering/\") for x in all_cluster_dirs]:\n",
    "    rfam = dir.split(\"/\")[-2]\n",
    "    print(f\"#### PROCESSING: {rfam}\")\n",
    "    out_train = f\"{final_train_test_dir}{rfam}_Train.fa\"\n",
    "    train_fastas[rfam] = out_train\n",
    "    out_test = f\"{final_train_test_dir}{rfam}_Test.fa\"\n",
    "    \n",
    "    # GET CLUSTER FILE\n",
    "    cluster_file = [x for x in os.listdir(dir) if cd_hit_suffix in x and \".clstr\" in x][0]\n",
    "    with open(f\"{dir}{cluster_file}\", \"r\") as f:\n",
    "        all_clusters = f.read()\n",
    "    # Split file into dict\n",
    "    clusters = re.split(r'(>Cluster \\d+)', all_clusters)\n",
    "    cluster_dict = {clusters[i]: [l.split(\"\\t\") for l in clusters[i+1].strip().split('\\n')] for i in range(1, len(clusters), 2)}\n",
    "    all_clusters_dict[rfam] = cluster_dict\n",
    "    \n",
    "    cluster_dict = dict(sorted(cluster_dict.items(), key=lambda item: len(item[1])))\n",
    "    sorted_keys = list(cluster_dict.keys())\n",
    "\n",
    "    # ORIGINAL FASTA\n",
    "    original_fasta = fasta_dict[rfam]\n",
    "    num_original_entries = int(subprocess.check_output([\"grep\", \"-c\", \">\", original_fasta]).decode(\"utf-8\").strip())\n",
    "    total_sizes[rfam] = num_original_entries\n",
    "    max_ids = int(np.ceil(num_original_entries*fraction)) + int(np.ceil(num_original_entries*seq_margin))\n",
    "    min_ids = int(np.ceil(num_original_entries*fraction)) - int(np.ceil(num_original_entries*seq_margin))\n",
    "    print(f\"Min_Ids: {min_ids}, Max_Ids: {max_ids}\")\n",
    "    \n",
    "    ## SUBSET DATA\n",
    "    cluster_members = []\n",
    "    key_counter = 0\n",
    "    while max_ids > len(cluster_members):\n",
    "        key = sorted_keys[key_counter]\n",
    "        cluster_x_members = [re.split(r'>(.*)\\.\\.\\.',s[1])[1] for s in cluster_dict[key]]\n",
    "        print(f\"# PROCESSING {key}: {len(cluster_x_members)} Members.\")\n",
    "        key_counter += 1\n",
    "        \n",
    "        if (len(cluster_x_members)+len(cluster_members) > max_ids and len(cluster_x_members)+len(cluster_members) >= min_ids):\n",
    "            print(f\"! EXLCUDING Cluster {key}, of size {len(cluster_x_members)} to avoid exceeding Max ({max_ids}) for current set (size = {len(cluster_members)}).\")\n",
    "            break # If min_ids satisfied, break loop before exceeding maxids \n",
    "        \n",
    "        cluster_members += cluster_x_members\n",
    "\n",
    "    test_size[rfam] = len(cluster_members)\n",
    "    test_seq_ids[rfam] = cluster_members\n",
    "    test_id_list_file = f\"{final_train_test_dir}{rfam}_ID_List.txt\" # List of IDs, required for filtering\n",
    "    \n",
    "    # TRAIN\n",
    "    if not os.path.exists(out_train):\n",
    "        subset_fasta_exclusion(test_id_list_file, cluster_members, original_fasta, out_train)\n",
    "    \n",
    "    # TEST\n",
    "    if not os.path.exists(out_test):\n",
    "        subset_fasta_inclusion(test_id_list_file, cluster_members, original_fasta, out_test)\n",
    "        os.remove(test_id_list_file) \n",
    "        "
   ]
  },
  {
   "cell_type": "code",
   "execution_count": 4,
   "id": "eb62de46-5029-4912-b46e-a0de72fdaa7e",
   "metadata": {
    "scrolled": true
   },
   "outputs": [
    {
     "name": "stdout",
     "output_type": "stream",
     "text": [
      "### 5S Total Thermo: 931\n",
      "# 5S Thermo-Test Ids: 0\n",
      "## N_seqs: 0\n"
     ]
    },
    {
     "name": "stderr",
     "output_type": "stream",
     "text": [
      "\u001b[33m[WARN]\u001b[0m 0 patterns loaded from file\n"
     ]
    },
    {
     "name": "stdout",
     "output_type": "stream",
     "text": [
      "### 16S Total Thermo: 540\n",
      "# 16S Thermo-Test Ids: 54\n",
      "## N_seqs: 54\n"
     ]
    },
    {
     "name": "stderr",
     "output_type": "stream",
     "text": [
      "[INFO]\u001b[0m 54 patterns loaded from file\n"
     ]
    },
    {
     "name": "stdout",
     "output_type": "stream",
     "text": [
      "### 23S Total Thermo: 482\n",
      "# 23S Thermo-Test Ids: 9\n",
      "## N_seqs: 9\n"
     ]
    },
    {
     "name": "stderr",
     "output_type": "stream",
     "text": [
      "[INFO]\u001b[0m 9 patterns loaded from file\n"
     ]
    }
   ],
   "source": [
    "#### CREATE THERMOPHILE FINETUNING SET: finetune on all thermophile rRNA seqs, but finetune test cannot contain seqs in original train ####\n",
    "## GET THERMOPHILE IDs\n",
    "ogt_df = pd.read_csv(\"OGT_Comparison_Dataset.csv\")\n",
    "thermo_df = ogt_df.loc[ogt_df.TOME_Predicted_OGT_Celsius >= 60]\n",
    "thermo_acc = thermo_df.GTDB_Genome_Accession.to_list()\n",
    "max_test_seqs = 0.10\n",
    "\n",
    "## CREATE FINETUNE AND THERMO-TEST\n",
    "for rfam,original_fasta in fasta_dict.items():\n",
    "    # Original fasta info\n",
    "    original_thermo_ids = [x for x in get_fasta_ids(original_fasta) if x in thermo_acc]\n",
    "    print(f\"### {rfam} Total Thermo: {len(original_thermo_ids)}\")\n",
    "    # Training set info\n",
    "    train_fasta = train_fastas[rfam]\n",
    "    train_thermo_ids = [x for x in get_fasta_ids(train_fasta) if x in thermo_acc]\n",
    "\n",
    "    # Thermo test ids: reserve all thermos not in the initial training set for thermo-testing\n",
    "    thermo_test_ids = [x for i,x in enumerate(original_thermo_ids) if x not in train_thermo_ids \\\n",
    "                       and i/len(original_thermo_ids)<= max_test_seqs]\n",
    "    print(f\"# {rfam} Thermo-Test Ids: {len(thermo_test_ids)}\")\n",
    "\n",
    "    # Thermo finetuning ids: Use all thermophile not reserved for thermo-test\n",
    "    finetune_ids = [x for x in original_thermo_ids if x not in thermo_test_ids]\n",
    "    \n",
    "    # Create thermo test set\n",
    "    test_id_list_file = f\"{final_train_test_dir}{rfam}_THERMO_Test_Ids.txt\"\n",
    "    thermo_test_fasta = f\"{final_train_test_dir}{rfam}_THERMO_Test.fa\"\n",
    "    if not os.path.exists(thermo_test_fasta):\n",
    "        subset_fasta_inclusion(test_id_list_file, thermo_test_ids, original_fasta, thermo_test_fasta)\n",
    "            \n",
    "    # Create thermo Finetuning set\n",
    "    finetune_fasta = f\"{final_train_test_dir}{rfam}_THERMO_Finetune.fa\"\n",
    "    if not os.path.exists(out_test):\n",
    "        subset_fasta_inclusion(test_id_list_file, finetune_ids, original_fasta, finetune_fasta)\n",
    "        # Clean up\n",
    "        if os.path.exists(test_id_list_file):\n",
    "            os.remove(test_id_list_file)\n",
    "            "
   ]
  },
  {
   "cell_type": "markdown",
   "id": "3f527290-3e33-4161-86c9-2c121d8dcc16",
   "metadata": {},
   "source": [
    "## II. Hierarchical Clustering and train/test split: 228 Rfam Set"
   ]
  },
  {
   "cell_type": "code",
   "execution_count": 5,
   "id": "d90ca55d-ad6c-47be-b424-c66d75ba5b93",
   "metadata": {},
   "outputs": [
    {
     "name": "stdout",
     "output_type": "stream",
     "text": [
      "RF01702 /home/ubuntu/datasets/alignments/mini_Rfam/final_split_by_model/RF01702_final.fa /mnt/efs/fs1/software/Manuscript/GTDB_Data_Curation_and_Preprocessing/Hierarchical_Clustering/RF01702/\n",
      "RF02431 /home/ubuntu/datasets/alignments/mini_Rfam/final_split_by_model/RF02431_final.fa /mnt/efs/fs1/software/Manuscript/GTDB_Data_Curation_and_Preprocessing/Hierarchical_Clustering/RF02431/\n",
      "RF02035 /home/ubuntu/datasets/alignments/mini_Rfam/final_split_by_model/RF02035_final.fa /mnt/efs/fs1/software/Manuscript/GTDB_Data_Curation_and_Preprocessing/Hierarchical_Clustering/RF02035/\n",
      "RF02969 /home/ubuntu/datasets/alignments/mini_Rfam/final_split_by_model/RF02969_final.fa /mnt/efs/fs1/software/Manuscript/GTDB_Data_Curation_and_Preprocessing/Hierarchical_Clustering/RF02969/\n",
      "RF01720 /home/ubuntu/datasets/alignments/mini_Rfam/final_split_by_model/RF01720_final.fa /mnt/efs/fs1/software/Manuscript/GTDB_Data_Curation_and_Preprocessing/Hierarchical_Clustering/RF01720/\n",
      "RF00514 /home/ubuntu/datasets/alignments/mini_Rfam/final_split_by_model/RF00514_final.fa /mnt/efs/fs1/software/Manuscript/GTDB_Data_Curation_and_Preprocessing/Hierarchical_Clustering/RF00514/\n",
      "RF03025 /home/ubuntu/datasets/alignments/mini_Rfam/final_split_by_model/RF03025_final.fa /mnt/efs/fs1/software/Manuscript/GTDB_Data_Curation_and_Preprocessing/Hierarchical_Clustering/RF03025/\n",
      "RF01405 /home/ubuntu/datasets/alignments/mini_Rfam/final_split_by_model/RF01405_final.fa /mnt/efs/fs1/software/Manuscript/GTDB_Data_Curation_and_Preprocessing/Hierarchical_Clustering/RF01405/\n",
      "RF00028 /home/ubuntu/datasets/alignments/mini_Rfam/final_split_by_model/RF00028_final.fa /mnt/efs/fs1/software/Manuscript/GTDB_Data_Curation_and_Preprocessing/Hierarchical_Clustering/RF00028/\n",
      "RF03016 /home/ubuntu/datasets/alignments/mini_Rfam/final_split_by_model/RF03016_final.fa /mnt/efs/fs1/software/Manuscript/GTDB_Data_Curation_and_Preprocessing/Hierarchical_Clustering/RF03016/\n",
      "RF02422 /home/ubuntu/datasets/alignments/mini_Rfam/final_split_by_model/RF02422_final.fa /mnt/efs/fs1/software/Manuscript/GTDB_Data_Curation_and_Preprocessing/Hierarchical_Clustering/RF02422/\n",
      "RF02978 /home/ubuntu/datasets/alignments/mini_Rfam/final_split_by_model/RF02978_final.fa /mnt/efs/fs1/software/Manuscript/GTDB_Data_Curation_and_Preprocessing/Hierarchical_Clustering/RF02978/\n",
      "RF00442 /home/ubuntu/datasets/alignments/mini_Rfam/final_split_by_model/RF00442_final.fa /mnt/efs/fs1/software/Manuscript/GTDB_Data_Curation_and_Preprocessing/Hierarchical_Clustering/RF00442/\n",
      "RF01746 /home/ubuntu/datasets/alignments/mini_Rfam/final_split_by_model/RF01746_final.fa /mnt/efs/fs1/software/Manuscript/GTDB_Data_Curation_and_Preprocessing/Hierarchical_Clustering/RF01746/\n",
      "RF00378 /home/ubuntu/datasets/alignments/mini_Rfam/final_split_by_model/RF00378_final.fa /mnt/efs/fs1/software/Manuscript/GTDB_Data_Curation_and_Preprocessing/Hierarchical_Clustering/RF00378/\n",
      "RF02079 /home/ubuntu/datasets/alignments/mini_Rfam/final_split_by_model/RF02079_final.fa /mnt/efs/fs1/software/Manuscript/GTDB_Data_Curation_and_Preprocessing/Hierarchical_Clustering/RF02079/\n",
      "RF02673 /home/ubuntu/datasets/alignments/mini_Rfam/final_split_by_model/RF02673_final.fa /mnt/efs/fs1/software/Manuscript/GTDB_Data_Curation_and_Preprocessing/Hierarchical_Clustering/RF02673/\n",
      "RF02916 /home/ubuntu/datasets/alignments/mini_Rfam/final_split_by_model/RF02916_final.fa /mnt/efs/fs1/software/Manuscript/GTDB_Data_Curation_and_Preprocessing/Hierarchical_Clustering/RF02916/\n",
      "RF03087 /home/ubuntu/datasets/alignments/mini_Rfam/final_split_by_model/RF03087_final.fa /mnt/efs/fs1/software/Manuscript/GTDB_Data_Curation_and_Preprocessing/Hierarchical_Clustering/RF03087/\n",
      "RF00101 /home/ubuntu/datasets/alignments/mini_Rfam/final_split_by_model/RF00101_final.fa /mnt/efs/fs1/software/Manuscript/GTDB_Data_Curation_and_Preprocessing/Hierarchical_Clustering/RF00101/\n",
      "RF01764 /home/ubuntu/datasets/alignments/mini_Rfam/final_split_by_model/RF01764_final.fa /mnt/efs/fs1/software/Manuscript/GTDB_Data_Curation_and_Preprocessing/Hierarchical_Clustering/RF01764/\n",
      "RF00558 /home/ubuntu/datasets/alignments/mini_Rfam/final_split_by_model/RF00558_final.fa /mnt/efs/fs1/software/Manuscript/GTDB_Data_Curation_and_Preprocessing/Hierarchical_Clustering/RF00558/\n",
      "RF03069 /home/ubuntu/datasets/alignments/mini_Rfam/final_split_by_model/RF03069_final.fa /mnt/efs/fs1/software/Manuscript/GTDB_Data_Curation_and_Preprocessing/Hierarchical_Clustering/RF03069/\n",
      "RF01728 /home/ubuntu/datasets/alignments/mini_Rfam/final_split_by_model/RF01728_final.fa /mnt/efs/fs1/software/Manuscript/GTDB_Data_Curation_and_Preprocessing/Hierarchical_Clustering/RF01728/\n",
      "RF01755 /home/ubuntu/datasets/alignments/mini_Rfam/final_split_by_model/RF01755_final.fa /mnt/efs/fs1/software/Manuscript/GTDB_Data_Curation_and_Preprocessing/Hierarchical_Clustering/RF01755/\n",
      "RF01719 /home/ubuntu/datasets/alignments/mini_Rfam/final_split_by_model/RF01719_final.fa /mnt/efs/fs1/software/Manuscript/GTDB_Data_Curation_and_Preprocessing/Hierarchical_Clustering/RF01719/\n",
      "RF01692 /home/ubuntu/datasets/alignments/mini_Rfam/final_split_by_model/RF01692_final.fa /mnt/efs/fs1/software/Manuscript/GTDB_Data_Curation_and_Preprocessing/Hierarchical_Clustering/RF01692/\n",
      "RF01854 /home/ubuntu/datasets/alignments/mini_Rfam/final_split_by_model/RF01854_final.fa /mnt/efs/fs1/software/Manuscript/GTDB_Data_Curation_and_Preprocessing/Hierarchical_Clustering/RF01854/\n",
      "RF00011 /home/ubuntu/datasets/alignments/mini_Rfam/final_split_by_model/RF00011_final.fa /mnt/efs/fs1/software/Manuscript/GTDB_Data_Curation_and_Preprocessing/Hierarchical_Clustering/RF00011/\n",
      "RF02943 /home/ubuntu/datasets/alignments/mini_Rfam/final_split_by_model/RF02943_final.fa /mnt/efs/fs1/software/Manuscript/GTDB_Data_Curation_and_Preprocessing/Hierarchical_Clustering/RF02943/\n",
      "RF02354 /home/ubuntu/datasets/alignments/mini_Rfam/final_split_by_model/RF02354_final.fa /mnt/efs/fs1/software/Manuscript/GTDB_Data_Curation_and_Preprocessing/Hierarchical_Clustering/RF02354/\n",
      "RF00059 /home/ubuntu/datasets/alignments/mini_Rfam/final_split_by_model/RF00059_final.fa /mnt/efs/fs1/software/Manuscript/GTDB_Data_Curation_and_Preprocessing/Hierarchical_Clustering/RF00059/\n",
      "RF02471 /home/ubuntu/datasets/alignments/mini_Rfam/final_split_by_model/RF02471_final.fa /mnt/efs/fs1/software/Manuscript/GTDB_Data_Curation_and_Preprocessing/Hierarchical_Clustering/RF02471/\n",
      "RF01742 /home/ubuntu/datasets/alignments/mini_Rfam/final_split_by_model/RF01742_final.fa /mnt/efs/fs1/software/Manuscript/GTDB_Data_Curation_and_Preprocessing/Hierarchical_Clustering/RF01742/\n",
      "RF01760 /home/ubuntu/datasets/alignments/mini_Rfam/final_split_by_model/RF01760_final.fa /mnt/efs/fs1/software/Manuscript/GTDB_Data_Curation_and_Preprocessing/Hierarchical_Clustering/RF01760/\n",
      "RF02921 /home/ubuntu/datasets/alignments/mini_Rfam/final_split_by_model/RF02921_final.fa /mnt/efs/fs1/software/Manuscript/GTDB_Data_Curation_and_Preprocessing/Hierarchical_Clustering/RF02921/\n",
      "RF02840 /home/ubuntu/datasets/alignments/mini_Rfam/final_split_by_model/RF02840_final.fa /mnt/efs/fs1/software/Manuscript/GTDB_Data_Curation_and_Preprocessing/Hierarchical_Clustering/RF02840/\n",
      "RF02084 /home/ubuntu/datasets/alignments/mini_Rfam/final_split_by_model/RF02084_final.fa /mnt/efs/fs1/software/Manuscript/GTDB_Data_Curation_and_Preprocessing/Hierarchical_Clustering/RF02084/\n",
      "RF03155 /home/ubuntu/datasets/alignments/mini_Rfam/final_split_by_model/RF03155_final.fa /mnt/efs/fs1/software/Manuscript/GTDB_Data_Curation_and_Preprocessing/Hierarchical_Clustering/RF03155/\n",
      "RF02345 /home/ubuntu/datasets/alignments/mini_Rfam/final_split_by_model/RF02345_final.fa /mnt/efs/fs1/software/Manuscript/GTDB_Data_Curation_and_Preprocessing/Hierarchical_Clustering/RF02345/\n",
      "RF00167 /home/ubuntu/datasets/alignments/mini_Rfam/final_split_by_model/RF00167_final.fa /mnt/efs/fs1/software/Manuscript/GTDB_Data_Curation_and_Preprocessing/Hierarchical_Clustering/RF00167/\n",
      "RF01867 /home/ubuntu/datasets/alignments/mini_Rfam/final_split_by_model/RF01867_final.fa /mnt/efs/fs1/software/Manuscript/GTDB_Data_Curation_and_Preprocessing/Hierarchical_Clustering/RF01867/\n",
      "RF02004 /home/ubuntu/datasets/alignments/mini_Rfam/final_split_by_model/RF02004_final.fa /mnt/efs/fs1/software/Manuscript/GTDB_Data_Curation_and_Preprocessing/Hierarchical_Clustering/RF02004/\n",
      "RF01849 /home/ubuntu/datasets/alignments/mini_Rfam/final_split_by_model/RF01849_final.fa /mnt/efs/fs1/software/Manuscript/GTDB_Data_Curation_and_Preprocessing/Hierarchical_Clustering/RF01849/\n",
      "RF00114 /home/ubuntu/datasets/alignments/mini_Rfam/final_split_by_model/RF00114_final.fa /mnt/efs/fs1/software/Manuscript/GTDB_Data_Curation_and_Preprocessing/Hierarchical_Clustering/RF00114/\n",
      "RF04189 /home/ubuntu/datasets/alignments/mini_Rfam/final_split_by_model/RF04189_final.fa /mnt/efs/fs1/software/Manuscript/GTDB_Data_Curation_and_Preprocessing/Hierarchical_Clustering/RF04189/\n",
      "RF03108 /home/ubuntu/datasets/alignments/mini_Rfam/final_split_by_model/RF03108_final.fa /mnt/efs/fs1/software/Manuscript/GTDB_Data_Curation_and_Preprocessing/Hierarchical_Clustering/RF03108/\n",
      "RF01407 /home/ubuntu/datasets/alignments/mini_Rfam/final_split_by_model/RF01407_final.fa /mnt/efs/fs1/software/Manuscript/GTDB_Data_Curation_and_Preprocessing/Hierarchical_Clustering/RF01407/\n",
      "RF03063 /home/ubuntu/datasets/alignments/mini_Rfam/final_split_by_model/RF03063_final.fa /mnt/efs/fs1/software/Manuscript/GTDB_Data_Curation_and_Preprocessing/Hierarchical_Clustering/RF03063/\n",
      "RF00552 /home/ubuntu/datasets/alignments/mini_Rfam/final_split_by_model/RF00552_final.fa /mnt/efs/fs1/software/Manuscript/GTDB_Data_Curation_and_Preprocessing/Hierarchical_Clustering/RF00552/\n",
      "RF01999 /home/ubuntu/datasets/alignments/mini_Rfam/final_split_by_model/RF01999_final.fa /mnt/efs/fs1/software/Manuscript/GTDB_Data_Curation_and_Preprocessing/Hierarchical_Clustering/RF01999/\n",
      "RF02235 /home/ubuntu/datasets/alignments/mini_Rfam/final_split_by_model/RF02235_final.fa /mnt/efs/fs1/software/Manuscript/GTDB_Data_Curation_and_Preprocessing/Hierarchical_Clustering/RF02235/\n",
      "RF00615 /home/ubuntu/datasets/alignments/mini_Rfam/final_split_by_model/RF00615_final.fa /mnt/efs/fs1/software/Manuscript/GTDB_Data_Curation_and_Preprocessing/Hierarchical_Clustering/RF00615/\n",
      "RF03045 /home/ubuntu/datasets/alignments/mini_Rfam/final_split_by_model/RF03045_final.fa /mnt/efs/fs1/software/Manuscript/GTDB_Data_Curation_and_Preprocessing/Hierarchical_Clustering/RF03045/\n",
      "RF02514 /home/ubuntu/datasets/alignments/mini_Rfam/final_split_by_model/RF02514_final.fa /mnt/efs/fs1/software/Manuscript/GTDB_Data_Curation_and_Preprocessing/Hierarchical_Clustering/RF02514/\n",
      "RF00174 /home/ubuntu/datasets/alignments/mini_Rfam/final_split_by_model/RF00174_final.fa /mnt/efs/fs1/software/Manuscript/GTDB_Data_Curation_and_Preprocessing/Hierarchical_Clustering/RF00174/\n",
      "RF01065 /home/ubuntu/datasets/alignments/mini_Rfam/final_split_by_model/RF01065_final.fa /mnt/efs/fs1/software/Manuscript/GTDB_Data_Curation_and_Preprocessing/Hierarchical_Clustering/RF01065/\n",
      "RF00444 /home/ubuntu/datasets/alignments/mini_Rfam/final_split_by_model/RF00444_final.fa /mnt/efs/fs1/software/Manuscript/GTDB_Data_Curation_and_Preprocessing/Hierarchical_Clustering/RF00444/\n",
      "RF01731 /home/ubuntu/datasets/alignments/mini_Rfam/final_split_by_model/RF01731_final.fa /mnt/efs/fs1/software/Manuscript/GTDB_Data_Curation_and_Preprocessing/Hierarchical_Clustering/RF01731/\n",
      "RF02343 /home/ubuntu/datasets/alignments/mini_Rfam/final_split_by_model/RF02343_final.fa /mnt/efs/fs1/software/Manuscript/GTDB_Data_Curation_and_Preprocessing/Hierarchical_Clustering/RF02343/\n",
      "RF03072 /home/ubuntu/datasets/alignments/mini_Rfam/final_split_by_model/RF03072_final.fa /mnt/efs/fs1/software/Manuscript/GTDB_Data_Curation_and_Preprocessing/Hierarchical_Clustering/RF03072/\n",
      "RF02424 /home/ubuntu/datasets/alignments/mini_Rfam/final_split_by_model/RF02424_final.fa /mnt/efs/fs1/software/Manuscript/GTDB_Data_Curation_and_Preprocessing/Hierarchical_Clustering/RF02424/\n",
      "RF01830 /home/ubuntu/datasets/alignments/mini_Rfam/final_split_by_model/RF01830_final.fa /mnt/efs/fs1/software/Manuscript/GTDB_Data_Curation_and_Preprocessing/Hierarchical_Clustering/RF01830/\n",
      "RF03531 /home/ubuntu/datasets/alignments/mini_Rfam/final_split_by_model/RF03531_final.fa /mnt/efs/fs1/software/Manuscript/GTDB_Data_Curation_and_Preprocessing/Hierarchical_Clustering/RF03531/\n",
      "RF01470 /home/ubuntu/datasets/alignments/mini_Rfam/final_split_by_model/RF01470_final.fa /mnt/efs/fs1/software/Manuscript/GTDB_Data_Curation_and_Preprocessing/Hierarchical_Clustering/RF01470/\n",
      "RF03018 /home/ubuntu/datasets/alignments/mini_Rfam/final_split_by_model/RF03018_final.fa /mnt/efs/fs1/software/Manuscript/GTDB_Data_Curation_and_Preprocessing/Hierarchical_Clustering/RF03018/\n",
      "RF01685 /home/ubuntu/datasets/alignments/mini_Rfam/final_split_by_model/RF01685_final.fa /mnt/efs/fs1/software/Manuscript/GTDB_Data_Curation_and_Preprocessing/Hierarchical_Clustering/RF01685/\n",
      "RF01766 /home/ubuntu/datasets/alignments/mini_Rfam/final_split_by_model/RF01766_final.fa /mnt/efs/fs1/software/Manuscript/GTDB_Data_Curation_and_Preprocessing/Hierarchical_Clustering/RF01766/\n",
      "RF02972 /home/ubuntu/datasets/alignments/mini_Rfam/final_split_by_model/RF02972_final.fa /mnt/efs/fs1/software/Manuscript/GTDB_Data_Curation_and_Preprocessing/Hierarchical_Clustering/RF02972/\n",
      "RF00022 /home/ubuntu/datasets/alignments/mini_Rfam/final_split_by_model/RF00022_final.fa /mnt/efs/fs1/software/Manuscript/GTDB_Data_Curation_and_Preprocessing/Hierarchical_Clustering/RF00022/\n",
      "RF00013 /home/ubuntu/datasets/alignments/mini_Rfam/final_split_by_model/RF00013_final.fa /mnt/efs/fs1/software/Manuscript/GTDB_Data_Curation_and_Preprocessing/Hierarchical_Clustering/RF00013/\n",
      "RF02981 /home/ubuntu/datasets/alignments/mini_Rfam/final_split_by_model/RF02981_final.fa /mnt/efs/fs1/software/Manuscript/GTDB_Data_Curation_and_Preprocessing/Hierarchical_Clustering/RF02981/\n",
      "RF04192 /home/ubuntu/datasets/alignments/mini_Rfam/final_split_by_model/RF04192_final.fa /mnt/efs/fs1/software/Manuscript/GTDB_Data_Curation_and_Preprocessing/Hierarchical_Clustering/RF04192/\n",
      "RF02932 /home/ubuntu/datasets/alignments/mini_Rfam/final_split_by_model/RF02932_final.fa /mnt/efs/fs1/software/Manuscript/GTDB_Data_Curation_and_Preprocessing/Hierarchical_Clustering/RF02932/\n",
      "RF01069 /home/ubuntu/datasets/alignments/mini_Rfam/final_split_by_model/RF01069_final.fa /mnt/efs/fs1/software/Manuscript/GTDB_Data_Curation_and_Preprocessing/Hierarchical_Clustering/RF01069/\n",
      "RF03166 /home/ubuntu/datasets/alignments/mini_Rfam/final_split_by_model/RF03166_final.fa /mnt/efs/fs1/software/Manuscript/GTDB_Data_Curation_and_Preprocessing/Hierarchical_Clustering/RF03166/\n",
      "RF02437 /home/ubuntu/datasets/alignments/mini_Rfam/final_split_by_model/RF02437_final.fa /mnt/efs/fs1/software/Manuscript/GTDB_Data_Curation_and_Preprocessing/Hierarchical_Clustering/RF02437/\n",
      "RF02194 /home/ubuntu/datasets/alignments/mini_Rfam/final_split_by_model/RF02194_final.fa /mnt/efs/fs1/software/Manuscript/GTDB_Data_Curation_and_Preprocessing/Hierarchical_Clustering/RF02194/\n",
      "RF02356 /home/ubuntu/datasets/alignments/mini_Rfam/final_split_by_model/RF02356_final.fa /mnt/efs/fs1/software/Manuscript/GTDB_Data_Curation_and_Preprocessing/Hierarchical_Clustering/RF02356/\n",
      "RF01771 /home/ubuntu/datasets/alignments/mini_Rfam/final_split_by_model/RF01771_final.fa /mnt/efs/fs1/software/Manuscript/GTDB_Data_Curation_and_Preprocessing/Hierarchical_Clustering/RF01771/\n",
      "RF01456 /home/ubuntu/datasets/alignments/mini_Rfam/final_split_by_model/RF01456_final.fa /mnt/efs/fs1/software/Manuscript/GTDB_Data_Curation_and_Preprocessing/Hierarchical_Clustering/RF01456/\n",
      "RF03076 /home/ubuntu/datasets/alignments/mini_Rfam/final_split_by_model/RF03076_final.fa /mnt/efs/fs1/software/Manuscript/GTDB_Data_Curation_and_Preprocessing/Hierarchical_Clustering/RF03076/\n",
      "RF02347 /home/ubuntu/datasets/alignments/mini_Rfam/final_split_by_model/RF02347_final.fa /mnt/efs/fs1/software/Manuscript/GTDB_Data_Curation_and_Preprocessing/Hierarchical_Clustering/RF02347/\n",
      "RF02941 /home/ubuntu/datasets/alignments/mini_Rfam/final_split_by_model/RF02941_final.fa /mnt/efs/fs1/software/Manuscript/GTDB_Data_Curation_and_Preprocessing/Hierarchical_Clustering/RF02941/\n",
      "RF01492 /home/ubuntu/datasets/alignments/mini_Rfam/final_split_by_model/RF01492_final.fa /mnt/efs/fs1/software/Manuscript/GTDB_Data_Curation_and_Preprocessing/Hierarchical_Clustering/RF01492/\n",
      "RF01735 /home/ubuntu/datasets/alignments/mini_Rfam/final_split_by_model/RF01735_final.fa /mnt/efs/fs1/software/Manuscript/GTDB_Data_Curation_and_Preprocessing/Hierarchical_Clustering/RF01735/\n",
      "RF02680 /home/ubuntu/datasets/alignments/mini_Rfam/final_split_by_model/RF02680_final.fa /mnt/efs/fs1/software/Manuscript/GTDB_Data_Curation_and_Preprocessing/Hierarchical_Clustering/RF02680/\n",
      "RF02446 /home/ubuntu/datasets/alignments/mini_Rfam/final_split_by_model/RF02446_final.fa /mnt/efs/fs1/software/Manuscript/GTDB_Data_Curation_and_Preprocessing/Hierarchical_Clustering/RF02446/\n",
      "RF00628 /home/ubuntu/datasets/alignments/mini_Rfam/final_split_by_model/RF00628_final.fa /mnt/efs/fs1/software/Manuscript/GTDB_Data_Curation_and_Preprocessing/Hierarchical_Clustering/RF00628/\n",
      "RF04183 /home/ubuntu/datasets/alignments/mini_Rfam/final_split_by_model/RF04183_final.fa /mnt/efs/fs1/software/Manuscript/GTDB_Data_Curation_and_Preprocessing/Hierarchical_Clustering/RF04183/\n",
      "RF02420 /home/ubuntu/datasets/alignments/mini_Rfam/final_split_by_model/RF02420_final.fa /mnt/efs/fs1/software/Manuscript/GTDB_Data_Curation_and_Preprocessing/Hierarchical_Clustering/RF02420/\n",
      "RF00080 /home/ubuntu/datasets/alignments/mini_Rfam/final_split_by_model/RF00080_final.fa /mnt/efs/fs1/software/Manuscript/GTDB_Data_Curation_and_Preprocessing/Hierarchical_Clustering/RF00080/\n",
      "RF02994 /home/ubuntu/datasets/alignments/mini_Rfam/final_split_by_model/RF02994_final.fa /mnt/efs/fs1/software/Manuscript/GTDB_Data_Curation_and_Preprocessing/Hierarchical_Clustering/RF02994/\n",
      "RF00503 /home/ubuntu/datasets/alignments/mini_Rfam/final_split_by_model/RF00503_final.fa /mnt/efs/fs1/software/Manuscript/GTDB_Data_Curation_and_Preprocessing/Hierarchical_Clustering/RF00503/\n",
      "RF02958 /home/ubuntu/datasets/alignments/mini_Rfam/final_split_by_model/RF02958_final.fa /mnt/efs/fs1/software/Manuscript/GTDB_Data_Curation_and_Preprocessing/Hierarchical_Clustering/RF02958/\n",
      "RF03005 /home/ubuntu/datasets/alignments/mini_Rfam/final_split_by_model/RF03005_final.fa /mnt/efs/fs1/software/Manuscript/GTDB_Data_Curation_and_Preprocessing/Hierarchical_Clustering/RF03005/\n",
      "RF02033 /home/ubuntu/datasets/alignments/mini_Rfam/final_split_by_model/RF02033_final.fa /mnt/efs/fs1/software/Manuscript/GTDB_Data_Curation_and_Preprocessing/Hierarchical_Clustering/RF02033/\n",
      "RF03041 /home/ubuntu/datasets/alignments/mini_Rfam/final_split_by_model/RF03041_final.fa /mnt/efs/fs1/software/Manuscript/GTDB_Data_Curation_and_Preprocessing/Hierarchical_Clustering/RF03041/\n",
      "RF00128 /home/ubuntu/datasets/alignments/mini_Rfam/final_split_by_model/RF00128_final.fa /mnt/efs/fs1/software/Manuscript/GTDB_Data_Curation_and_Preprocessing/Hierarchical_Clustering/RF00128/\n",
      "RF02144 /home/ubuntu/datasets/alignments/mini_Rfam/final_split_by_model/RF02144_final.fa /mnt/efs/fs1/software/Manuscript/GTDB_Data_Curation_and_Preprocessing/Hierarchical_Clustering/RF02144/\n",
      "RF00083 /home/ubuntu/datasets/alignments/mini_Rfam/final_split_by_model/RF00083_final.fa /mnt/efs/fs1/software/Manuscript/GTDB_Data_Curation_and_Preprocessing/Hierarchical_Clustering/RF00083/\n",
      "RF01055 /home/ubuntu/datasets/alignments/mini_Rfam/final_split_by_model/RF01055_final.fa /mnt/efs/fs1/software/Manuscript/GTDB_Data_Curation_and_Preprocessing/Hierarchical_Clustering/RF01055/\n",
      "RF02423 /home/ubuntu/datasets/alignments/mini_Rfam/final_split_by_model/RF02423_final.fa /mnt/efs/fs1/software/Manuscript/GTDB_Data_Curation_and_Preprocessing/Hierarchical_Clustering/RF02423/\n",
      "RF02342 /home/ubuntu/datasets/alignments/mini_Rfam/final_split_by_model/RF02342_final.fa /mnt/efs/fs1/software/Manuscript/GTDB_Data_Curation_and_Preprocessing/Hierarchical_Clustering/RF02342/\n",
      "RF02081 /home/ubuntu/datasets/alignments/mini_Rfam/final_split_by_model/RF02081_final.fa /mnt/efs/fs1/software/Manuscript/GTDB_Data_Curation_and_Preprocessing/Hierarchical_Clustering/RF02081/\n",
      "RF00623 /home/ubuntu/datasets/alignments/mini_Rfam/final_split_by_model/RF00623_final.fa /mnt/efs/fs1/software/Manuscript/GTDB_Data_Curation_and_Preprocessing/Hierarchical_Clustering/RF00623/\n",
      "RF00380 /home/ubuntu/datasets/alignments/mini_Rfam/final_split_by_model/RF00380_final.fa /mnt/efs/fs1/software/Manuscript/GTDB_Data_Curation_and_Preprocessing/Hierarchical_Clustering/RF00380/\n",
      "RF00506 /home/ubuntu/datasets/alignments/mini_Rfam/final_split_by_model/RF00506_final.fa /mnt/efs/fs1/software/Manuscript/GTDB_Data_Curation_and_Preprocessing/Hierarchical_Clustering/RF00506/\n",
      "RF01712 /home/ubuntu/datasets/alignments/mini_Rfam/final_split_by_model/RF01712_final.fa /mnt/efs/fs1/software/Manuscript/GTDB_Data_Curation_and_Preprocessing/Hierarchical_Clustering/RF01712/\n",
      "RF01820 /home/ubuntu/datasets/alignments/mini_Rfam/final_split_by_model/RF01820_final.fa /mnt/efs/fs1/software/Manuscript/GTDB_Data_Curation_and_Preprocessing/Hierarchical_Clustering/RF01820/\n",
      "RF02234 /home/ubuntu/datasets/alignments/mini_Rfam/final_split_by_model/RF02234_final.fa /mnt/efs/fs1/software/Manuscript/GTDB_Data_Curation_and_Preprocessing/Hierarchical_Clustering/RF02234/\n",
      "RF02036 /home/ubuntu/datasets/alignments/mini_Rfam/final_split_by_model/RF02036_final.fa /mnt/efs/fs1/software/Manuscript/GTDB_Data_Curation_and_Preprocessing/Hierarchical_Clustering/RF02036/\n",
      "RF02432 /home/ubuntu/datasets/alignments/mini_Rfam/final_split_by_model/RF02432_final.fa /mnt/efs/fs1/software/Manuscript/GTDB_Data_Curation_and_Preprocessing/Hierarchical_Clustering/RF02432/\n",
      "RF03062 /home/ubuntu/datasets/alignments/mini_Rfam/final_split_by_model/RF03062_final.fa /mnt/efs/fs1/software/Manuscript/GTDB_Data_Curation_and_Preprocessing/Hierarchical_Clustering/RF03062/\n",
      "RF02414 /home/ubuntu/datasets/alignments/mini_Rfam/final_split_by_model/RF02414_final.fa /mnt/efs/fs1/software/Manuscript/GTDB_Data_Curation_and_Preprocessing/Hierarchical_Clustering/RF02414/\n",
      "RF03026 /home/ubuntu/datasets/alignments/mini_Rfam/final_split_by_model/RF03026_final.fa /mnt/efs/fs1/software/Manuscript/GTDB_Data_Curation_and_Preprocessing/Hierarchical_Clustering/RF03026/\n",
      "RF01721 /home/ubuntu/datasets/alignments/mini_Rfam/final_split_by_model/RF01721_final.fa /mnt/efs/fs1/software/Manuscript/GTDB_Data_Curation_and_Preprocessing/Hierarchical_Clustering/RF01721/\n",
      "RF03079 /home/ubuntu/datasets/alignments/mini_Rfam/final_split_by_model/RF03079_final.fa /mnt/efs/fs1/software/Manuscript/GTDB_Data_Curation_and_Preprocessing/Hierarchical_Clustering/RF03079/\n",
      "RF01693 /home/ubuntu/datasets/alignments/mini_Rfam/final_split_by_model/RF01693_final.fa /mnt/efs/fs1/software/Manuscript/GTDB_Data_Curation_and_Preprocessing/Hierarchical_Clustering/RF01693/\n",
      "RF03000 /home/ubuntu/datasets/alignments/mini_Rfam/final_split_by_model/RF03000_final.fa /mnt/efs/fs1/software/Manuscript/GTDB_Data_Curation_and_Preprocessing/Hierarchical_Clustering/RF03000/\n",
      "RF02962 /home/ubuntu/datasets/alignments/mini_Rfam/final_split_by_model/RF02962_final.fa /mnt/efs/fs1/software/Manuscript/GTDB_Data_Curation_and_Preprocessing/Hierarchical_Clustering/RF02962/\n",
      "RF01675 /home/ubuntu/datasets/alignments/mini_Rfam/final_split_by_model/RF01675_final.fa /mnt/efs/fs1/software/Manuscript/GTDB_Data_Curation_and_Preprocessing/Hierarchical_Clustering/RF01675/\n",
      "RF01756 /home/ubuntu/datasets/alignments/mini_Rfam/final_split_by_model/RF01756_final.fa /mnt/efs/fs1/software/Manuscript/GTDB_Data_Curation_and_Preprocessing/Hierarchical_Clustering/RF01756/\n",
      "RF00111 /home/ubuntu/datasets/alignments/mini_Rfam/final_split_by_model/RF00111_final.fa /mnt/efs/fs1/software/Manuscript/GTDB_Data_Curation_and_Preprocessing/Hierarchical_Clustering/RF00111/\n",
      "RF01396 /home/ubuntu/datasets/alignments/mini_Rfam/final_split_by_model/RF01396_final.fa /mnt/efs/fs1/software/Manuscript/GTDB_Data_Curation_and_Preprocessing/Hierarchical_Clustering/RF01396/\n",
      "RF02449 /home/ubuntu/datasets/alignments/mini_Rfam/final_split_by_model/RF02449_final.fa /mnt/efs/fs1/software/Manuscript/GTDB_Data_Curation_and_Preprocessing/Hierarchical_Clustering/RF02449/\n",
      "RF00379 /home/ubuntu/datasets/alignments/mini_Rfam/final_split_by_model/RF00379_final.fa /mnt/efs/fs1/software/Manuscript/GTDB_Data_Curation_and_Preprocessing/Hierarchical_Clustering/RF00379/\n",
      "RF02001 /home/ubuntu/datasets/alignments/mini_Rfam/final_split_by_model/RF02001_final.fa /mnt/efs/fs1/software/Manuscript/GTDB_Data_Curation_and_Preprocessing/Hierarchical_Clustering/RF02001/\n",
      "RF01387 /home/ubuntu/datasets/alignments/mini_Rfam/final_split_by_model/RF01387_final.fa /mnt/efs/fs1/software/Manuscript/GTDB_Data_Curation_and_Preprocessing/Hierarchical_Clustering/RF01387/\n",
      "RF00021 /home/ubuntu/datasets/alignments/mini_Rfam/final_split_by_model/RF00021_final.fa /mnt/efs/fs1/software/Manuscript/GTDB_Data_Curation_and_Preprocessing/Hierarchical_Clustering/RF00021/\n",
      "RF02100 /home/ubuntu/datasets/alignments/mini_Rfam/final_split_by_model/RF02100_final.fa /mnt/efs/fs1/software/Manuscript/GTDB_Data_Curation_and_Preprocessing/Hierarchical_Clustering/RF02100/\n",
      "RF01729 /home/ubuntu/datasets/alignments/mini_Rfam/final_split_by_model/RF01729_final.fa /mnt/efs/fs1/software/Manuscript/GTDB_Data_Curation_and_Preprocessing/Hierarchical_Clustering/RF01729/\n",
      "RF02346 /home/ubuntu/datasets/alignments/mini_Rfam/final_split_by_model/RF02346_final.fa /mnt/efs/fs1/software/Manuscript/GTDB_Data_Curation_and_Preprocessing/Hierarchical_Clustering/RF02346/\n",
      "RF01851 /home/ubuntu/datasets/alignments/mini_Rfam/final_split_by_model/RF01851_final.fa /mnt/efs/fs1/software/Manuscript/GTDB_Data_Curation_and_Preprocessing/Hierarchical_Clustering/RF01851/\n",
      "RF00168 /home/ubuntu/datasets/alignments/mini_Rfam/final_split_by_model/RF00168_final.fa /mnt/efs/fs1/software/Manuscript/GTDB_Data_Curation_and_Preprocessing/Hierarchical_Clustering/RF00168/\n",
      "RF01770 /home/ubuntu/datasets/alignments/mini_Rfam/final_split_by_model/RF01770_final.fa /mnt/efs/fs1/software/Manuscript/GTDB_Data_Curation_and_Preprocessing/Hierarchical_Clustering/RF01770/\n",
      "RF01419 /home/ubuntu/datasets/alignments/mini_Rfam/final_split_by_model/RF01419_final.fa /mnt/efs/fs1/software/Manuscript/GTDB_Data_Curation_and_Preprocessing/Hierarchical_Clustering/RF01419/\n",
      "RF02526 /home/ubuntu/datasets/alignments/mini_Rfam/final_split_by_model/RF02526_final.fa /mnt/efs/fs1/software/Manuscript/GTDB_Data_Curation_and_Preprocessing/Hierarchical_Clustering/RF02526/\n",
      "RF04182 /home/ubuntu/datasets/alignments/mini_Rfam/final_split_by_model/RF04182_final.fa /mnt/efs/fs1/software/Manuscript/GTDB_Data_Curation_and_Preprocessing/Hierarchical_Clustering/RF04182/\n",
      "RF01752 /home/ubuntu/datasets/alignments/mini_Rfam/final_split_by_model/RF01752_final.fa /mnt/efs/fs1/software/Manuscript/GTDB_Data_Curation_and_Preprocessing/Hierarchical_Clustering/RF01752/\n",
      "RF03534 /home/ubuntu/datasets/alignments/mini_Rfam/final_split_by_model/RF03534_final.fa /mnt/efs/fs1/software/Manuscript/GTDB_Data_Curation_and_Preprocessing/Hierarchical_Clustering/RF03534/\n",
      "RF00627 /home/ubuntu/datasets/alignments/mini_Rfam/final_split_by_model/RF00627_final.fa /mnt/efs/fs1/software/Manuscript/GTDB_Data_Curation_and_Preprocessing/Hierarchical_Clustering/RF00627/\n",
      "RF02355 /home/ubuntu/datasets/alignments/mini_Rfam/final_split_by_model/RF02355_final.fa /mnt/efs/fs1/software/Manuscript/GTDB_Data_Curation_and_Preprocessing/Hierarchical_Clustering/RF02355/\n",
      "RF02076 /home/ubuntu/datasets/alignments/mini_Rfam/final_split_by_model/RF02076_final.fa /mnt/efs/fs1/software/Manuscript/GTDB_Data_Curation_and_Preprocessing/Hierarchical_Clustering/RF02076/\n",
      "RF00195 /home/ubuntu/datasets/alignments/mini_Rfam/final_split_by_model/RF00195_final.fa /mnt/efs/fs1/software/Manuscript/GTDB_Data_Curation_and_Preprocessing/Hierarchical_Clustering/RF00195/\n",
      "RF03066 /home/ubuntu/datasets/alignments/mini_Rfam/final_split_by_model/RF03066_final.fa /mnt/efs/fs1/software/Manuscript/GTDB_Data_Curation_and_Preprocessing/Hierarchical_Clustering/RF03066/\n",
      "RF01859 /home/ubuntu/datasets/alignments/mini_Rfam/final_split_by_model/RF01859_final.fa /mnt/efs/fs1/software/Manuscript/GTDB_Data_Curation_and_Preprocessing/Hierarchical_Clustering/RF01859/\n",
      "RF02032 /home/ubuntu/datasets/alignments/mini_Rfam/final_split_by_model/RF02032_final.fa /mnt/efs/fs1/software/Manuscript/GTDB_Data_Curation_and_Preprocessing/Hierarchical_Clustering/RF02032/\n",
      "RF02230 /home/ubuntu/datasets/alignments/mini_Rfam/final_split_by_model/RF02230_final.fa /mnt/efs/fs1/software/Manuscript/GTDB_Data_Curation_and_Preprocessing/Hierarchical_Clustering/RF02230/\n",
      "RF03022 /home/ubuntu/datasets/alignments/mini_Rfam/final_split_by_model/RF03022_final.fa /mnt/efs/fs1/software/Manuscript/GTDB_Data_Curation_and_Preprocessing/Hierarchical_Clustering/RF03022/\n",
      "RF02687 /home/ubuntu/datasets/alignments/mini_Rfam/final_split_by_model/RF02687_final.fa /mnt/efs/fs1/software/Manuscript/GTDB_Data_Curation_and_Preprocessing/Hierarchical_Clustering/RF02687/\n",
      "RF01796 /home/ubuntu/datasets/alignments/mini_Rfam/final_split_by_model/RF01796_final.fa /mnt/efs/fs1/software/Manuscript/GTDB_Data_Curation_and_Preprocessing/Hierarchical_Clustering/RF01796/\n",
      "RF00034 /home/ubuntu/datasets/alignments/mini_Rfam/final_split_by_model/RF00034_final.fa /mnt/efs/fs1/software/Manuscript/GTDB_Data_Curation_and_Preprocessing/Hierarchical_Clustering/RF00034/\n",
      "RF02966 /home/ubuntu/datasets/alignments/mini_Rfam/final_split_by_model/RF02966_final.fa /mnt/efs/fs1/software/Manuscript/GTDB_Data_Curation_and_Preprocessing/Hierarchical_Clustering/RF02966/\n",
      "RF00106 /home/ubuntu/datasets/alignments/mini_Rfam/final_split_by_model/RF00106_final.fa /mnt/efs/fs1/software/Manuscript/GTDB_Data_Curation_and_Preprocessing/Hierarchical_Clustering/RF00106/\n",
      "RF02957 /home/ubuntu/datasets/alignments/mini_Rfam/final_split_by_model/RF02957_final.fa /mnt/efs/fs1/software/Manuscript/GTDB_Data_Curation_and_Preprocessing/Hierarchical_Clustering/RF02957/\n",
      "RF02005 /home/ubuntu/datasets/alignments/mini_Rfam/final_split_by_model/RF02005_final.fa /mnt/efs/fs1/software/Manuscript/GTDB_Data_Curation_and_Preprocessing/Hierarchical_Clustering/RF02005/\n",
      "RF03112 /home/ubuntu/datasets/alignments/mini_Rfam/final_split_by_model/RF03112_final.fa /mnt/efs/fs1/software/Manuscript/GTDB_Data_Curation_and_Preprocessing/Hierarchical_Clustering/RF03112/\n",
      "RF01411 /home/ubuntu/datasets/alignments/mini_Rfam/final_split_by_model/RF01411_final.fa /mnt/efs/fs1/software/Manuscript/GTDB_Data_Curation_and_Preprocessing/Hierarchical_Clustering/RF01411/\n",
      "RF02500 /home/ubuntu/datasets/alignments/mini_Rfam/final_split_by_model/RF02500_final.fa /mnt/efs/fs1/software/Manuscript/GTDB_Data_Curation_and_Preprocessing/Hierarchical_Clustering/RF02500/\n",
      "RF01769 /home/ubuntu/datasets/alignments/mini_Rfam/final_split_by_model/RF01769_final.fa /mnt/efs/fs1/software/Manuscript/GTDB_Data_Curation_and_Preprocessing/Hierarchical_Clustering/RF01769/\n",
      "RF03019 /home/ubuntu/datasets/alignments/mini_Rfam/final_split_by_model/RF03019_final.fa /mnt/efs/fs1/software/Manuscript/GTDB_Data_Curation_and_Preprocessing/Hierarchical_Clustering/RF03019/\n",
      "RF02920 /home/ubuntu/datasets/alignments/mini_Rfam/final_split_by_model/RF02920_final.fa /mnt/efs/fs1/software/Manuscript/GTDB_Data_Curation_and_Preprocessing/Hierarchical_Clustering/RF02920/\n",
      "RF03532 /home/ubuntu/datasets/alignments/mini_Rfam/final_split_by_model/RF03532_final.fa /mnt/efs/fs1/software/Manuscript/GTDB_Data_Curation_and_Preprocessing/Hierarchical_Clustering/RF03532/\n",
      "RF00625 /home/ubuntu/datasets/alignments/mini_Rfam/final_split_by_model/RF00625_final.fa /mnt/efs/fs1/software/Manuscript/GTDB_Data_Curation_and_Preprocessing/Hierarchical_Clustering/RF00625/\n",
      "RF01732 /home/ubuntu/datasets/alignments/mini_Rfam/final_split_by_model/RF01732_final.fa /mnt/efs/fs1/software/Manuscript/GTDB_Data_Curation_and_Preprocessing/Hierarchical_Clustering/RF01732/\n",
      "RF03037 /home/ubuntu/datasets/alignments/mini_Rfam/final_split_by_model/RF03037_final.fa /mnt/efs/fs1/software/Manuscript/GTDB_Data_Curation_and_Preprocessing/Hierarchical_Clustering/RF03037/\n",
      "RF00166 /home/ubuntu/datasets/alignments/mini_Rfam/final_split_by_model/RF00166_final.fa /mnt/efs/fs1/software/Manuscript/GTDB_Data_Curation_and_Preprocessing/Hierarchical_Clustering/RF00166/\n",
      "RF02344 /home/ubuntu/datasets/alignments/mini_Rfam/final_split_by_model/RF02344_final.fa /mnt/efs/fs1/software/Manuscript/GTDB_Data_Curation_and_Preprocessing/Hierarchical_Clustering/RF02344/\n",
      "RF01723 /home/ubuntu/datasets/alignments/mini_Rfam/final_split_by_model/RF01723_final.fa /mnt/efs/fs1/software/Manuscript/GTDB_Data_Curation_and_Preprocessing/Hierarchical_Clustering/RF01723/\n",
      "RF02452 /home/ubuntu/datasets/alignments/mini_Rfam/final_split_by_model/RF02452_final.fa /mnt/efs/fs1/software/Manuscript/GTDB_Data_Curation_and_Preprocessing/Hierarchical_Clustering/RF02452/\n",
      "RF03028 /home/ubuntu/datasets/alignments/mini_Rfam/final_split_by_model/RF03028_final.fa /mnt/efs/fs1/software/Manuscript/GTDB_Data_Curation_and_Preprocessing/Hierarchical_Clustering/RF03028/\n",
      "RF00634 /home/ubuntu/datasets/alignments/mini_Rfam/final_split_by_model/RF00634_final.fa /mnt/efs/fs1/software/Manuscript/GTDB_Data_Curation_and_Preprocessing/Hierarchical_Clustering/RF00634/\n",
      "RF00391 /home/ubuntu/datasets/alignments/mini_Rfam/final_split_by_model/RF00391_final.fa /mnt/efs/fs1/software/Manuscript/GTDB_Data_Curation_and_Preprocessing/Hierarchical_Clustering/RF00391/\n",
      "RF00616 /home/ubuntu/datasets/alignments/mini_Rfam/final_split_by_model/RF00616_final.fa /mnt/efs/fs1/software/Manuscript/GTDB_Data_Curation_and_Preprocessing/Hierarchical_Clustering/RF00616/\n",
      "RF03046 /home/ubuntu/datasets/alignments/mini_Rfam/final_split_by_model/RF03046_final.fa /mnt/efs/fs1/software/Manuscript/GTDB_Data_Curation_and_Preprocessing/Hierarchical_Clustering/RF03046/\n",
      "RF00373 /home/ubuntu/datasets/alignments/mini_Rfam/final_split_by_model/RF00373_final.fa /mnt/efs/fs1/software/Manuscript/GTDB_Data_Curation_and_Preprocessing/Hierarchical_Clustering/RF00373/\n",
      "RF02434 /home/ubuntu/datasets/alignments/mini_Rfam/final_split_by_model/RF02434_final.fa /mnt/efs/fs1/software/Manuscript/GTDB_Data_Curation_and_Preprocessing/Hierarchical_Clustering/RF02434/\n",
      "RF02928 /home/ubuntu/datasets/alignments/mini_Rfam/final_split_by_model/RF02928_final.fa /mnt/efs/fs1/software/Manuscript/GTDB_Data_Curation_and_Preprocessing/Hierarchical_Clustering/RF02928/\n",
      "RF01794 /home/ubuntu/datasets/alignments/mini_Rfam/final_split_by_model/RF01794_final.fa /mnt/efs/fs1/software/Manuscript/GTDB_Data_Curation_and_Preprocessing/Hierarchical_Clustering/RF01794/\n",
      "RF00113 /home/ubuntu/datasets/alignments/mini_Rfam/final_split_by_model/RF00113_final.fa /mnt/efs/fs1/software/Manuscript/GTDB_Data_Curation_and_Preprocessing/Hierarchical_Clustering/RF00113/\n",
      "RF01758 /home/ubuntu/datasets/alignments/mini_Rfam/final_split_by_model/RF01758_final.fa /mnt/efs/fs1/software/Manuscript/GTDB_Data_Curation_and_Preprocessing/Hierarchical_Clustering/RF01758/\n",
      "RF00230 /home/ubuntu/datasets/alignments/mini_Rfam/final_split_by_model/RF00230_final.fa /mnt/efs/fs1/software/Manuscript/GTDB_Data_Curation_and_Preprocessing/Hierarchical_Clustering/RF00230/\n",
      "RF02012 /home/ubuntu/datasets/alignments/mini_Rfam/final_split_by_model/RF02012_final.fa /mnt/efs/fs1/software/Manuscript/GTDB_Data_Curation_and_Preprocessing/Hierarchical_Clustering/RF02012/\n",
      "RF02469 /home/ubuntu/datasets/alignments/mini_Rfam/final_split_by_model/RF02469_final.fa /mnt/efs/fs1/software/Manuscript/GTDB_Data_Curation_and_Preprocessing/Hierarchical_Clustering/RF02469/\n",
      "RF00050 /home/ubuntu/datasets/alignments/mini_Rfam/final_split_by_model/RF00050_final.fa /mnt/efs/fs1/software/Manuscript/GTDB_Data_Curation_and_Preprocessing/Hierarchical_Clustering/RF00050/\n",
      "RF01497 /home/ubuntu/datasets/alignments/mini_Rfam/final_split_by_model/RF01497_final.fa /mnt/efs/fs1/software/Manuscript/GTDB_Data_Curation_and_Preprocessing/Hierarchical_Clustering/RF01497/\n",
      "RF02982 /home/ubuntu/datasets/alignments/mini_Rfam/final_split_by_model/RF02982_final.fa /mnt/efs/fs1/software/Manuscript/GTDB_Data_Curation_and_Preprocessing/Hierarchical_Clustering/RF02982/\n",
      "RF02111 /home/ubuntu/datasets/alignments/mini_Rfam/final_split_by_model/RF02111_final.fa /mnt/efs/fs1/software/Manuscript/GTDB_Data_Curation_and_Preprocessing/Hierarchical_Clustering/RF02111/\n",
      "RF02030 /home/ubuntu/datasets/alignments/mini_Rfam/final_split_by_model/RF02030_final.fa /mnt/efs/fs1/software/Manuscript/GTDB_Data_Curation_and_Preprocessing/Hierarchical_Clustering/RF02030/\n",
      "RF01857 /home/ubuntu/datasets/alignments/mini_Rfam/final_split_by_model/RF01857_final.fa /mnt/efs/fs1/software/Manuscript/GTDB_Data_Curation_and_Preprocessing/Hierarchical_Clustering/RF01857/\n",
      "RF02496 /home/ubuntu/datasets/alignments/mini_Rfam/final_split_by_model/RF02496_final.fa /mnt/efs/fs1/software/Manuscript/GTDB_Data_Curation_and_Preprocessing/Hierarchical_Clustering/RF02496/\n",
      "RF02955 /home/ubuntu/datasets/alignments/mini_Rfam/final_split_by_model/RF02955_final.fa /mnt/efs/fs1/software/Manuscript/GTDB_Data_Curation_and_Preprocessing/Hierarchical_Clustering/RF02955/\n",
      "RF02003 /home/ubuntu/datasets/alignments/mini_Rfam/final_split_by_model/RF02003_final.fa /mnt/efs/fs1/software/Manuscript/GTDB_Data_Curation_and_Preprocessing/Hierarchical_Clustering/RF02003/\n",
      "RF00140 /home/ubuntu/datasets/alignments/mini_Rfam/final_split_by_model/RF00140_final.fa /mnt/efs/fs1/software/Manuscript/GTDB_Data_Curation_and_Preprocessing/Hierarchical_Clustering/RF00140/\n",
      "RF00023 /home/ubuntu/datasets/alignments/mini_Rfam/final_split_by_model/RF00023_final.fa /mnt/efs/fs1/software/Manuscript/GTDB_Data_Curation_and_Preprocessing/Hierarchical_Clustering/RF00023/\n",
      "RF02919 /home/ubuntu/datasets/alignments/mini_Rfam/final_split_by_model/RF02919_final.fa /mnt/efs/fs1/software/Manuscript/GTDB_Data_Curation_and_Preprocessing/Hierarchical_Clustering/RF02919/\n",
      "RF03011 /home/ubuntu/datasets/alignments/mini_Rfam/final_split_by_model/RF03011_final.fa /mnt/efs/fs1/software/Manuscript/GTDB_Data_Curation_and_Preprocessing/Hierarchical_Clustering/RF03011/\n",
      "RF02960 /home/ubuntu/datasets/alignments/mini_Rfam/final_split_by_model/RF02960_final.fa /mnt/efs/fs1/software/Manuscript/GTDB_Data_Curation_and_Preprocessing/Hierarchical_Clustering/RF02960/\n",
      "RF00629 /home/ubuntu/datasets/alignments/mini_Rfam/final_split_by_model/RF00629_final.fa /mnt/efs/fs1/software/Manuscript/GTDB_Data_Curation_and_Preprocessing/Hierarchical_Clustering/RF00629/\n",
      "RF01754 /home/ubuntu/datasets/alignments/mini_Rfam/final_split_by_model/RF01754_final.fa /mnt/efs/fs1/software/Manuscript/GTDB_Data_Curation_and_Preprocessing/Hierarchical_Clustering/RF01754/\n",
      "RF01673 /home/ubuntu/datasets/alignments/mini_Rfam/final_split_by_model/RF01673_final.fa /mnt/efs/fs1/software/Manuscript/GTDB_Data_Curation_and_Preprocessing/Hierarchical_Clustering/RF01673/\n",
      "RF01718 /home/ubuntu/datasets/alignments/mini_Rfam/final_split_by_model/RF01718_final.fa /mnt/efs/fs1/software/Manuscript/GTDB_Data_Curation_and_Preprocessing/Hierarchical_Clustering/RF01718/\n",
      "RF02447 /home/ubuntu/datasets/alignments/mini_Rfam/final_split_by_model/RF02447_final.fa /mnt/efs/fs1/software/Manuscript/GTDB_Data_Curation_and_Preprocessing/Hierarchical_Clustering/RF02447/\n",
      "RF00010 /home/ubuntu/datasets/alignments/mini_Rfam/final_split_by_model/RF00010_final.fa /mnt/efs/fs1/software/Manuscript/GTDB_Data_Curation_and_Preprocessing/Hierarchical_Clustering/RF00010/\n",
      "RF03077 /home/ubuntu/datasets/alignments/mini_Rfam/final_split_by_model/RF03077_final.fa /mnt/efs/fs1/software/Manuscript/GTDB_Data_Curation_and_Preprocessing/Hierarchical_Clustering/RF03077/\n",
      "RF01772 /home/ubuntu/datasets/alignments/mini_Rfam/final_split_by_model/RF01772_final.fa /mnt/efs/fs1/software/Manuscript/GTDB_Data_Curation_and_Preprocessing/Hierarchical_Clustering/RF01772/\n",
      "RF01736 /home/ubuntu/datasets/alignments/mini_Rfam/final_split_by_model/RF01736_final.fa /mnt/efs/fs1/software/Manuscript/GTDB_Data_Curation_and_Preprocessing/Hierarchical_Clustering/RF01736/\n",
      "RF02942 /home/ubuntu/datasets/alignments/mini_Rfam/final_split_by_model/RF02942_final.fa /mnt/efs/fs1/software/Manuscript/GTDB_Data_Curation_and_Preprocessing/Hierarchical_Clustering/RF02942/\n",
      "RF03068 /home/ubuntu/datasets/alignments/mini_Rfam/final_split_by_model/RF03068_final.fa /mnt/efs/fs1/software/Manuscript/GTDB_Data_Curation_and_Preprocessing/Hierarchical_Clustering/RF03068/\n",
      "RF00557 /home/ubuntu/datasets/alignments/mini_Rfam/final_split_by_model/RF00557_final.fa /mnt/efs/fs1/software/Manuscript/GTDB_Data_Curation_and_Preprocessing/Hierarchical_Clustering/RF00557/\n",
      "RF01808 /home/ubuntu/datasets/alignments/mini_Rfam/final_split_by_model/RF01808_final.fa /mnt/efs/fs1/software/Manuscript/GTDB_Data_Curation_and_Preprocessing/Hierarchical_Clustering/RF01808/\n",
      "RF02375 /home/ubuntu/datasets/alignments/mini_Rfam/final_split_by_model/RF02375_final.fa /mnt/efs/fs1/software/Manuscript/GTDB_Data_Curation_and_Preprocessing/Hierarchical_Clustering/RF02375/\n",
      "RF01385 /home/ubuntu/datasets/alignments/mini_Rfam/final_split_by_model/RF01385_final.fa /mnt/efs/fs1/software/Manuscript/GTDB_Data_Curation_and_Preprocessing/Hierarchical_Clustering/RF01385/\n",
      "RF01745 /home/ubuntu/datasets/alignments/mini_Rfam/final_split_by_model/RF01745_final.fa /mnt/efs/fs1/software/Manuscript/GTDB_Data_Curation_and_Preprocessing/Hierarchical_Clustering/RF01745/\n",
      "RF02951 /home/ubuntu/datasets/alignments/mini_Rfam/final_split_by_model/RF02951_final.fa /mnt/efs/fs1/software/Manuscript/GTDB_Data_Curation_and_Preprocessing/Hierarchical_Clustering/RF02951/\n",
      "RF00234 /home/ubuntu/datasets/alignments/mini_Rfam/final_split_by_model/RF00234_final.fa /mnt/efs/fs1/software/Manuscript/GTDB_Data_Curation_and_Preprocessing/Hierarchical_Clustering/RF00234/\n",
      "RF02052 /home/ubuntu/datasets/alignments/mini_Rfam/final_split_by_model/RF02052_final.fa /mnt/efs/fs1/software/Manuscript/GTDB_Data_Curation_and_Preprocessing/Hierarchical_Clustering/RF02052/\n",
      "RF00513 /home/ubuntu/datasets/alignments/mini_Rfam/final_split_by_model/RF00513_final.fa /mnt/efs/fs1/software/Manuscript/GTDB_Data_Curation_and_Preprocessing/Hierarchical_Clustering/RF00513/\n",
      "RF01699 /home/ubuntu/datasets/alignments/mini_Rfam/final_split_by_model/RF01699_final.fa /mnt/efs/fs1/software/Manuscript/GTDB_Data_Curation_and_Preprocessing/Hierarchical_Clustering/RF01699/\n",
      "RF02034 /home/ubuntu/datasets/alignments/mini_Rfam/final_split_by_model/RF02034_final.fa /mnt/efs/fs1/software/Manuscript/GTDB_Data_Curation_and_Preprocessing/Hierarchical_Clustering/RF02034/\n",
      "RF02986 /home/ubuntu/datasets/alignments/mini_Rfam/final_split_by_model/RF02986_final.fa /mnt/efs/fs1/software/Manuscript/GTDB_Data_Curation_and_Preprocessing/Hierarchical_Clustering/RF02986/\n",
      "RF00018 /home/ubuntu/datasets/alignments/mini_Rfam/final_split_by_model/RF00018_final.fa /mnt/efs/fs1/software/Manuscript/GTDB_Data_Curation_and_Preprocessing/Hierarchical_Clustering/RF00018/\n",
      "RF02232 /home/ubuntu/datasets/alignments/mini_Rfam/final_split_by_model/RF02232_final.fa /mnt/efs/fs1/software/Manuscript/GTDB_Data_Curation_and_Preprocessing/Hierarchical_Clustering/RF02232/\n",
      "RF00162 /home/ubuntu/datasets/alignments/mini_Rfam/final_split_by_model/RF00162_final.fa /mnt/efs/fs1/software/Manuscript/GTDB_Data_Curation_and_Preprocessing/Hierarchical_Clustering/RF00162/\n",
      "RF02502 /home/ubuntu/datasets/alignments/mini_Rfam/final_split_by_model/RF02502_final.fa /mnt/efs/fs1/software/Manuscript/GTDB_Data_Curation_and_Preprocessing/Hierarchical_Clustering/RF02502/\n",
      "RF02421 /home/ubuntu/datasets/alignments/mini_Rfam/final_split_by_model/RF02421_final.fa /mnt/efs/fs1/software/Manuscript/GTDB_Data_Curation_and_Preprocessing/Hierarchical_Clustering/RF02421/\n",
      "RF02995 /home/ubuntu/datasets/alignments/mini_Rfam/final_split_by_model/RF02995_final.fa /mnt/efs/fs1/software/Manuscript/GTDB_Data_Curation_and_Preprocessing/Hierarchical_Clustering/RF02995/\n"
     ]
    }
   ],
   "source": [
    "#### CD HIT: CLUSTER ALL ####\n",
    "## VARIABLES\n",
    "# Data\n",
    "rfam_228_dir = \"/home/ubuntu/datasets/alignments/mini_Rfam/final_split_by_model/\"\n",
    "fasta_dict_228 = {fa.split(\"/\")[-1].split(\"_final.fa\")[0]:fa for fa in glob.glob(f\"{rfam_228_dir}*_final.fa\")}\n",
    "rfam_3x_test = {\"5S\" : f\"{final_train_test_dir}5S_Test.fa\", \n",
    "                \"16S\" : f\"{final_train_test_dir}16S_Test.fa\", \n",
    "                \"23S\" : f\"{final_train_test_dir}23S_Test.fa\"}\n",
    "rfam_3x_train = {\"5S\": f\"{final_train_test_dir}5S_Train.fa\",\n",
    "                \"16S\": f\"{final_train_test_dir}16S_Train.fa\",\n",
    "                \"23S\": f\"{final_train_test_dir}23S_Train.fa\"}\n",
    "# ADD RFAM SUFFIX TO ORIGINAL FASTA HEADERS\n",
    "new_suffix = \"_with_Rfam_suffix.fa\"\n",
    "for rfam,fasta in fasta_dict.items():\n",
    "    new_fasta = f\"{final_train_test_dir}{rfam}_Total{new_suffix}\"\n",
    "    if not os.path.exists(new_fasta):\n",
    "        add_suffix_to_fasta(fasta, new_fasta, f\"__{rfam}\")\n",
    "        fasta_dict[rfam] = new_fasta\n",
    "for rfam,fasta in rfam_3x_test.items():\n",
    "    new_fasta = fasta.replace(\".fa\", new_suffix)\n",
    "    if not os.path.exists(new_fasta):\n",
    "        add_suffix_to_fasta(fasta, new_fasta, f\"__{rfam}\")\n",
    "        rfam_3x_test[rfam] = new_fasta\n",
    "for rfam,fasta in rfam_3x_train.items():\n",
    "    new_fasta = fasta.replace(\".fa\", f\"__{rfam}\")\n",
    "    if not os.path.exists(new_fasta):\n",
    "        add_suffix_to_fasta(fasta, new_fasta, f\"__{rfam}\")\n",
    "        rfam_3x_train[rfam] = new_fasta\n",
    "\n",
    "## FOR EACH FASTA\n",
    "bash_scripts = []\n",
    "for rfam,fasta in fasta_dict_228.items():\n",
    "    # SETUP\n",
    "    out_dir = f\"{cluster_dir}{rfam}/\"\n",
    "    print(rfam,fasta, out_dir)\n",
    "    \n",
    "    # Make subdir for Rfam clusters\n",
    "    if not os.path.exists(out_dir):\n",
    "        os.mkdir(out_dir)\n",
    "    \n",
    "    out_rfam = f\"{out_dir}{rfam}_Identity\"\n",
    "    bash_script_name = f\"{out_dir}{rfam}_vHierarchical.sh\"\n",
    "    bash_scripts.append(bash_script_name)\n",
    "    cd_hit_script = f\"\"\"#!/bin/bash\n",
    "#SBATCH --job-name={rfam}\n",
    "#SBATCH --output={rfam}job_output.log\n",
    "#SBATCH --partition=cpu-c6i-16xlarge\n",
    "#SBATCH --exclusive\n",
    "#SBATCH --nodes=1\n",
    "\n",
    "## SETUP\n",
    "# ACTIVATE CONDA\n",
    "source /home/ubuntu/anaconda3/etc/profile.d/conda.sh\n",
    "conda activate bioinfo_tools_Py_310\n",
    "\n",
    "# VARIABLES\n",
    "memory=0 #Unlimited = 0  #c6.16xL: 128000 MB\n",
    "def_line=0 #Grab entire header before first space\n",
    "mode=1 #1 is accurate mode\n",
    "\n",
    "# START TIME\n",
    "start_time=$(date +\"%Y-%m-%d %H:%M:%S\")\n",
    "\n",
    "## CD-HIT\n",
    "# CLUSTER HIERARCHICALLY\n",
    "{cd_hit} -i {fasta} -o {out_rfam}90 -c 0.9  -n 8 -d $def_line -M $memory -g $mode -T {threads}\n",
    "{cd_hit} -i {out_rfam}90 -o {out_rfam}80 -c 0.8  -n 5 -d $def_line -M $memory -g $mode -T {threads}\n",
    "{cd_hit} -i {out_rfam}80 -o {out_rfam}70 -c 0.7  -n 4 -d $def_line -M $memory -g $mode -T {threads}\n",
    "{cd_hit} -i {out_rfam}70 -o {out_rfam}60 -c 0.6  -n 4 -d $def_line -M $memory -g $mode -T {threads}\n",
    "        \n",
    "#MERGE\n",
    "{cluster_rev} {out_rfam}70.clstr {out_rfam}60.clstr > {out_dir}{rfam}_70_60Identity.clstr\n",
    "{cluster_rev} {out_rfam}80.clstr {out_dir}{rfam}_70_60Identity.clstr > {out_dir}{rfam}_80_70_60Identity.clstr\n",
    "{cluster_rev} {out_rfam}90.clstr {out_dir}{rfam}_80_70_60Identity.clstr > {out_dir}{rfam}_90_80_70_60Identity.clstr\n",
    "\n",
    "# END TIME\n",
    "end_time=$(date +\"%Y-%m-%d %H:%M:%S\")\n",
    "# Calculate and print the runtime\n",
    "start_timestamp=$(date -d \"$start_time\" +%s)\n",
    "end_timestamp=$(date -d \"$end_time\" +%s)\n",
    "runtime=$((end_timestamp - start_timestamp))\n",
    "# Print the runtime to the log\n",
    "echo \"Job started at: $start_time\"\n",
    "echo \"Job ended at: $end_time\"\n",
    "echo \"Total runtime: $runtime seconds\"\n",
    "\"\"\"\n",
    "    # Write Bash script\n",
    "    write_bash_script(bash_script_name, cd_hit_script)\n",
    "    \n",
    "    # Run job\n",
    "    #os.system(f\"sbatch {bash_script_name}\")\n"
   ]
  },
  {
   "cell_type": "code",
   "execution_count": 6,
   "id": "702bd930-949a-4372-926f-c0888b823873",
   "metadata": {},
   "outputs": [
    {
     "name": "stdout",
     "output_type": "stream",
     "text": [
      "#### Num RFAMS in miniRFAM: 228\n",
      "5S 6357623\n",
      "16S 60140726\n",
      "23S 154200477\n",
      "305020182\n"
     ]
    }
   ],
   "source": [
    "#### GET FASTA STATS ###\n",
    "## CHECK AVAILABLE RFAMS\n",
    "old_rfams = [\"5S\", \"16S\", \"23S\"]\n",
    "new_rfams = [x for x in  os.listdir(cluster_dir) if x.startswith(\"RF\")]\n",
    "print(f\"#### Num RFAMS in miniRFAM: {len(new_rfams)}\")\n",
    "\n",
    "## SEQ LENS:\n",
    "minirfam_fasta_len_dict = {record.id:len(record.seq) for record in \\\n",
    "                           SeqIO.parse(\"/home/ubuntu/datasets/alignments/mini_Rfam/mini_rfam.fa\", \"fasta\")}\n",
    "\n",
    "## NEW FASTAS: create dict of individual fasta splits\n",
    "suffix_228_fa = \"_final.fa\"\n",
    "\n",
    "## COUNT TOTAL FASTAS: Count seqs/rfam and tokens/rfam\n",
    "bp_per_rfam = {}\n",
    "n_seqs_per_rfam = {}\n",
    "\n",
    "thermo_bp_per_rfam = {}\n",
    "thermo_n_seqs_per_rfam = {}\n",
    "\n",
    "for k,v in fasta_dict.items():\n",
    "    output = subprocess.check_output(f\"seqkit stats {v}\", shell=True, text=True)\n",
    "    # Total Tokens or BP\n",
    "    bp_per_rfam[k] = int(output.split()[12].replace(\",\", \"\"))\n",
    "    # Total Seqs\n",
    "    n_seqs_per_rfam[k] = int(output.split()[11].replace(\",\", \"\"))\n",
    "for k,v in fasta_dict_228.items():    \n",
    "    output = subprocess.check_output(f\"seqkit stats {v}\", shell=True, text=True)\n",
    "    # Total Tokens or BP\n",
    "    bp_per_rfam[k] = int(output.split()[12].replace(\",\", \"\"))\n",
    "    # Total Seqs\n",
    "    n_seqs_per_rfam[k] = int(output.split()[11].replace(\",\", \"\"))\n",
    "\n",
    "# FIND RFAMS WITHOUT THERMOs\n",
    "no_thermophiles_in_rfam = [k for k,v in thermo_n_seqs_per_rfam.items() if v == 0 ] #and k not in old_rfams\n",
    "# FIND RFAMS WITH THERMOs\n",
    "rfams_with_thermos = [k for k,v in thermo_n_seqs_per_rfam.items() if v != 0 ] # and k not in old_rfams\n",
    "\n",
    "# GET TOTAL TOKENS: Find 5S, 16S, 23S token counts \n",
    "total_token_3xrfam = 0\n",
    "for rfam,fasta in fasta_dict.items():\n",
    "    output = subprocess.check_output(f\"seqkit stats {fasta.replace('Superset', 'Superset/Archive')}\", \n",
    "                                     shell=True, text=True)\n",
    "    test_tokens = int(output.split()[12].replace(\",\", \"\"))\n",
    "    total_token_3xrfam += test_tokens\n",
    "    print(rfam,total_token_3xrfam)\n",
    "    \n",
    "total_tokens_228xrfam = int(subprocess.check_output(f\"seqkit stats /home/ubuntu/datasets/alignments/mini_Rfam/mini_rfam.fa\", \n",
    "                                     shell=True, text=True).split()[12].replace(\",\",\"\"))\n",
    "total_tokens_231xrfam = total_tokens_228xrfam + total_token_3xrfam\n",
    "print(total_tokens_231xrfam)\n"
   ]
  },
  {
   "cell_type": "code",
   "execution_count": 7,
   "id": "866dbafb-1585-4a41-95ec-b38a5082da8c",
   "metadata": {},
   "outputs": [
    {
     "name": "stdout",
     "output_type": "stream",
     "text": [
      "#### ALL DATA ####\n",
      "#### PROCESSING: RF01702, /home/ubuntu/datasets/db1/traintestval_split/CD_Hit/Custom_CD_Hit/Hierarchical_Clustering/RF01702/\n",
      "#### RF01702: 53 sequences in RFAM, 2 clusters, 10837 total tokens, 0 thermo clusters\n",
      "#### PROCESSING: RF02431, /home/ubuntu/datasets/db1/traintestval_split/CD_Hit/Custom_CD_Hit/Hierarchical_Clustering/RF02431/\n",
      "#### RF02431: 204 sequences in RFAM, 1 clusters, 29381 total tokens, 0 thermo clusters\n",
      "#### PROCESSING: RF02035, /home/ubuntu/datasets/db1/traintestval_split/CD_Hit/Custom_CD_Hit/Hierarchical_Clustering/RF02035/\n",
      "#### RF02035: 583 sequences in RFAM, 1 clusters, 82205 total tokens, 0 thermo clusters\n",
      "#### PROCESSING: RF02969, /home/ubuntu/datasets/db1/traintestval_split/CD_Hit/Custom_CD_Hit/Hierarchical_Clustering/RF02969/\n",
      "#### RF02969: 212 sequences in RFAM, 8 clusters, 24189 total tokens, 0 thermo clusters\n",
      "#### PROCESSING: RF01720, /home/ubuntu/datasets/db1/traintestval_split/CD_Hit/Custom_CD_Hit/Hierarchical_Clustering/RF01720/\n",
      "#### RF01720: 671 sequences in RFAM, 1 clusters, 67377 total tokens, 0 thermo clusters\n",
      "#### PROCESSING: RF00514, /home/ubuntu/datasets/db1/traintestval_split/CD_Hit/Custom_CD_Hit/Hierarchical_Clustering/RF00514/\n",
      "#### RF00514: 1097 sequences in RFAM, 3 clusters, 138517 total tokens, 0 thermo clusters\n",
      "#### PROCESSING: RF03025, /home/ubuntu/datasets/db1/traintestval_split/CD_Hit/Custom_CD_Hit/Hierarchical_Clustering/RF03025/\n",
      "#### RF03025: 41 sequences in RFAM, 1 clusters, 4832 total tokens, 0 thermo clusters\n",
      "#### PROCESSING: RF01405, /home/ubuntu/datasets/db1/traintestval_split/CD_Hit/Custom_CD_Hit/Hierarchical_Clustering/RF01405/\n",
      "#### RF01405: 903 sequences in RFAM, 2 clusters, 107611 total tokens, 0 thermo clusters\n",
      "#### PROCESSING: RF00028, /home/ubuntu/datasets/db1/traintestval_split/CD_Hit/Custom_CD_Hit/Hierarchical_Clustering/RF00028/\n",
      "#### RF00028: 40 sequences in RFAM, 20 clusters, 12673 total tokens, 1 thermo clusters\n",
      "#### PROCESSING: RF03016, /home/ubuntu/datasets/db1/traintestval_split/CD_Hit/Custom_CD_Hit/Hierarchical_Clustering/RF03016/\n",
      "#### RF03016: 45 sequences in RFAM, 3 clusters, 5240 total tokens, 0 thermo clusters\n",
      "#### PROCESSING: RF02422, /home/ubuntu/datasets/db1/traintestval_split/CD_Hit/Custom_CD_Hit/Hierarchical_Clustering/RF02422/\n",
      "#### RF02422: 241 sequences in RFAM, 1 clusters, 50199 total tokens, 0 thermo clusters\n",
      "#### PROCESSING: RF02978, /home/ubuntu/datasets/db1/traintestval_split/CD_Hit/Custom_CD_Hit/Hierarchical_Clustering/RF02978/\n",
      "#### RF02978: 20 sequences in RFAM, 1 clusters, 2027 total tokens, 0 thermo clusters\n",
      "#### PROCESSING: RF00442, /home/ubuntu/datasets/db1/traintestval_split/CD_Hit/Custom_CD_Hit/Hierarchical_Clustering/RF00442/\n",
      "#### RF00442: 5116 sequences in RFAM, 5 clusters, 548114 total tokens, 1 thermo clusters\n",
      "#### PROCESSING: RF01746, /home/ubuntu/datasets/db1/traintestval_split/CD_Hit/Custom_CD_Hit/Hierarchical_Clustering/RF01746/\n",
      "#### RF01746: 1720 sequences in RFAM, 9 clusters, 179336 total tokens, 0 thermo clusters\n",
      "#### PROCESSING: RF00378, /home/ubuntu/datasets/db1/traintestval_split/CD_Hit/Custom_CD_Hit/Hierarchical_Clustering/RF00378/\n",
      "#### RF00378: 613 sequences in RFAM, 1 clusters, 66178 total tokens, 0 thermo clusters\n",
      "#### PROCESSING: RF02079, /home/ubuntu/datasets/db1/traintestval_split/CD_Hit/Custom_CD_Hit/Hierarchical_Clustering/RF02079/\n",
      "#### RF02079: 128 sequences in RFAM, 3 clusters, 27341 total tokens, 0 thermo clusters\n",
      "#### PROCESSING: RF02673, /home/ubuntu/datasets/db1/traintestval_split/CD_Hit/Custom_CD_Hit/Hierarchical_Clustering/RF02673/\n",
      "#### RF02673: 808 sequences in RFAM, 3 clusters, 200825 total tokens, 0 thermo clusters\n",
      "#### PROCESSING: RF02916, /home/ubuntu/datasets/db1/traintestval_split/CD_Hit/Custom_CD_Hit/Hierarchical_Clustering/RF02916/\n",
      "#### RF02916: 220 sequences in RFAM, 1 clusters, 28179 total tokens, 0 thermo clusters\n",
      "#### PROCESSING: RF03087, /home/ubuntu/datasets/db1/traintestval_split/CD_Hit/Custom_CD_Hit/Hierarchical_Clustering/RF03087/\n",
      "#### RF03087: 201 sequences in RFAM, 44 clusters, 116339 total tokens, 0 thermo clusters\n",
      "#### PROCESSING: RF00101, /home/ubuntu/datasets/db1/traintestval_split/CD_Hit/Custom_CD_Hit/Hierarchical_Clustering/RF00101/\n",
      "#### RF00101: 522 sequences in RFAM, 2 clusters, 75622 total tokens, 0 thermo clusters\n",
      "#### PROCESSING: RF01764, /home/ubuntu/datasets/db1/traintestval_split/CD_Hit/Custom_CD_Hit/Hierarchical_Clustering/RF01764/\n",
      "#### RF01764: 2165 sequences in RFAM, 5 clusters, 240283 total tokens, 0 thermo clusters\n",
      "#### PROCESSING: RF00558, /home/ubuntu/datasets/db1/traintestval_split/CD_Hit/Custom_CD_Hit/Hierarchical_Clustering/RF00558/\n",
      "#### RF00558: 2659 sequences in RFAM, 6 clusters, 344486 total tokens, 3 thermo clusters\n",
      "#### PROCESSING: RF03069, /home/ubuntu/datasets/db1/traintestval_split/CD_Hit/Custom_CD_Hit/Hierarchical_Clustering/RF03069/\n",
      "#### RF03069: 1105 sequences in RFAM, 7 clusters, 199378 total tokens, 0 thermo clusters\n",
      "#### PROCESSING: RF01728, /home/ubuntu/datasets/db1/traintestval_split/CD_Hit/Custom_CD_Hit/Hierarchical_Clustering/RF01728/\n",
      "#### RF01728: 432 sequences in RFAM, 9 clusters, 68349 total tokens, 0 thermo clusters\n",
      "#### PROCESSING: RF01755, /home/ubuntu/datasets/db1/traintestval_split/CD_Hit/Custom_CD_Hit/Hierarchical_Clustering/RF01755/\n",
      "#### RF01755: 744 sequences in RFAM, 1 clusters, 98311 total tokens, 0 thermo clusters\n",
      "#### PROCESSING: RF01719, /home/ubuntu/datasets/db1/traintestval_split/CD_Hit/Custom_CD_Hit/Hierarchical_Clustering/RF01719/\n",
      "#### RF01719: 788 sequences in RFAM, 1 clusters, 91699 total tokens, 0 thermo clusters\n",
      "#### PROCESSING: RF01692, /home/ubuntu/datasets/db1/traintestval_split/CD_Hit/Custom_CD_Hit/Hierarchical_Clustering/RF01692/\n",
      "#### RF01692: 108 sequences in RFAM, 1 clusters, 15190 total tokens, 0 thermo clusters\n",
      "#### PROCESSING: RF01854, /home/ubuntu/datasets/db1/traintestval_split/CD_Hit/Custom_CD_Hit/Hierarchical_Clustering/RF01854/\n",
      "#### RF01854: 11373 sequences in RFAM, 34 clusters, 3008730 total tokens, 12 thermo clusters\n",
      "#### PROCESSING: RF00011, /home/ubuntu/datasets/db1/traintestval_split/CD_Hit/Custom_CD_Hit/Hierarchical_Clustering/RF00011/\n",
      "#### RF00011: 3947 sequences in RFAM, 6 clusters, 1454689 total tokens, 1 thermo clusters\n",
      "#### PROCESSING: RF02943, /home/ubuntu/datasets/db1/traintestval_split/CD_Hit/Custom_CD_Hit/Hierarchical_Clustering/RF02943/\n",
      "#### RF02943: 24 sequences in RFAM, 1 clusters, 9843 total tokens, 0 thermo clusters\n",
      "#### PROCESSING: RF02354, /home/ubuntu/datasets/db1/traintestval_split/CD_Hit/Custom_CD_Hit/Hierarchical_Clustering/RF02354/\n",
      "#### RF02354: 272 sequences in RFAM, 2 clusters, 43569 total tokens, 0 thermo clusters\n",
      "#### PROCESSING: RF00059, /home/ubuntu/datasets/db1/traintestval_split/CD_Hit/Custom_CD_Hit/Hierarchical_Clustering/RF00059/\n",
      "#### RF00059: 53555 sequences in RFAM, 21 clusters, 5730132 total tokens, 12 thermo clusters\n",
      "#### PROCESSING: RF02471, /home/ubuntu/datasets/db1/traintestval_split/CD_Hit/Custom_CD_Hit/Hierarchical_Clustering/RF02471/\n",
      "#### RF02471: 1853 sequences in RFAM, 5 clusters, 378314 total tokens, 0 thermo clusters\n",
      "#### PROCESSING: RF01742, /home/ubuntu/datasets/db1/traintestval_split/CD_Hit/Custom_CD_Hit/Hierarchical_Clustering/RF01742/\n",
      "#### RF01742: 17 sequences in RFAM, 1 clusters, 1825 total tokens, 0 thermo clusters\n",
      "#### PROCESSING: RF01760, /home/ubuntu/datasets/db1/traintestval_split/CD_Hit/Custom_CD_Hit/Hierarchical_Clustering/RF01760/\n",
      "#### RF01760: 563 sequences in RFAM, 2 clusters, 57532 total tokens, 1 thermo clusters\n",
      "#### PROCESSING: RF02921, /home/ubuntu/datasets/db1/traintestval_split/CD_Hit/Custom_CD_Hit/Hierarchical_Clustering/RF02921/\n",
      "#### RF02921: 210 sequences in RFAM, 3 clusters, 31359 total tokens, 1 thermo clusters\n",
      "#### PROCESSING: RF02840, /home/ubuntu/datasets/db1/traintestval_split/CD_Hit/Custom_CD_Hit/Hierarchical_Clustering/RF02840/\n",
      "#### RF02840: 236 sequences in RFAM, 5 clusters, 30737 total tokens, 0 thermo clusters\n",
      "#### PROCESSING: RF02084, /home/ubuntu/datasets/db1/traintestval_split/CD_Hit/Custom_CD_Hit/Hierarchical_Clustering/RF02084/\n",
      "#### RF02084: 160 sequences in RFAM, 2 clusters, 21764 total tokens, 0 thermo clusters\n",
      "#### PROCESSING: RF03155, /home/ubuntu/datasets/db1/traintestval_split/CD_Hit/Custom_CD_Hit/Hierarchical_Clustering/RF03155/\n",
      "#### RF03155: 358 sequences in RFAM, 2 clusters, 44059 total tokens, 0 thermo clusters\n",
      "#### PROCESSING: RF02345, /home/ubuntu/datasets/db1/traintestval_split/CD_Hit/Custom_CD_Hit/Hierarchical_Clustering/RF02345/\n",
      "#### RF02345: 1212 sequences in RFAM, 1 clusters, 136783 total tokens, 0 thermo clusters\n",
      "#### PROCESSING: RF00167, /home/ubuntu/datasets/db1/traintestval_split/CD_Hit/Custom_CD_Hit/Hierarchical_Clustering/RF00167/\n",
      "#### RF00167: 11807 sequences in RFAM, 16 clusters, 1195754 total tokens, 5 thermo clusters\n",
      "#### PROCESSING: RF01867, /home/ubuntu/datasets/db1/traintestval_split/CD_Hit/Custom_CD_Hit/Hierarchical_Clustering/RF01867/\n",
      "#### RF01867: 532 sequences in RFAM, 6 clusters, 89386 total tokens, 0 thermo clusters\n",
      "#### PROCESSING: RF02004, /home/ubuntu/datasets/db1/traintestval_split/CD_Hit/Custom_CD_Hit/Hierarchical_Clustering/RF02004/\n",
      "#### RF02004: 1623 sequences in RFAM, 11 clusters, 325434 total tokens, 0 thermo clusters\n",
      "#### PROCESSING: RF01849, /home/ubuntu/datasets/db1/traintestval_split/CD_Hit/Custom_CD_Hit/Hierarchical_Clustering/RF01849/\n",
      "#### RF01849: 6337 sequences in RFAM, 34 clusters, 2276975 total tokens, 0 thermo clusters\n",
      "#### PROCESSING: RF00114, /home/ubuntu/datasets/db1/traintestval_split/CD_Hit/Custom_CD_Hit/Hierarchical_Clustering/RF00114/\n",
      "#### RF00114: 2270 sequences in RFAM, 8 clusters, 267871 total tokens, 0 thermo clusters\n",
      "#### PROCESSING: RF04189, /home/ubuntu/datasets/db1/traintestval_split/CD_Hit/Custom_CD_Hit/Hierarchical_Clustering/RF04189/\n",
      "#### RF04189: 85 sequences in RFAM, 1 clusters, 10871 total tokens, 0 thermo clusters\n",
      "#### PROCESSING: RF03108, /home/ubuntu/datasets/db1/traintestval_split/CD_Hit/Custom_CD_Hit/Hierarchical_Clustering/RF03108/\n",
      "#### RF03108: 39 sequences in RFAM, 2 clusters, 8686 total tokens, 0 thermo clusters\n",
      "#### PROCESSING: RF01407, /home/ubuntu/datasets/db1/traintestval_split/CD_Hit/Custom_CD_Hit/Hierarchical_Clustering/RF01407/\n",
      "#### RF01407: 60 sequences in RFAM, 2 clusters, 13631 total tokens, 0 thermo clusters\n",
      "#### PROCESSING: RF03063, /home/ubuntu/datasets/db1/traintestval_split/CD_Hit/Custom_CD_Hit/Hierarchical_Clustering/RF03063/\n",
      "#### RF03063: 873 sequences in RFAM, 1 clusters, 102712 total tokens, 0 thermo clusters\n",
      "#### PROCESSING: RF00552, /home/ubuntu/datasets/db1/traintestval_split/CD_Hit/Custom_CD_Hit/Hierarchical_Clustering/RF00552/\n",
      "#### RF00552: 44 sequences in RFAM, 1 clusters, 9378 total tokens, 0 thermo clusters\n",
      "#### PROCESSING: RF01999, /home/ubuntu/datasets/db1/traintestval_split/CD_Hit/Custom_CD_Hit/Hierarchical_Clustering/RF01999/\n",
      "#### RF01999: 4446 sequences in RFAM, 12 clusters, 527136 total tokens, 1 thermo clusters\n",
      "#### PROCESSING: RF02235, /home/ubuntu/datasets/db1/traintestval_split/CD_Hit/Custom_CD_Hit/Hierarchical_Clustering/RF02235/\n",
      "#### RF02235: 346 sequences in RFAM, 1 clusters, 39492 total tokens, 0 thermo clusters\n",
      "#### PROCESSING: RF00615, /home/ubuntu/datasets/db1/traintestval_split/CD_Hit/Custom_CD_Hit/Hierarchical_Clustering/RF00615/\n",
      "#### RF00615: 31 sequences in RFAM, 1 clusters, 8233 total tokens, 0 thermo clusters\n",
      "#### PROCESSING: RF03045, /home/ubuntu/datasets/db1/traintestval_split/CD_Hit/Custom_CD_Hit/Hierarchical_Clustering/RF03045/\n",
      "#### RF03045: 86 sequences in RFAM, 1 clusters, 12630 total tokens, 0 thermo clusters\n",
      "#### PROCESSING: RF02514, /home/ubuntu/datasets/db1/traintestval_split/CD_Hit/Custom_CD_Hit/Hierarchical_Clustering/RF02514/\n",
      "#### RF02514: 14499 sequences in RFAM, 7 clusters, 4192710 total tokens, 5 thermo clusters\n",
      "#### PROCESSING: RF00174, /home/ubuntu/datasets/db1/traintestval_split/CD_Hit/Custom_CD_Hit/Hierarchical_Clustering/RF00174/\n",
      "#### RF00174: 74360 sequences in RFAM, 346 clusters, 15205939 total tokens, 64 thermo clusters\n",
      "#### PROCESSING: RF01065, /home/ubuntu/datasets/db1/traintestval_split/CD_Hit/Custom_CD_Hit/Hierarchical_Clustering/RF01065/\n",
      "#### RF01065: 649 sequences in RFAM, 2 clusters, 64362 total tokens, 0 thermo clusters\n",
      "#### PROCESSING: RF00444, /home/ubuntu/datasets/db1/traintestval_split/CD_Hit/Custom_CD_Hit/Hierarchical_Clustering/RF00444/\n",
      "#### RF00444: 1493 sequences in RFAM, 1 clusters, 221531 total tokens, 0 thermo clusters\n",
      "#### PROCESSING: RF01731, /home/ubuntu/datasets/db1/traintestval_split/CD_Hit/Custom_CD_Hit/Hierarchical_Clustering/RF01731/\n",
      "#### RF01731: 4828 sequences in RFAM, 63 clusters, 798750 total tokens, 0 thermo clusters\n",
      "#### PROCESSING: RF02343, /home/ubuntu/datasets/db1/traintestval_split/CD_Hit/Custom_CD_Hit/Hierarchical_Clustering/RF02343/\n",
      "#### RF02343: 753 sequences in RFAM, 1 clusters, 111163 total tokens, 0 thermo clusters\n",
      "#### PROCESSING: RF03072, /home/ubuntu/datasets/db1/traintestval_split/CD_Hit/Custom_CD_Hit/Hierarchical_Clustering/RF03072/\n",
      "#### RF03072: 2554 sequences in RFAM, 4 clusters, 597276 total tokens, 2 thermo clusters\n",
      "#### PROCESSING: RF02424, /home/ubuntu/datasets/db1/traintestval_split/CD_Hit/Custom_CD_Hit/Hierarchical_Clustering/RF02424/\n",
      "#### RF02424: 162 sequences in RFAM, 1 clusters, 28646 total tokens, 0 thermo clusters\n",
      "#### PROCESSING: RF01830, /home/ubuntu/datasets/db1/traintestval_split/CD_Hit/Custom_CD_Hit/Hierarchical_Clustering/RF01830/\n",
      "#### RF01830: 789 sequences in RFAM, 2 clusters, 91907 total tokens, 0 thermo clusters\n",
      "#### PROCESSING: RF03531, /home/ubuntu/datasets/db1/traintestval_split/CD_Hit/Custom_CD_Hit/Hierarchical_Clustering/RF03531/\n",
      "#### RF03531: 429 sequences in RFAM, 2 clusters, 42390 total tokens, 2 thermo clusters\n",
      "#### PROCESSING: RF01470, /home/ubuntu/datasets/db1/traintestval_split/CD_Hit/Custom_CD_Hit/Hierarchical_Clustering/RF01470/\n",
      "#### RF01470: 197 sequences in RFAM, 1 clusters, 29567 total tokens, 0 thermo clusters\n",
      "#### PROCESSING: RF03018, /home/ubuntu/datasets/db1/traintestval_split/CD_Hit/Custom_CD_Hit/Hierarchical_Clustering/RF03018/\n",
      "#### RF03018: 206 sequences in RFAM, 2 clusters, 38886 total tokens, 0 thermo clusters\n",
      "#### PROCESSING: RF01685, /home/ubuntu/datasets/db1/traintestval_split/CD_Hit/Custom_CD_Hit/Hierarchical_Clustering/RF01685/\n",
      "#### RF01685: 1521 sequences in RFAM, 3 clusters, 168379 total tokens, 0 thermo clusters\n",
      "#### PROCESSING: RF01766, /home/ubuntu/datasets/db1/traintestval_split/CD_Hit/Custom_CD_Hit/Hierarchical_Clustering/RF01766/\n",
      "#### RF01766: 3895 sequences in RFAM, 67 clusters, 1669264 total tokens, 3 thermo clusters\n",
      "#### PROCESSING: RF02972, /home/ubuntu/datasets/db1/traintestval_split/CD_Hit/Custom_CD_Hit/Hierarchical_Clustering/RF02972/\n",
      "#### RF02972: 83 sequences in RFAM, 2 clusters, 8621 total tokens, 0 thermo clusters\n",
      "#### PROCESSING: RF00022, /home/ubuntu/datasets/db1/traintestval_split/CD_Hit/Custom_CD_Hit/Hierarchical_Clustering/RF00022/\n",
      "#### RF00022: 633 sequences in RFAM, 3 clusters, 127663 total tokens, 0 thermo clusters\n",
      "#### PROCESSING: RF00013, /home/ubuntu/datasets/db1/traintestval_split/CD_Hit/Custom_CD_Hit/Hierarchical_Clustering/RF00013/\n",
      "#### RF00013: 22856 sequences in RFAM, 128 clusters, 4220285 total tokens, 27 thermo clusters\n",
      "#### PROCESSING: RF02981, /home/ubuntu/datasets/db1/traintestval_split/CD_Hit/Custom_CD_Hit/Hierarchical_Clustering/RF02981/\n",
      "#### RF02981: 48 sequences in RFAM, 1 clusters, 5655 total tokens, 0 thermo clusters\n",
      "#### PROCESSING: RF04192, /home/ubuntu/datasets/db1/traintestval_split/CD_Hit/Custom_CD_Hit/Hierarchical_Clustering/RF04192/\n",
      "#### RF04192: 109 sequences in RFAM, 1 clusters, 21870 total tokens, 0 thermo clusters\n",
      "#### PROCESSING: RF02932, /home/ubuntu/datasets/db1/traintestval_split/CD_Hit/Custom_CD_Hit/Hierarchical_Clustering/RF02932/\n",
      "#### RF02932: 158 sequences in RFAM, 5 clusters, 18908 total tokens, 0 thermo clusters\n",
      "#### PROCESSING: RF01069, /home/ubuntu/datasets/db1/traintestval_split/CD_Hit/Custom_CD_Hit/Hierarchical_Clustering/RF01069/\n",
      "#### RF01069: 425 sequences in RFAM, 3 clusters, 55528 total tokens, 1 thermo clusters\n",
      "#### PROCESSING: RF03166, /home/ubuntu/datasets/db1/traintestval_split/CD_Hit/Custom_CD_Hit/Hierarchical_Clustering/RF03166/\n",
      "#### RF03166: 1477 sequences in RFAM, 15 clusters, 285340 total tokens, 5 thermo clusters\n",
      "#### PROCESSING: RF02437, /home/ubuntu/datasets/db1/traintestval_split/CD_Hit/Custom_CD_Hit/Hierarchical_Clustering/RF02437/\n",
      "#### RF02437: 193 sequences in RFAM, 1 clusters, 18631 total tokens, 0 thermo clusters\n",
      "#### PROCESSING: RF02194, /home/ubuntu/datasets/db1/traintestval_split/CD_Hit/Custom_CD_Hit/Hierarchical_Clustering/RF02194/\n",
      "#### RF02194: 35 sequences in RFAM, 2 clusters, 5555 total tokens, 0 thermo clusters\n",
      "#### PROCESSING: RF02356, /home/ubuntu/datasets/db1/traintestval_split/CD_Hit/Custom_CD_Hit/Hierarchical_Clustering/RF02356/\n",
      "#### RF02356: 1268 sequences in RFAM, 1 clusters, 179070 total tokens, 0 thermo clusters\n",
      "#### PROCESSING: RF01771, /home/ubuntu/datasets/db1/traintestval_split/CD_Hit/Custom_CD_Hit/Hierarchical_Clustering/RF01771/\n",
      "#### RF01771: 173 sequences in RFAM, 1 clusters, 18872 total tokens, 0 thermo clusters\n",
      "#### PROCESSING: RF01456, /home/ubuntu/datasets/db1/traintestval_split/CD_Hit/Custom_CD_Hit/Hierarchical_Clustering/RF01456/\n",
      "#### RF01456: 100 sequences in RFAM, 1 clusters, 13310 total tokens, 0 thermo clusters\n",
      "#### PROCESSING: RF03076, /home/ubuntu/datasets/db1/traintestval_split/CD_Hit/Custom_CD_Hit/Hierarchical_Clustering/RF03076/\n",
      "#### RF03076: 893 sequences in RFAM, 1 clusters, 112144 total tokens, 0 thermo clusters\n",
      "#### PROCESSING: RF02347, /home/ubuntu/datasets/db1/traintestval_split/CD_Hit/Custom_CD_Hit/Hierarchical_Clustering/RF02347/\n",
      "#### RF02347: 925 sequences in RFAM, 2 clusters, 137705 total tokens, 0 thermo clusters\n",
      "#### PROCESSING: RF02941, /home/ubuntu/datasets/db1/traintestval_split/CD_Hit/Custom_CD_Hit/Hierarchical_Clustering/RF02941/\n",
      "#### RF02941: 60 sequences in RFAM, 1 clusters, 6410 total tokens, 0 thermo clusters\n",
      "#### PROCESSING: RF01492, /home/ubuntu/datasets/db1/traintestval_split/CD_Hit/Custom_CD_Hit/Hierarchical_Clustering/RF01492/\n",
      "#### RF01492: 253 sequences in RFAM, 2 clusters, 46040 total tokens, 0 thermo clusters\n",
      "#### PROCESSING: RF01735, /home/ubuntu/datasets/db1/traintestval_split/CD_Hit/Custom_CD_Hit/Hierarchical_Clustering/RF01735/\n",
      "#### RF01735: 1250 sequences in RFAM, 1 clusters, 143009 total tokens, 0 thermo clusters\n",
      "#### PROCESSING: RF02680, /home/ubuntu/datasets/db1/traintestval_split/CD_Hit/Custom_CD_Hit/Hierarchical_Clustering/RF02680/\n",
      "#### RF02680: 97 sequences in RFAM, 1 clusters, 9733 total tokens, 0 thermo clusters\n",
      "#### PROCESSING: RF02446, /home/ubuntu/datasets/db1/traintestval_split/CD_Hit/Custom_CD_Hit/Hierarchical_Clustering/RF02446/\n",
      "#### RF02446: 166 sequences in RFAM, 1 clusters, 21736 total tokens, 0 thermo clusters\n",
      "#### PROCESSING: RF00628, /home/ubuntu/datasets/db1/traintestval_split/CD_Hit/Custom_CD_Hit/Hierarchical_Clustering/RF00628/\n",
      "#### RF00628: 825 sequences in RFAM, 5 clusters, 160046 total tokens, 0 thermo clusters\n",
      "#### PROCESSING: RF04183, /home/ubuntu/datasets/db1/traintestval_split/CD_Hit/Custom_CD_Hit/Hierarchical_Clustering/RF04183/\n",
      "#### RF04183: 9009 sequences in RFAM, 3 clusters, 962756 total tokens, 1 thermo clusters\n",
      "#### PROCESSING: RF02420, /home/ubuntu/datasets/db1/traintestval_split/CD_Hit/Custom_CD_Hit/Hierarchical_Clustering/RF02420/\n",
      "#### RF02420: 251 sequences in RFAM, 1 clusters, 25145 total tokens, 0 thermo clusters\n",
      "#### PROCESSING: RF00080, /home/ubuntu/datasets/db1/traintestval_split/CD_Hit/Custom_CD_Hit/Hierarchical_Clustering/RF00080/\n",
      "#### RF00080: 2056 sequences in RFAM, 16 clusters, 369145 total tokens, 0 thermo clusters\n",
      "#### PROCESSING: RF02994, /home/ubuntu/datasets/db1/traintestval_split/CD_Hit/Custom_CD_Hit/Hierarchical_Clustering/RF02994/\n",
      "#### RF02994: 45 sequences in RFAM, 1 clusters, 4855 total tokens, 0 thermo clusters\n",
      "#### PROCESSING: RF00503, /home/ubuntu/datasets/db1/traintestval_split/CD_Hit/Custom_CD_Hit/Hierarchical_Clustering/RF00503/\n",
      "#### RF00503: 10 sequences in RFAM, 1 clusters, 5062 total tokens, 0 thermo clusters\n",
      "#### PROCESSING: RF02958, /home/ubuntu/datasets/db1/traintestval_split/CD_Hit/Custom_CD_Hit/Hierarchical_Clustering/RF02958/\n",
      "#### RF02958: 488 sequences in RFAM, 8 clusters, 55254 total tokens, 0 thermo clusters\n",
      "#### PROCESSING: RF03005, /home/ubuntu/datasets/db1/traintestval_split/CD_Hit/Custom_CD_Hit/Hierarchical_Clustering/RF03005/\n",
      "#### RF03005: 113 sequences in RFAM, 3 clusters, 16305 total tokens, 0 thermo clusters\n",
      "#### PROCESSING: RF02033, /home/ubuntu/datasets/db1/traintestval_split/CD_Hit/Custom_CD_Hit/Hierarchical_Clustering/RF02033/\n",
      "#### RF02033: 3102 sequences in RFAM, 44 clusters, 711367 total tokens, 5 thermo clusters\n",
      "#### PROCESSING: RF03041, /home/ubuntu/datasets/db1/traintestval_split/CD_Hit/Custom_CD_Hit/Hierarchical_Clustering/RF03041/\n",
      "#### RF03041: 237 sequences in RFAM, 1 clusters, 33109 total tokens, 0 thermo clusters\n",
      "#### PROCESSING: RF00128, /home/ubuntu/datasets/db1/traintestval_split/CD_Hit/Custom_CD_Hit/Hierarchical_Clustering/RF00128/\n",
      "#### RF00128: 583 sequences in RFAM, 1 clusters, 92050 total tokens, 0 thermo clusters\n",
      "#### PROCESSING: RF02144, /home/ubuntu/datasets/db1/traintestval_split/CD_Hit/Custom_CD_Hit/Hierarchical_Clustering/RF02144/\n",
      "#### RF02144: 807 sequences in RFAM, 1 clusters, 90843 total tokens, 0 thermo clusters\n",
      "#### PROCESSING: RF00083, /home/ubuntu/datasets/db1/traintestval_split/CD_Hit/Custom_CD_Hit/Hierarchical_Clustering/RF00083/\n",
      "#### RF00083: 561 sequences in RFAM, 1 clusters, 115680 total tokens, 0 thermo clusters\n",
      "#### PROCESSING: RF01055, /home/ubuntu/datasets/db1/traintestval_split/CD_Hit/Custom_CD_Hit/Hierarchical_Clustering/RF01055/\n",
      "#### RF01055: 3517 sequences in RFAM, 55 clusters, 498565 total tokens, 14 thermo clusters\n",
      "#### PROCESSING: RF02423, /home/ubuntu/datasets/db1/traintestval_split/CD_Hit/Custom_CD_Hit/Hierarchical_Clustering/RF02423/\n",
      "#### RF02423: 258 sequences in RFAM, 1 clusters, 58474 total tokens, 0 thermo clusters\n",
      "#### PROCESSING: RF02342, /home/ubuntu/datasets/db1/traintestval_split/CD_Hit/Custom_CD_Hit/Hierarchical_Clustering/RF02342/\n",
      "#### RF02342: 760 sequences in RFAM, 2 clusters, 110460 total tokens, 0 thermo clusters\n",
      "#### PROCESSING: RF02081, /home/ubuntu/datasets/db1/traintestval_split/CD_Hit/Custom_CD_Hit/Hierarchical_Clustering/RF02081/\n",
      "#### RF02081: 241 sequences in RFAM, 4 clusters, 93654 total tokens, 0 thermo clusters\n",
      "#### PROCESSING: RF00623, /home/ubuntu/datasets/db1/traintestval_split/CD_Hit/Custom_CD_Hit/Hierarchical_Clustering/RF00623/\n",
      "#### RF00623: 649 sequences in RFAM, 1 clusters, 116668 total tokens, 0 thermo clusters\n",
      "#### PROCESSING: RF00380, /home/ubuntu/datasets/db1/traintestval_split/CD_Hit/Custom_CD_Hit/Hierarchical_Clustering/RF00380/\n",
      "#### RF00380: 5369 sequences in RFAM, 9 clusters, 904104 total tokens, 2 thermo clusters\n",
      "#### PROCESSING: RF00506, /home/ubuntu/datasets/db1/traintestval_split/CD_Hit/Custom_CD_Hit/Hierarchical_Clustering/RF00506/\n",
      "#### RF00506: 746 sequences in RFAM, 2 clusters, 88585 total tokens, 0 thermo clusters\n",
      "#### PROCESSING: RF01712, /home/ubuntu/datasets/db1/traintestval_split/CD_Hit/Custom_CD_Hit/Hierarchical_Clustering/RF01712/\n",
      "#### RF01712: 35 sequences in RFAM, 1 clusters, 3590 total tokens, 0 thermo clusters\n",
      "#### PROCESSING: RF01820, /home/ubuntu/datasets/db1/traintestval_split/CD_Hit/Custom_CD_Hit/Hierarchical_Clustering/RF01820/\n",
      "#### RF01820: 613 sequences in RFAM, 1 clusters, 70230 total tokens, 0 thermo clusters\n",
      "#### PROCESSING: RF02234, /home/ubuntu/datasets/db1/traintestval_split/CD_Hit/Custom_CD_Hit/Hierarchical_Clustering/RF02234/\n",
      "#### RF02234: 213 sequences in RFAM, 2 clusters, 33862 total tokens, 0 thermo clusters\n",
      "#### PROCESSING: RF02036, /home/ubuntu/datasets/db1/traintestval_split/CD_Hit/Custom_CD_Hit/Hierarchical_Clustering/RF02036/\n",
      "#### RF02036: 12 sequences in RFAM, 1 clusters, 1770 total tokens, 0 thermo clusters\n",
      "#### PROCESSING: RF02432, /home/ubuntu/datasets/db1/traintestval_split/CD_Hit/Custom_CD_Hit/Hierarchical_Clustering/RF02432/\n",
      "#### RF02432: 211 sequences in RFAM, 1 clusters, 21452 total tokens, 0 thermo clusters\n",
      "#### PROCESSING: RF03062, /home/ubuntu/datasets/db1/traintestval_split/CD_Hit/Custom_CD_Hit/Hierarchical_Clustering/RF03062/\n",
      "#### RF03062: 62 sequences in RFAM, 2 clusters, 8000 total tokens, 0 thermo clusters\n",
      "#### PROCESSING: RF02414, /home/ubuntu/datasets/db1/traintestval_split/CD_Hit/Custom_CD_Hit/Hierarchical_Clustering/RF02414/\n",
      "#### RF02414: 79 sequences in RFAM, 1 clusters, 15999 total tokens, 0 thermo clusters\n",
      "#### PROCESSING: RF03026, /home/ubuntu/datasets/db1/traintestval_split/CD_Hit/Custom_CD_Hit/Hierarchical_Clustering/RF03026/\n",
      "#### RF03026: 711 sequences in RFAM, 9 clusters, 74991 total tokens, 0 thermo clusters\n",
      "#### PROCESSING: RF01721, /home/ubuntu/datasets/db1/traintestval_split/CD_Hit/Custom_CD_Hit/Hierarchical_Clustering/RF01721/\n",
      "#### RF01721: 757 sequences in RFAM, 2 clusters, 86332 total tokens, 0 thermo clusters\n",
      "#### PROCESSING: RF03079, /home/ubuntu/datasets/db1/traintestval_split/CD_Hit/Custom_CD_Hit/Hierarchical_Clustering/RF03079/\n",
      "#### RF03079: 251 sequences in RFAM, 11 clusters, 194788 total tokens, 0 thermo clusters\n",
      "#### PROCESSING: RF01693, /home/ubuntu/datasets/db1/traintestval_split/CD_Hit/Custom_CD_Hit/Hierarchical_Clustering/RF01693/\n",
      "#### RF01693: 1766 sequences in RFAM, 7 clusters, 322655 total tokens, 0 thermo clusters\n",
      "#### PROCESSING: RF03000, /home/ubuntu/datasets/db1/traintestval_split/CD_Hit/Custom_CD_Hit/Hierarchical_Clustering/RF03000/\n",
      "#### RF03000: 850 sequences in RFAM, 12 clusters, 102803 total tokens, 0 thermo clusters\n",
      "#### PROCESSING: RF02962, /home/ubuntu/datasets/db1/traintestval_split/CD_Hit/Custom_CD_Hit/Hierarchical_Clustering/RF02962/\n",
      "#### RF02962: 65 sequences in RFAM, 3 clusters, 7027 total tokens, 1 thermo clusters\n",
      "#### PROCESSING: RF01675, /home/ubuntu/datasets/db1/traintestval_split/CD_Hit/Custom_CD_Hit/Hierarchical_Clustering/RF01675/\n",
      "#### RF01675: 1569 sequences in RFAM, 3 clusters, 620616 total tokens, 0 thermo clusters\n",
      "#### PROCESSING: RF01756, /home/ubuntu/datasets/db1/traintestval_split/CD_Hit/Custom_CD_Hit/Hierarchical_Clustering/RF01756/\n",
      "#### RF01756: 526 sequences in RFAM, 1 clusters, 153872 total tokens, 0 thermo clusters\n",
      "#### PROCESSING: RF00111, /home/ubuntu/datasets/db1/traintestval_split/CD_Hit/Custom_CD_Hit/Hierarchical_Clustering/RF00111/\n",
      "#### RF00111: 233 sequences in RFAM, 1 clusters, 22889 total tokens, 0 thermo clusters\n",
      "#### PROCESSING: RF01396, /home/ubuntu/datasets/db1/traintestval_split/CD_Hit/Custom_CD_Hit/Hierarchical_Clustering/RF01396/\n",
      "#### RF01396: 503 sequences in RFAM, 7 clusters, 71593 total tokens, 0 thermo clusters\n",
      "#### PROCESSING: RF02449, /home/ubuntu/datasets/db1/traintestval_split/CD_Hit/Custom_CD_Hit/Hierarchical_Clustering/RF02449/\n",
      "#### RF02449: 238 sequences in RFAM, 2 clusters, 28148 total tokens, 0 thermo clusters\n",
      "#### PROCESSING: RF00379, /home/ubuntu/datasets/db1/traintestval_split/CD_Hit/Custom_CD_Hit/Hierarchical_Clustering/RF00379/\n",
      "#### RF00379: 19152 sequences in RFAM, 48 clusters, 3024241 total tokens, 24 thermo clusters\n",
      "#### PROCESSING: RF02001, /home/ubuntu/datasets/db1/traintestval_split/CD_Hit/Custom_CD_Hit/Hierarchical_Clustering/RF02001/\n",
      "#### RF02001: 15420 sequences in RFAM, 51 clusters, 2672122 total tokens, 9 thermo clusters\n",
      "#### PROCESSING: RF01387, /home/ubuntu/datasets/db1/traintestval_split/CD_Hit/Custom_CD_Hit/Hierarchical_Clustering/RF01387/\n",
      "#### RF01387: 48 sequences in RFAM, 1 clusters, 5891 total tokens, 0 thermo clusters\n",
      "#### PROCESSING: RF00021, /home/ubuntu/datasets/db1/traintestval_split/CD_Hit/Custom_CD_Hit/Hierarchical_Clustering/RF00021/\n",
      "#### RF00021: 1041 sequences in RFAM, 1 clusters, 122514 total tokens, 0 thermo clusters\n",
      "#### PROCESSING: RF02100, /home/ubuntu/datasets/db1/traintestval_split/CD_Hit/Custom_CD_Hit/Hierarchical_Clustering/RF02100/\n",
      "#### RF02100: 187 sequences in RFAM, 1 clusters, 18669 total tokens, 0 thermo clusters\n",
      "#### PROCESSING: RF01729, /home/ubuntu/datasets/db1/traintestval_split/CD_Hit/Custom_CD_Hit/Hierarchical_Clustering/RF01729/\n",
      "#### RF01729: 15 sequences in RFAM, 1 clusters, 1540 total tokens, 0 thermo clusters\n",
      "#### PROCESSING: RF02346, /home/ubuntu/datasets/db1/traintestval_split/CD_Hit/Custom_CD_Hit/Hierarchical_Clustering/RF02346/\n",
      "#### RF02346: 314 sequences in RFAM, 1 clusters, 44653 total tokens, 0 thermo clusters\n",
      "#### PROCESSING: RF01851, /home/ubuntu/datasets/db1/traintestval_split/CD_Hit/Custom_CD_Hit/Hierarchical_Clustering/RF01851/\n",
      "#### RF01851: 461 sequences in RFAM, 2 clusters, 131073 total tokens, 0 thermo clusters\n",
      "#### PROCESSING: RF00168, /home/ubuntu/datasets/db1/traintestval_split/CD_Hit/Custom_CD_Hit/Hierarchical_Clustering/RF00168/\n",
      "#### RF00168: 15537 sequences in RFAM, 88 clusters, 2773261 total tokens, 15 thermo clusters\n",
      "#### PROCESSING: RF01770, /home/ubuntu/datasets/db1/traintestval_split/CD_Hit/Custom_CD_Hit/Hierarchical_Clustering/RF01770/\n",
      "#### RF01770: 759 sequences in RFAM, 2 clusters, 82287 total tokens, 0 thermo clusters\n",
      "#### PROCESSING: RF01419, /home/ubuntu/datasets/db1/traintestval_split/CD_Hit/Custom_CD_Hit/Hierarchical_Clustering/RF01419/\n",
      "#### RF01419: 2037 sequences in RFAM, 6 clusters, 372285 total tokens, 0 thermo clusters\n",
      "#### PROCESSING: RF02526, /home/ubuntu/datasets/db1/traintestval_split/CD_Hit/Custom_CD_Hit/Hierarchical_Clustering/RF02526/\n",
      "#### RF02526: 43 sequences in RFAM, 1 clusters, 5562 total tokens, 0 thermo clusters\n",
      "#### PROCESSING: RF04182, /home/ubuntu/datasets/db1/traintestval_split/CD_Hit/Custom_CD_Hit/Hierarchical_Clustering/RF04182/\n",
      "#### RF04182: 98 sequences in RFAM, 2 clusters, 13890 total tokens, 0 thermo clusters\n",
      "#### PROCESSING: RF01752, /home/ubuntu/datasets/db1/traintestval_split/CD_Hit/Custom_CD_Hit/Hierarchical_Clustering/RF01752/\n",
      "#### RF01752: 129 sequences in RFAM, 2 clusters, 26448 total tokens, 0 thermo clusters\n",
      "#### PROCESSING: RF03534, /home/ubuntu/datasets/db1/traintestval_split/CD_Hit/Custom_CD_Hit/Hierarchical_Clustering/RF03534/\n",
      "#### RF03534: 39 sequences in RFAM, 1 clusters, 4034 total tokens, 0 thermo clusters\n",
      "#### PROCESSING: RF00627, /home/ubuntu/datasets/db1/traintestval_split/CD_Hit/Custom_CD_Hit/Hierarchical_Clustering/RF00627/\n",
      "#### RF00627: 769 sequences in RFAM, 1 clusters, 91831 total tokens, 0 thermo clusters\n",
      "#### PROCESSING: RF02355, /home/ubuntu/datasets/db1/traintestval_split/CD_Hit/Custom_CD_Hit/Hierarchical_Clustering/RF02355/\n",
      "#### RF02355: 348 sequences in RFAM, 1 clusters, 70401 total tokens, 0 thermo clusters\n",
      "#### PROCESSING: RF02076, /home/ubuntu/datasets/db1/traintestval_split/CD_Hit/Custom_CD_Hit/Hierarchical_Clustering/RF02076/\n",
      "#### RF02076: 129 sequences in RFAM, 6 clusters, 26130 total tokens, 0 thermo clusters\n",
      "#### PROCESSING: RF00195, /home/ubuntu/datasets/db1/traintestval_split/CD_Hit/Custom_CD_Hit/Hierarchical_Clustering/RF00195/\n",
      "#### RF00195: 841 sequences in RFAM, 2 clusters, 100515 total tokens, 0 thermo clusters\n",
      "#### PROCESSING: RF03066, /home/ubuntu/datasets/db1/traintestval_split/CD_Hit/Custom_CD_Hit/Hierarchical_Clustering/RF03066/\n",
      "#### RF03066: 58 sequences in RFAM, 1 clusters, 6765 total tokens, 0 thermo clusters\n",
      "#### PROCESSING: RF01859, /home/ubuntu/datasets/db1/traintestval_split/CD_Hit/Custom_CD_Hit/Hierarchical_Clustering/RF01859/\n",
      "#### RF01859: 1393 sequences in RFAM, 1 clusters, 172772 total tokens, 0 thermo clusters\n",
      "#### PROCESSING: RF02032, /home/ubuntu/datasets/db1/traintestval_split/CD_Hit/Custom_CD_Hit/Hierarchical_Clustering/RF02032/\n",
      "#### RF02032: 86 sequences in RFAM, 20 clusters, 39873 total tokens, 0 thermo clusters\n",
      "#### PROCESSING: RF02230, /home/ubuntu/datasets/db1/traintestval_split/CD_Hit/Custom_CD_Hit/Hierarchical_Clustering/RF02230/\n",
      "#### RF02230: 137 sequences in RFAM, 1 clusters, 19718 total tokens, 0 thermo clusters\n",
      "#### PROCESSING: RF03022, /home/ubuntu/datasets/db1/traintestval_split/CD_Hit/Custom_CD_Hit/Hierarchical_Clustering/RF03022/\n",
      "#### RF03022: 38 sequences in RFAM, 4 clusters, 5162 total tokens, 0 thermo clusters\n",
      "#### PROCESSING: RF02687, /home/ubuntu/datasets/db1/traintestval_split/CD_Hit/Custom_CD_Hit/Hierarchical_Clustering/RF02687/\n",
      "#### RF02687: 15 sequences in RFAM, 1 clusters, 4136 total tokens, 0 thermo clusters\n",
      "#### PROCESSING: RF01796, /home/ubuntu/datasets/db1/traintestval_split/CD_Hit/Custom_CD_Hit/Hierarchical_Clustering/RF01796/\n",
      "#### RF01796: 529 sequences in RFAM, 1 clusters, 62127 total tokens, 0 thermo clusters\n",
      "#### PROCESSING: RF00034, /home/ubuntu/datasets/db1/traintestval_split/CD_Hit/Custom_CD_Hit/Hierarchical_Clustering/RF00034/\n",
      "#### RF00034: 314 sequences in RFAM, 1 clusters, 34038 total tokens, 0 thermo clusters\n",
      "#### PROCESSING: RF02966, /home/ubuntu/datasets/db1/traintestval_split/CD_Hit/Custom_CD_Hit/Hierarchical_Clustering/RF02966/\n",
      "#### RF02966: 118 sequences in RFAM, 3 clusters, 14016 total tokens, 0 thermo clusters\n",
      "#### PROCESSING: RF00106, /home/ubuntu/datasets/db1/traintestval_split/CD_Hit/Custom_CD_Hit/Hierarchical_Clustering/RF00106/\n",
      "#### RF00106: 341 sequences in RFAM, 1 clusters, 35275 total tokens, 1 thermo clusters\n",
      "#### PROCESSING: RF02957, /home/ubuntu/datasets/db1/traintestval_split/CD_Hit/Custom_CD_Hit/Hierarchical_Clustering/RF02957/\n",
      "#### RF02957: 390 sequences in RFAM, 3 clusters, 53087 total tokens, 0 thermo clusters\n",
      "#### PROCESSING: RF02005, /home/ubuntu/datasets/db1/traintestval_split/CD_Hit/Custom_CD_Hit/Hierarchical_Clustering/RF02005/\n",
      "#### RF02005: 6870 sequences in RFAM, 90 clusters, 1603148 total tokens, 7 thermo clusters\n",
      "#### PROCESSING: RF03112, /home/ubuntu/datasets/db1/traintestval_split/CD_Hit/Custom_CD_Hit/Hierarchical_Clustering/RF03112/\n",
      "#### RF03112: 94 sequences in RFAM, 1 clusters, 12067 total tokens, 0 thermo clusters\n",
      "#### PROCESSING: RF01411, /home/ubuntu/datasets/db1/traintestval_split/CD_Hit/Custom_CD_Hit/Hierarchical_Clustering/RF01411/\n",
      "#### RF01411: 561 sequences in RFAM, 2 clusters, 61963 total tokens, 0 thermo clusters\n",
      "#### PROCESSING: RF02500, /home/ubuntu/datasets/db1/traintestval_split/CD_Hit/Custom_CD_Hit/Hierarchical_Clustering/RF02500/\n",
      "#### RF02500: 1174 sequences in RFAM, 1 clusters, 129574 total tokens, 0 thermo clusters\n",
      "#### PROCESSING: RF01769, /home/ubuntu/datasets/db1/traintestval_split/CD_Hit/Custom_CD_Hit/Hierarchical_Clustering/RF01769/\n",
      "#### RF01769: 496 sequences in RFAM, 1 clusters, 61157 total tokens, 0 thermo clusters\n",
      "#### PROCESSING: RF03019, /home/ubuntu/datasets/db1/traintestval_split/CD_Hit/Custom_CD_Hit/Hierarchical_Clustering/RF03019/\n",
      "#### RF03019: 81 sequences in RFAM, 11 clusters, 14542 total tokens, 0 thermo clusters\n",
      "#### PROCESSING: RF02920, /home/ubuntu/datasets/db1/traintestval_split/CD_Hit/Custom_CD_Hit/Hierarchical_Clustering/RF02920/\n",
      "#### RF02920: 54 sequences in RFAM, 3 clusters, 6311 total tokens, 0 thermo clusters\n",
      "#### PROCESSING: RF03532, /home/ubuntu/datasets/db1/traintestval_split/CD_Hit/Custom_CD_Hit/Hierarchical_Clustering/RF03532/\n",
      "#### RF03532: 281 sequences in RFAM, 2 clusters, 65589 total tokens, 0 thermo clusters\n",
      "#### PROCESSING: RF00625, /home/ubuntu/datasets/db1/traintestval_split/CD_Hit/Custom_CD_Hit/Hierarchical_Clustering/RF00625/\n",
      "#### RF00625: 502 sequences in RFAM, 2 clusters, 69137 total tokens, 0 thermo clusters\n",
      "#### PROCESSING: RF01732, /home/ubuntu/datasets/db1/traintestval_split/CD_Hit/Custom_CD_Hit/Hierarchical_Clustering/RF01732/\n",
      "#### RF01732: 388 sequences in RFAM, 2 clusters, 55821 total tokens, 0 thermo clusters\n",
      "#### PROCESSING: RF03037, /home/ubuntu/datasets/db1/traintestval_split/CD_Hit/Custom_CD_Hit/Hierarchical_Clustering/RF03037/\n",
      "#### RF03037: 38 sequences in RFAM, 3 clusters, 8226 total tokens, 0 thermo clusters\n",
      "#### PROCESSING: RF00166, /home/ubuntu/datasets/db1/traintestval_split/CD_Hit/Custom_CD_Hit/Hierarchical_Clustering/RF00166/\n",
      "#### RF00166: 802 sequences in RFAM, 1 clusters, 106411 total tokens, 0 thermo clusters\n",
      "#### PROCESSING: RF02344, /home/ubuntu/datasets/db1/traintestval_split/CD_Hit/Custom_CD_Hit/Hierarchical_Clustering/RF02344/\n",
      "#### RF02344: 3433 sequences in RFAM, 9 clusters, 417561 total tokens, 0 thermo clusters\n",
      "#### PROCESSING: RF01723, /home/ubuntu/datasets/db1/traintestval_split/CD_Hit/Custom_CD_Hit/Hierarchical_Clustering/RF01723/\n",
      "#### RF01723: 235 sequences in RFAM, 1 clusters, 23892 total tokens, 0 thermo clusters\n",
      "#### PROCESSING: RF02452, /home/ubuntu/datasets/db1/traintestval_split/CD_Hit/Custom_CD_Hit/Hierarchical_Clustering/RF02452/\n",
      "#### RF02452: 346 sequences in RFAM, 3 clusters, 73098 total tokens, 0 thermo clusters\n",
      "#### PROCESSING: RF03028, /home/ubuntu/datasets/db1/traintestval_split/CD_Hit/Custom_CD_Hit/Hierarchical_Clustering/RF03028/\n",
      "#### RF03028: 58 sequences in RFAM, 13 clusters, 11910 total tokens, 0 thermo clusters\n",
      "#### PROCESSING: RF00634, /home/ubuntu/datasets/db1/traintestval_split/CD_Hit/Custom_CD_Hit/Hierarchical_Clustering/RF00634/\n",
      "#### RF00634: 6645 sequences in RFAM, 3 clusters, 767480 total tokens, 0 thermo clusters\n",
      "#### PROCESSING: RF00391, /home/ubuntu/datasets/db1/traintestval_split/CD_Hit/Custom_CD_Hit/Hierarchical_Clustering/RF00391/\n",
      "#### RF00391: 1876 sequences in RFAM, 3 clusters, 242955 total tokens, 0 thermo clusters\n",
      "#### PROCESSING: RF00616, /home/ubuntu/datasets/db1/traintestval_split/CD_Hit/Custom_CD_Hit/Hierarchical_Clustering/RF00616/\n",
      "#### RF00616: 164 sequences in RFAM, 1 clusters, 18002 total tokens, 0 thermo clusters\n",
      "#### PROCESSING: RF03046, /home/ubuntu/datasets/db1/traintestval_split/CD_Hit/Custom_CD_Hit/Hierarchical_Clustering/RF03046/\n",
      "#### RF03046: 77 sequences in RFAM, 3 clusters, 12535 total tokens, 0 thermo clusters\n",
      "#### PROCESSING: RF00373, /home/ubuntu/datasets/db1/traintestval_split/CD_Hit/Custom_CD_Hit/Hierarchical_Clustering/RF00373/\n",
      "#### RF00373: 2243 sequences in RFAM, 41 clusters, 717822 total tokens, 20 thermo clusters\n",
      "#### PROCESSING: RF02434, /home/ubuntu/datasets/db1/traintestval_split/CD_Hit/Custom_CD_Hit/Hierarchical_Clustering/RF02434/\n",
      "#### RF02434: 29 sequences in RFAM, 1 clusters, 3133 total tokens, 0 thermo clusters\n",
      "#### PROCESSING: RF02928, /home/ubuntu/datasets/db1/traintestval_split/CD_Hit/Custom_CD_Hit/Hierarchical_Clustering/RF02928/\n",
      "#### RF02928: 171 sequences in RFAM, 1 clusters, 18827 total tokens, 0 thermo clusters\n",
      "#### PROCESSING: RF01794, /home/ubuntu/datasets/db1/traintestval_split/CD_Hit/Custom_CD_Hit/Hierarchical_Clustering/RF01794/\n",
      "#### RF01794: 944 sequences in RFAM, 7 clusters, 148144 total tokens, 0 thermo clusters\n",
      "#### PROCESSING: RF00113, /home/ubuntu/datasets/db1/traintestval_split/CD_Hit/Custom_CD_Hit/Hierarchical_Clustering/RF00113/\n",
      "#### RF00113: 167 sequences in RFAM, 1 clusters, 24816 total tokens, 0 thermo clusters\n",
      "#### PROCESSING: RF01758, /home/ubuntu/datasets/db1/traintestval_split/CD_Hit/Custom_CD_Hit/Hierarchical_Clustering/RF01758/\n",
      "#### RF01758: 799 sequences in RFAM, 1 clusters, 174156 total tokens, 0 thermo clusters\n",
      "#### PROCESSING: RF00230, /home/ubuntu/datasets/db1/traintestval_split/CD_Hit/Custom_CD_Hit/Hierarchical_Clustering/RF00230/\n",
      "#### RF00230: 129071 sequences in RFAM, 1029 clusters, 31136738 total tokens, 203 thermo clusters\n",
      "#### PROCESSING: RF02012, /home/ubuntu/datasets/db1/traintestval_split/CD_Hit/Custom_CD_Hit/Hierarchical_Clustering/RF02012/\n",
      "#### RF02012: 2416 sequences in RFAM, 21 clusters, 360182 total tokens, 0 thermo clusters\n",
      "#### PROCESSING: RF02469, /home/ubuntu/datasets/db1/traintestval_split/CD_Hit/Custom_CD_Hit/Hierarchical_Clustering/RF02469/\n",
      "#### RF02469: 520 sequences in RFAM, 3 clusters, 61265 total tokens, 0 thermo clusters\n",
      "#### PROCESSING: RF00050, /home/ubuntu/datasets/db1/traintestval_split/CD_Hit/Custom_CD_Hit/Hierarchical_Clustering/RF00050/\n",
      "#### RF00050: 18979 sequences in RFAM, 18 clusters, 2773201 total tokens, 7 thermo clusters\n",
      "#### PROCESSING: RF01497, /home/ubuntu/datasets/db1/traintestval_split/CD_Hit/Custom_CD_Hit/Hierarchical_Clustering/RF01497/\n",
      "#### RF01497: 6556 sequences in RFAM, 6 clusters, 782634 total tokens, 1 thermo clusters\n",
      "#### PROCESSING: RF02982, /home/ubuntu/datasets/db1/traintestval_split/CD_Hit/Custom_CD_Hit/Hierarchical_Clustering/RF02982/\n",
      "#### RF02982: 159 sequences in RFAM, 1 clusters, 16664 total tokens, 0 thermo clusters\n",
      "#### PROCESSING: RF02111, /home/ubuntu/datasets/db1/traintestval_split/CD_Hit/Custom_CD_Hit/Hierarchical_Clustering/RF02111/\n",
      "#### RF02111: 135 sequences in RFAM, 5 clusters, 26674 total tokens, 0 thermo clusters\n",
      "#### PROCESSING: RF02030, /home/ubuntu/datasets/db1/traintestval_split/CD_Hit/Custom_CD_Hit/Hierarchical_Clustering/RF02030/\n",
      "#### RF02030: 475 sequences in RFAM, 3 clusters, 56829 total tokens, 0 thermo clusters\n",
      "#### PROCESSING: RF01857, /home/ubuntu/datasets/db1/traintestval_split/CD_Hit/Custom_CD_Hit/Hierarchical_Clustering/RF01857/\n",
      "#### RF01857: 2515 sequences in RFAM, 35 clusters, 787265 total tokens, 20 thermo clusters\n",
      "#### PROCESSING: RF02496, /home/ubuntu/datasets/db1/traintestval_split/CD_Hit/Custom_CD_Hit/Hierarchical_Clustering/RF02496/\n",
      "#### RF02496: 908 sequences in RFAM, 3 clusters, 98178 total tokens, 0 thermo clusters\n",
      "#### PROCESSING: RF02955, /home/ubuntu/datasets/db1/traintestval_split/CD_Hit/Custom_CD_Hit/Hierarchical_Clustering/RF02955/\n",
      "#### RF02955: 40 sequences in RFAM, 2 clusters, 4727 total tokens, 0 thermo clusters\n",
      "#### PROCESSING: RF02003, /home/ubuntu/datasets/db1/traintestval_split/CD_Hit/Custom_CD_Hit/Hierarchical_Clustering/RF02003/\n",
      "#### RF02003: 3649 sequences in RFAM, 35 clusters, 510775 total tokens, 0 thermo clusters\n",
      "#### PROCESSING: RF00140, /home/ubuntu/datasets/db1/traintestval_split/CD_Hit/Custom_CD_Hit/Hierarchical_Clustering/RF00140/\n",
      "#### RF00140: 1719 sequences in RFAM, 1 clusters, 188403 total tokens, 0 thermo clusters\n",
      "#### PROCESSING: RF00023, /home/ubuntu/datasets/db1/traintestval_split/CD_Hit/Custom_CD_Hit/Hierarchical_Clustering/RF00023/\n",
      "#### RF00023: 46559 sequences in RFAM, 351 clusters, 17179199 total tokens, 55 thermo clusters\n",
      "#### PROCESSING: RF02919, /home/ubuntu/datasets/db1/traintestval_split/CD_Hit/Custom_CD_Hit/Hierarchical_Clustering/RF02919/\n",
      "#### RF02919: 84 sequences in RFAM, 1 clusters, 17870 total tokens, 0 thermo clusters\n",
      "#### PROCESSING: RF03011, /home/ubuntu/datasets/db1/traintestval_split/CD_Hit/Custom_CD_Hit/Hierarchical_Clustering/RF03011/\n",
      "#### RF03011: 74 sequences in RFAM, 1 clusters, 7527 total tokens, 0 thermo clusters\n",
      "#### PROCESSING: RF02960, /home/ubuntu/datasets/db1/traintestval_split/CD_Hit/Custom_CD_Hit/Hierarchical_Clustering/RF02960/\n",
      "#### RF02960: 163 sequences in RFAM, 5 clusters, 25778 total tokens, 0 thermo clusters\n",
      "#### PROCESSING: RF00629, /home/ubuntu/datasets/db1/traintestval_split/CD_Hit/Custom_CD_Hit/Hierarchical_Clustering/RF00629/\n",
      "#### RF00629: 719 sequences in RFAM, 4 clusters, 182948 total tokens, 0 thermo clusters\n",
      "#### PROCESSING: RF01754, /home/ubuntu/datasets/db1/traintestval_split/CD_Hit/Custom_CD_Hit/Hierarchical_Clustering/RF01754/\n",
      "#### RF01754: 1922 sequences in RFAM, 5 clusters, 281904 total tokens, 0 thermo clusters\n",
      "#### PROCESSING: RF01673, /home/ubuntu/datasets/db1/traintestval_split/CD_Hit/Custom_CD_Hit/Hierarchical_Clustering/RF01673/\n",
      "#### RF01673: 792 sequences in RFAM, 8 clusters, 169824 total tokens, 0 thermo clusters\n",
      "#### PROCESSING: RF01718, /home/ubuntu/datasets/db1/traintestval_split/CD_Hit/Custom_CD_Hit/Hierarchical_Clustering/RF01718/\n",
      "#### RF01718: 47 sequences in RFAM, 4 clusters, 6506 total tokens, 0 thermo clusters\n",
      "#### PROCESSING: RF02447, /home/ubuntu/datasets/db1/traintestval_split/CD_Hit/Custom_CD_Hit/Hierarchical_Clustering/RF02447/\n",
      "#### RF02447: 326 sequences in RFAM, 1 clusters, 40526 total tokens, 0 thermo clusters\n",
      "#### PROCESSING: RF00010, /home/ubuntu/datasets/db1/traintestval_split/CD_Hit/Custom_CD_Hit/Hierarchical_Clustering/RF00010/\n",
      "#### RF00010: 53493 sequences in RFAM, 206 clusters, 20464485 total tokens, 38 thermo clusters\n",
      "#### PROCESSING: RF03077, /home/ubuntu/datasets/db1/traintestval_split/CD_Hit/Custom_CD_Hit/Hierarchical_Clustering/RF03077/\n",
      "#### RF03077: 292 sequences in RFAM, 21 clusters, 67033 total tokens, 0 thermo clusters\n",
      "#### PROCESSING: RF01772, /home/ubuntu/datasets/db1/traintestval_split/CD_Hit/Custom_CD_Hit/Hierarchical_Clustering/RF01772/\n",
      "#### RF01772: 450 sequences in RFAM, 1 clusters, 47321 total tokens, 0 thermo clusters\n",
      "#### PROCESSING: RF01736, /home/ubuntu/datasets/db1/traintestval_split/CD_Hit/Custom_CD_Hit/Hierarchical_Clustering/RF01736/\n",
      "#### RF01736: 342 sequences in RFAM, 1 clusters, 48784 total tokens, 0 thermo clusters\n",
      "#### PROCESSING: RF02942, /home/ubuntu/datasets/db1/traintestval_split/CD_Hit/Custom_CD_Hit/Hierarchical_Clustering/RF02942/\n",
      "#### RF02942: 73 sequences in RFAM, 2 clusters, 19300 total tokens, 0 thermo clusters\n",
      "#### PROCESSING: RF03068, /home/ubuntu/datasets/db1/traintestval_split/CD_Hit/Custom_CD_Hit/Hierarchical_Clustering/RF03068/\n",
      "#### RF03068: 125 sequences in RFAM, 6 clusters, 18836 total tokens, 0 thermo clusters\n",
      "#### PROCESSING: RF00557, /home/ubuntu/datasets/db1/traintestval_split/CD_Hit/Custom_CD_Hit/Hierarchical_Clustering/RF00557/\n",
      "#### RF00557: 3578 sequences in RFAM, 18 clusters, 506299 total tokens, 5 thermo clusters\n",
      "#### PROCESSING: RF01808, /home/ubuntu/datasets/db1/traintestval_split/CD_Hit/Custom_CD_Hit/Hierarchical_Clustering/RF01808/\n",
      "#### RF01808: 158 sequences in RFAM, 2 clusters, 30464 total tokens, 0 thermo clusters\n",
      "#### PROCESSING: RF02375, /home/ubuntu/datasets/db1/traintestval_split/CD_Hit/Custom_CD_Hit/Hierarchical_Clustering/RF02375/\n",
      "#### RF02375: 127 sequences in RFAM, 1 clusters, 24158 total tokens, 0 thermo clusters\n",
      "#### PROCESSING: RF01385, /home/ubuntu/datasets/db1/traintestval_split/CD_Hit/Custom_CD_Hit/Hierarchical_Clustering/RF01385/\n",
      "#### RF01385: 119 sequences in RFAM, 1 clusters, 15099 total tokens, 0 thermo clusters\n",
      "#### PROCESSING: RF01745, /home/ubuntu/datasets/db1/traintestval_split/CD_Hit/Custom_CD_Hit/Hierarchical_Clustering/RF01745/\n",
      "#### RF01745: 13 sequences in RFAM, 4 clusters, 2619 total tokens, 0 thermo clusters\n",
      "#### PROCESSING: RF02951, /home/ubuntu/datasets/db1/traintestval_split/CD_Hit/Custom_CD_Hit/Hierarchical_Clustering/RF02951/\n",
      "#### RF02951: 232 sequences in RFAM, 3 clusters, 36239 total tokens, 0 thermo clusters\n",
      "#### PROCESSING: RF00234, /home/ubuntu/datasets/db1/traintestval_split/CD_Hit/Custom_CD_Hit/Hierarchical_Clustering/RF00234/\n",
      "#### RF00234: 3609 sequences in RFAM, 34 clusters, 627879 total tokens, 12 thermo clusters\n",
      "#### PROCESSING: RF02052, /home/ubuntu/datasets/db1/traintestval_split/CD_Hit/Custom_CD_Hit/Hierarchical_Clustering/RF02052/\n",
      "#### RF02052: 13 sequences in RFAM, 1 clusters, 2144 total tokens, 0 thermo clusters\n",
      "#### PROCESSING: RF00513, /home/ubuntu/datasets/db1/traintestval_split/CD_Hit/Custom_CD_Hit/Hierarchical_Clustering/RF00513/\n",
      "#### RF00513: 477 sequences in RFAM, 2 clusters, 47283 total tokens, 0 thermo clusters\n",
      "#### PROCESSING: RF01699, /home/ubuntu/datasets/db1/traintestval_split/CD_Hit/Custom_CD_Hit/Hierarchical_Clustering/RF01699/\n",
      "#### RF01699: 7719 sequences in RFAM, 47 clusters, 1276592 total tokens, 0 thermo clusters\n",
      "#### PROCESSING: RF02034, /home/ubuntu/datasets/db1/traintestval_split/CD_Hit/Custom_CD_Hit/Hierarchical_Clustering/RF02034/\n",
      "#### RF02034: 166 sequences in RFAM, 1 clusters, 31720 total tokens, 0 thermo clusters\n",
      "#### PROCESSING: RF02986, /home/ubuntu/datasets/db1/traintestval_split/CD_Hit/Custom_CD_Hit/Hierarchical_Clustering/RF02986/\n",
      "#### RF02986: 79 sequences in RFAM, 36 clusters, 18013 total tokens, 0 thermo clusters\n",
      "#### PROCESSING: RF00018, /home/ubuntu/datasets/db1/traintestval_split/CD_Hit/Custom_CD_Hit/Hierarchical_Clustering/RF00018/\n",
      "#### RF00018: 359 sequences in RFAM, 4 clusters, 128521 total tokens, 0 thermo clusters\n",
      "#### PROCESSING: RF02232, /home/ubuntu/datasets/db1/traintestval_split/CD_Hit/Custom_CD_Hit/Hierarchical_Clustering/RF02232/\n",
      "#### RF02232: 349 sequences in RFAM, 1 clusters, 39743 total tokens, 0 thermo clusters\n",
      "#### PROCESSING: RF00162, /home/ubuntu/datasets/db1/traintestval_split/CD_Hit/Custom_CD_Hit/Hierarchical_Clustering/RF00162/\n",
      "#### RF00162: 34758 sequences in RFAM, 18 clusters, 3866030 total tokens, 9 thermo clusters\n",
      "#### PROCESSING: RF02502, /home/ubuntu/datasets/db1/traintestval_split/CD_Hit/Custom_CD_Hit/Hierarchical_Clustering/RF02502/\n",
      "#### RF02502: 1137 sequences in RFAM, 3 clusters, 137533 total tokens, 0 thermo clusters\n",
      "#### PROCESSING: RF02421, /home/ubuntu/datasets/db1/traintestval_split/CD_Hit/Custom_CD_Hit/Hierarchical_Clustering/RF02421/\n",
      "#### RF02421: 156 sequences in RFAM, 1 clusters, 17588 total tokens, 0 thermo clusters\n",
      "#### PROCESSING: RF02995, /home/ubuntu/datasets/db1/traintestval_split/CD_Hit/Custom_CD_Hit/Hierarchical_Clustering/RF02995/\n",
      "#### RF02995: 40 sequences in RFAM, 1 clusters, 5970 total tokens, 0 thermo clusters\n"
     ]
    }
   ],
   "source": [
    "#### COUNT CLUSTER STATS ####\n",
    "## ALL DATA\n",
    "cd_hit_suffix = \"_90_80_70_60Identity\"\n",
    "print(\"#### ALL DATA ####\")\n",
    "all_clusters_dict = {}\n",
    "cluster_count_dict = {}\n",
    "seqs_per_cluster_dict = {}\n",
    "tokens_per_cluster_dict = {}\n",
    "tokens_per_cluster_from_thermos_dict = {}\n",
    "cluster_to_seqid_list_dicts = {}\n",
    "clusters_without_thermos_dict = {}\n",
    "clusters_with_thermos_dict = {}\n",
    "seq_ids_to_cluster_dict_of_dicts = {}\n",
    "singlets = []\n",
    "\n",
    "# FOR FASTA IN MINI RFAMs, PARSE CLUSTER INFO\n",
    "for rfam,fasta in fasta_dict_228.items():\n",
    "    dir = \"/home/ubuntu/datasets/db1/traintestval_split/CD_Hit/Custom_CD_Hit/Hierarchical_Clustering/\"+f\"{rfam}/\" #f\"{cluster_dir}{rfam}/\"\n",
    "    print(f\"#### PROCESSING: {rfam}, {dir}\")\n",
    "    \n",
    "    # GET CLUSTER FILE\n",
    "    cluster_file = [x for x in os.listdir(dir) if cd_hit_suffix in x and \".clstr\" in x][0]\n",
    "    with open(f\"{dir}{cluster_file}\", \"r\") as f:\n",
    "        all_clusters = f.read()\n",
    "    # Split file into dict\n",
    "    clusters = re.split(r'(>Cluster \\d+)', all_clusters)\n",
    "    cluster_dict = {clusters[i]: [l.split(\"\\t\") for l in clusters[i+1].strip().split('\\n')] for i in range(1, len(clusters), 2)}\n",
    "    all_clusters_dict[rfam] = cluster_dict\n",
    "\n",
    "    cluster_to_seqid_list_dict = {key: [re.split(r'>(.*)\\.\\.\\.', s[1])[1] for s in cluster_dict[key]] for key in cluster_dict}\n",
    "    cluster_to_seqid_list_dicts[rfam] = {key: [re.split(r'>(.*)\\.\\.\\.', s[1])[1] for s in cluster_dict[key]] for key in cluster_dict}\n",
    "    \n",
    "    seq_ids_to_cluster_dict = {item: key for key, items_list in cluster_to_seqid_list_dict.items() for item in items_list}\n",
    "    seq_ids_to_cluster_dict_of_dicts[rfam] = seq_ids_to_cluster_dict\n",
    "    \n",
    "    # COUNT CLUSTERS\n",
    "    n_clusters = len(cluster_dict.keys())\n",
    "    cluster_count_dict[rfam] = n_clusters\n",
    "    if n_clusters == 1:\n",
    "        singlets.append(rfam)\n",
    "    \n",
    "    # SEQS PER CLUSTER\n",
    "    seqs_per_cluster = {len(v) for k,v in cluster_dict.items()}\n",
    "    seqs_per_cluster_dict[rfam] = seqs_per_cluster\n",
    "\n",
    "    # COUNT TOKEN COUNTS FOR GENERAL AND THERMOs\n",
    "    cluster_seq_len_dict = defaultdict(dict)\n",
    "    cluster_THERMO_seq_len_dict = defaultdict(dict)\n",
    "    \n",
    "    for record in SeqIO.parse(fasta, \"fasta\"):\n",
    "        # Get and clean fasta id\n",
    "        seq_id = record.id#.split(\"__\")[1]\n",
    "        gtdb_id = record.id.split(\"__\")[0]\n",
    "        seq_len = len(record.seq)\n",
    "        #cluster_id = seq_ids_to_cluster_dict[seq_id.split(\"__\")[1]]\n",
    "        cluster_id = seq_ids_to_cluster_dict[seq_id]\n",
    "        # Save length of seq in general nested dict\n",
    "        cluster_seq_len_dict[cluster_id][seq_id] = seq_len\n",
    "        # Save length of seq in thermo nested dict\n",
    "        if gtdb_id in thermo_acc:\n",
    "            cluster_THERMO_seq_len_dict[cluster_id][seq_id] = seq_len\n",
    "    \n",
    "    # Collapse data as cluster sums\n",
    "    tokens_per_cluster = {k:np.sum(list(v.values())) for k,v in cluster_seq_len_dict.items()}\n",
    "    tokens_per_cluster_from_thermos = {k:np.sum(list(v.values())) for k,v in cluster_THERMO_seq_len_dict.items()}\n",
    "    clusters_without_thermos = [x for x in tokens_per_cluster.keys() if x not in tokens_per_cluster_from_thermos.keys()]\n",
    "    clusters_with_thermos = [x for x in tokens_per_cluster.keys() if x in tokens_per_cluster_from_thermos.keys()]\n",
    "    # Save\n",
    "    tokens_per_cluster_dict[rfam] = tokens_per_cluster\n",
    "    tokens_per_cluster_from_thermos_dict[rfam] = tokens_per_cluster_from_thermos\n",
    "    clusters_without_thermos_dict[rfam] = clusters_without_thermos\n",
    "    clusters_with_thermos_dict[rfam] = clusters_with_thermos\n",
    "\n",
    "    print(f\"#### {rfam}: {n_seqs_per_rfam[rfam]} sequences in RFAM, \"\n",
    "          f\"{n_clusters} clusters, {bp_per_rfam[rfam]} total tokens, {len(clusters_with_thermos)} thermo clusters\" )\n",
    "all_data_thermo_seq_ids_per_cluster_dict = {\n",
    "    k: {\n",
    "        cluster_id: [x for x in seqids if x.split(\"__\")[0] in thermo_acc]\n",
    "        for cluster_id, seqids in v.items()\n",
    "        if len([x for x in seqids if x.split(\"__\")[0] in thermo_acc]) != 0  # Filter out empty values\n",
    "    }\n",
    "    for k, v in cluster_to_seqid_list_dicts.items()\n",
    "}    \n"
   ]
  },
  {
   "cell_type": "code",
   "execution_count": 8,
   "id": "c80c30a8-befd-4d46-b7ed-214cac47a25f",
   "metadata": {},
   "outputs": [
    {
     "name": "stdout",
     "output_type": "stream",
     "text": [
      "5S 234695\n",
      "16S 2507382\n",
      "23S 5433462\n",
      "# 3x RFAM TEST TOKENS: 8175539\n",
      "#### PROCESSING Non-singlet modest-cluster RFAM: RF02969, /home/ubuntu/datasets/alignments/mini_Rfam/final_split_by_model/RF02969_final.fa\n",
      "## N_seqs: 40\n",
      "## N_seqs: 40\n",
      "## N_seqs: 40\n"
     ]
    },
    {
     "name": "stderr",
     "output_type": "stream",
     "text": [
      "[INFO]\u001b[0m 40 patterns loaded from file\n",
      "[INFO]\u001b[0m 40 patterns loaded from file\n",
      "[INFO]\u001b[0m 275 patterns loaded from file\n"
     ]
    },
    {
     "name": "stdout",
     "output_type": "stream",
     "text": [
      "#### PROCESSING Non-singlet modest-cluster RFAM: RF00514, /home/ubuntu/datasets/alignments/mini_Rfam/final_split_by_model/RF00514_final.fa\n",
      "## N_seqs: 275\n",
      "## N_seqs: 275\n",
      "## N_seqs: 275\n",
      "#### PROCESSING Non-singlet modest-cluster RFAM: RF01405, /home/ubuntu/datasets/alignments/mini_Rfam/final_split_by_model/RF01405_final.fa\n",
      "## N_seqs: 101\n",
      "## N_seqs: 101\n"
     ]
    },
    {
     "name": "stderr",
     "output_type": "stream",
     "text": [
      "[INFO]\u001b[0m 275 patterns loaded from file\n",
      "[INFO]\u001b[0m 101 patterns loaded from file\n",
      "[INFO]\u001b[0m 101 patterns loaded from file\n"
     ]
    },
    {
     "name": "stdout",
     "output_type": "stream",
     "text": [
      "## N_seqs: 101\n",
      "#### PROCESSING Non-singlet modest-cluster RFAM: RF00028, /home/ubuntu/datasets/alignments/mini_Rfam/final_split_by_model/RF00028_final.fa\n",
      "## N_seqs: 12\n",
      "## N_seqs: 12\n",
      "## N_seqs: 12\n"
     ]
    },
    {
     "name": "stderr",
     "output_type": "stream",
     "text": [
      "[INFO]\u001b[0m 12 patterns loaded from file\n",
      "[INFO]\u001b[0m 12 patterns loaded from file\n",
      "[INFO]\u001b[0m 15 patterns loaded from file\n",
      "[INFO]\u001b[0m 15 patterns loaded from file\n"
     ]
    },
    {
     "name": "stdout",
     "output_type": "stream",
     "text": [
      "#### PROCESSING Non-singlet modest-cluster RFAM: RF03016, /home/ubuntu/datasets/alignments/mini_Rfam/final_split_by_model/RF03016_final.fa\n",
      "## N_seqs: 15\n",
      "## N_seqs: 15\n",
      "## N_seqs: 15\n",
      "#### PROCESSING Non-singlet modest-cluster RFAM: RF00442, /home/ubuntu/datasets/alignments/mini_Rfam/final_split_by_model/RF00442_final.fa\n",
      "## N_seqs: 1642\n",
      "## N_seqs: 1642\n"
     ]
    },
    {
     "name": "stderr",
     "output_type": "stream",
     "text": [
      "[INFO]\u001b[0m 1642 patterns loaded from file\n",
      "[INFO]\u001b[0m 1642 patterns loaded from file\n"
     ]
    },
    {
     "name": "stdout",
     "output_type": "stream",
     "text": [
      "## N_seqs: 1642\n",
      "#### PROCESSING Non-singlet modest-cluster RFAM: RF01746, /home/ubuntu/datasets/alignments/mini_Rfam/final_split_by_model/RF01746_final.fa\n",
      "## N_seqs: 151\n",
      "## N_seqs: 151\n",
      "## N_seqs: 151\n"
     ]
    },
    {
     "name": "stderr",
     "output_type": "stream",
     "text": [
      "[INFO]\u001b[0m 151 patterns loaded from file\n",
      "[INFO]\u001b[0m 151 patterns loaded from file\n",
      "[INFO]\u001b[0m 14 patterns loaded from file\n"
     ]
    },
    {
     "name": "stdout",
     "output_type": "stream",
     "text": [
      "#### PROCESSING Non-singlet modest-cluster RFAM: RF02079, /home/ubuntu/datasets/alignments/mini_Rfam/final_split_by_model/RF02079_final.fa\n",
      "## N_seqs: 14\n",
      "## N_seqs: 14\n",
      "## N_seqs: 14\n",
      "#### PROCESSING Non-singlet modest-cluster RFAM: RF02673, /home/ubuntu/datasets/alignments/mini_Rfam/final_split_by_model/RF02673_final.fa\n",
      "## N_seqs: 134\n",
      "## N_seqs: 134\n"
     ]
    },
    {
     "name": "stderr",
     "output_type": "stream",
     "text": [
      "[INFO]\u001b[0m 14 patterns loaded from file\n",
      "[INFO]\u001b[0m 134 patterns loaded from file\n",
      "[INFO]\u001b[0m 134 patterns loaded from file\n"
     ]
    },
    {
     "name": "stdout",
     "output_type": "stream",
     "text": [
      "## N_seqs: 134\n",
      "#### PROCESSING Non-singlet modest-cluster RFAM: RF03087, /home/ubuntu/datasets/alignments/mini_Rfam/final_split_by_model/RF03087_final.fa\n",
      "## N_seqs: 63\n",
      "## N_seqs: 63\n",
      "## N_seqs: 63\n"
     ]
    },
    {
     "name": "stderr",
     "output_type": "stream",
     "text": [
      "[INFO]\u001b[0m 63 patterns loaded from file\n",
      "[INFO]\u001b[0m 63 patterns loaded from file\n",
      "[INFO]\u001b[0m 11 patterns loaded from file\n"
     ]
    },
    {
     "name": "stdout",
     "output_type": "stream",
     "text": [
      "#### PROCESSING Non-singlet modest-cluster RFAM: RF00101, /home/ubuntu/datasets/alignments/mini_Rfam/final_split_by_model/RF00101_final.fa\n",
      "## N_seqs: 11\n",
      "## N_seqs: 11\n",
      "## N_seqs: 11\n",
      "#### PROCESSING Non-singlet modest-cluster RFAM: RF01764, /home/ubuntu/datasets/alignments/mini_Rfam/final_split_by_model/RF01764_final.fa\n",
      "## N_seqs: 234\n"
     ]
    },
    {
     "name": "stderr",
     "output_type": "stream",
     "text": [
      "[INFO]\u001b[0m 11 patterns loaded from file\n",
      "[INFO]\u001b[0m 234 patterns loaded from file\n",
      "[INFO]\u001b[0m 234 patterns loaded from file\n"
     ]
    },
    {
     "name": "stdout",
     "output_type": "stream",
     "text": [
      "## N_seqs: 234\n",
      "## N_seqs: 234\n",
      "#### PROCESSING Non-singlet modest-cluster RFAM: RF00558, /home/ubuntu/datasets/alignments/mini_Rfam/final_split_by_model/RF00558_final.fa\n",
      "## N_seqs: 594\n",
      "## N_seqs: 594\n"
     ]
    },
    {
     "name": "stderr",
     "output_type": "stream",
     "text": [
      "[INFO]\u001b[0m 594 patterns loaded from file\n",
      "[INFO]\u001b[0m 594 patterns loaded from file\n",
      "[INFO]\u001b[0m 175 patterns loaded from file\n"
     ]
    },
    {
     "name": "stdout",
     "output_type": "stream",
     "text": [
      "## N_seqs: 594\n",
      "#### PROCESSING Non-singlet modest-cluster RFAM: RF03069, /home/ubuntu/datasets/alignments/mini_Rfam/final_split_by_model/RF03069_final.fa\n",
      "## N_seqs: 175\n",
      "## N_seqs: 175\n",
      "## N_seqs: 175\n"
     ]
    },
    {
     "name": "stderr",
     "output_type": "stream",
     "text": [
      "[INFO]\u001b[0m 175 patterns loaded from file\n",
      "[INFO]\u001b[0m 19 patterns loaded from file\n",
      "[INFO]\u001b[0m 19 patterns loaded from file\n"
     ]
    },
    {
     "name": "stdout",
     "output_type": "stream",
     "text": [
      "#### PROCESSING Non-singlet modest-cluster RFAM: RF01728, /home/ubuntu/datasets/alignments/mini_Rfam/final_split_by_model/RF01728_final.fa\n",
      "## N_seqs: 19\n",
      "## N_seqs: 19\n",
      "## N_seqs: 19\n",
      "#### PROCESSING Non-singlet modest-cluster RFAM: RF01854, /home/ubuntu/datasets/alignments/mini_Rfam/final_split_by_model/RF01854_final.fa\n",
      "## N_seqs: 1041\n",
      "## N_seqs: 1041\n",
      "## N_seqs: 1041\n"
     ]
    },
    {
     "name": "stderr",
     "output_type": "stream",
     "text": [
      "[INFO]\u001b[0m 1041 patterns loaded from file\n",
      "[INFO]\u001b[0m 1041 patterns loaded from file\n"
     ]
    },
    {
     "name": "stdout",
     "output_type": "stream",
     "text": [
      "#### PROCESSING Non-singlet modest-cluster RFAM: RF00011, /home/ubuntu/datasets/alignments/mini_Rfam/final_split_by_model/RF00011_final.fa\n",
      "## N_seqs: 267\n",
      "## N_seqs: 267\n",
      "## N_seqs: 267\n"
     ]
    },
    {
     "name": "stderr",
     "output_type": "stream",
     "text": [
      "[INFO]\u001b[0m 267 patterns loaded from file\n",
      "[INFO]\u001b[0m 267 patterns loaded from file\n"
     ]
    },
    {
     "name": "stdout",
     "output_type": "stream",
     "text": [
      "#### PROCESSING Non-singlet modest-cluster RFAM: RF00059, /home/ubuntu/datasets/alignments/mini_Rfam/final_split_by_model/RF00059_final.fa\n",
      "## N_seqs: 16188\n",
      "## N_seqs: 16188\n"
     ]
    },
    {
     "name": "stderr",
     "output_type": "stream",
     "text": [
      "[INFO]\u001b[0m 16188 patterns loaded from file\n"
     ]
    },
    {
     "name": "stdout",
     "output_type": "stream",
     "text": [
      "## N_seqs: 16188\n"
     ]
    },
    {
     "name": "stderr",
     "output_type": "stream",
     "text": [
      "[INFO]\u001b[0m 16188 patterns loaded from file\n"
     ]
    },
    {
     "name": "stdout",
     "output_type": "stream",
     "text": [
      "#### PROCESSING Non-singlet modest-cluster RFAM: RF02471, /home/ubuntu/datasets/alignments/mini_Rfam/final_split_by_model/RF02471_final.fa\n",
      "## N_seqs: 556\n",
      "## N_seqs: 556\n",
      "## N_seqs: 556\n"
     ]
    },
    {
     "name": "stderr",
     "output_type": "stream",
     "text": [
      "[INFO]\u001b[0m 556 patterns loaded from file\n",
      "[INFO]\u001b[0m 556 patterns loaded from file\n",
      "[INFO]\u001b[0m 4 patterns loaded from file\n"
     ]
    },
    {
     "name": "stdout",
     "output_type": "stream",
     "text": [
      "#### PROCESSING Non-singlet modest-cluster RFAM: RF01760, /home/ubuntu/datasets/alignments/mini_Rfam/final_split_by_model/RF01760_final.fa\n",
      "## N_seqs: 4\n",
      "## N_seqs: 4\n",
      "## N_seqs: 4\n",
      "#### PROCESSING Non-singlet modest-cluster RFAM: RF02921, /home/ubuntu/datasets/alignments/mini_Rfam/final_split_by_model/RF02921_final.fa\n",
      "## N_seqs: 11\n",
      "## N_seqs: 11\n"
     ]
    },
    {
     "name": "stderr",
     "output_type": "stream",
     "text": [
      "[INFO]\u001b[0m 4 patterns loaded from file\n",
      "[INFO]\u001b[0m 11 patterns loaded from file\n",
      "[INFO]\u001b[0m 11 patterns loaded from file\n"
     ]
    },
    {
     "name": "stdout",
     "output_type": "stream",
     "text": [
      "## N_seqs: 11\n",
      "#### PROCESSING Non-singlet modest-cluster RFAM: RF02840, /home/ubuntu/datasets/alignments/mini_Rfam/final_split_by_model/RF02840_final.fa\n",
      "## N_seqs: 69\n",
      "## N_seqs: 69\n",
      "## N_seqs: 69\n"
     ]
    },
    {
     "name": "stderr",
     "output_type": "stream",
     "text": [
      "[INFO]\u001b[0m 69 patterns loaded from file\n",
      "[INFO]\u001b[0m 69 patterns loaded from file\n",
      "[INFO]\u001b[0m 1 patterns loaded from file\n"
     ]
    },
    {
     "name": "stdout",
     "output_type": "stream",
     "text": [
      "#### PROCESSING Non-singlet modest-cluster RFAM: RF02084, /home/ubuntu/datasets/alignments/mini_Rfam/final_split_by_model/RF02084_final.fa\n",
      "## N_seqs: 1\n",
      "## N_seqs: 1\n",
      "## N_seqs: 1\n",
      "#### PROCESSING Non-singlet modest-cluster RFAM: RF00167, /home/ubuntu/datasets/alignments/mini_Rfam/final_split_by_model/RF00167_final.fa\n"
     ]
    },
    {
     "name": "stderr",
     "output_type": "stream",
     "text": [
      "[INFO]\u001b[0m 1 patterns loaded from file\n",
      "[INFO]\u001b[0m 3799 patterns loaded from file\n"
     ]
    },
    {
     "name": "stdout",
     "output_type": "stream",
     "text": [
      "## N_seqs: 3799\n",
      "## N_seqs: 3799\n",
      "## N_seqs: 3799\n"
     ]
    },
    {
     "name": "stderr",
     "output_type": "stream",
     "text": [
      "[INFO]\u001b[0m 3799 patterns loaded from file\n",
      "[INFO]\u001b[0m 10 patterns loaded from file\n",
      "[INFO]\u001b[0m 10 patterns loaded from file\n"
     ]
    },
    {
     "name": "stdout",
     "output_type": "stream",
     "text": [
      "#### PROCESSING Non-singlet modest-cluster RFAM: RF01867, /home/ubuntu/datasets/alignments/mini_Rfam/final_split_by_model/RF01867_final.fa\n",
      "## N_seqs: 10\n",
      "## N_seqs: 10\n",
      "## N_seqs: 10\n",
      "#### PROCESSING Non-singlet modest-cluster RFAM: RF02004, /home/ubuntu/datasets/alignments/mini_Rfam/final_split_by_model/RF02004_final.fa\n",
      "## N_seqs: 371\n",
      "## N_seqs: 371\n"
     ]
    },
    {
     "name": "stderr",
     "output_type": "stream",
     "text": [
      "[INFO]\u001b[0m 371 patterns loaded from file\n",
      "[INFO]\u001b[0m 371 patterns loaded from file\n"
     ]
    },
    {
     "name": "stdout",
     "output_type": "stream",
     "text": [
      "## N_seqs: 371\n",
      "#### PROCESSING Non-singlet modest-cluster RFAM: RF01849, /home/ubuntu/datasets/alignments/mini_Rfam/final_split_by_model/RF01849_final.fa\n",
      "## N_seqs: 1043\n",
      "## N_seqs: 1043\n"
     ]
    },
    {
     "name": "stderr",
     "output_type": "stream",
     "text": [
      "[INFO]\u001b[0m 1043 patterns loaded from file\n",
      "[INFO]\u001b[0m 1043 patterns loaded from file\n"
     ]
    },
    {
     "name": "stdout",
     "output_type": "stream",
     "text": [
      "## N_seqs: 1043\n",
      "#### PROCESSING Non-singlet modest-cluster RFAM: RF00114, /home/ubuntu/datasets/alignments/mini_Rfam/final_split_by_model/RF00114_final.fa\n",
      "## N_seqs: 557\n",
      "## N_seqs: 557\n"
     ]
    },
    {
     "name": "stderr",
     "output_type": "stream",
     "text": [
      "[INFO]\u001b[0m 557 patterns loaded from file\n",
      "[INFO]\u001b[0m 557 patterns loaded from file\n",
      "[INFO]\u001b[0m 10 patterns loaded from file\n"
     ]
    },
    {
     "name": "stdout",
     "output_type": "stream",
     "text": [
      "## N_seqs: 557\n",
      "#### PROCESSING Non-singlet modest-cluster RFAM: RF03108, /home/ubuntu/datasets/alignments/mini_Rfam/final_split_by_model/RF03108_final.fa\n",
      "## N_seqs: 10\n",
      "## N_seqs: 10\n",
      "## N_seqs: 10\n"
     ]
    },
    {
     "name": "stderr",
     "output_type": "stream",
     "text": [
      "[INFO]\u001b[0m 10 patterns loaded from file\n",
      "[INFO]\u001b[0m 3 patterns loaded from file\n",
      "[INFO]\u001b[0m 3 patterns loaded from file\n"
     ]
    },
    {
     "name": "stdout",
     "output_type": "stream",
     "text": [
      "#### PROCESSING Non-singlet modest-cluster RFAM: RF01407, /home/ubuntu/datasets/alignments/mini_Rfam/final_split_by_model/RF01407_final.fa\n",
      "## N_seqs: 3\n",
      "## N_seqs: 3\n",
      "## N_seqs: 3\n",
      "#### PROCESSING Non-singlet modest-cluster RFAM: RF01999, /home/ubuntu/datasets/alignments/mini_Rfam/final_split_by_model/RF01999_final.fa\n",
      "## N_seqs: 867\n",
      "## N_seqs: 867\n",
      "## N_seqs: 867\n",
      "#### PROCESSING Non-singlet modest-cluster RFAM: RF02514, /home/ubuntu/datasets/alignments/mini_Rfam/final_split_by_model/RF02514_final.fa\n"
     ]
    },
    {
     "name": "stderr",
     "output_type": "stream",
     "text": [
      "[INFO]\u001b[0m 867 patterns loaded from file\n",
      "[INFO]\u001b[0m 867 patterns loaded from file\n"
     ]
    },
    {
     "name": "stdout",
     "output_type": "stream",
     "text": [
      "## N_seqs: 3153\n",
      "## N_seqs: 3153\n",
      "## N_seqs: 3153\n"
     ]
    },
    {
     "name": "stderr",
     "output_type": "stream",
     "text": [
      "[INFO]\u001b[0m 3153 patterns loaded from file\n",
      "[INFO]\u001b[0m 3153 patterns loaded from file\n"
     ]
    },
    {
     "name": "stdout",
     "output_type": "stream",
     "text": [
      "#### PROCESSING Non-singlet modest-cluster RFAM: RF00174, /home/ubuntu/datasets/alignments/mini_Rfam/final_split_by_model/RF00174_final.fa\n",
      "## N_seqs: 23449\n",
      "## N_seqs: 23449\n"
     ]
    },
    {
     "name": "stderr",
     "output_type": "stream",
     "text": [
      "[INFO]\u001b[0m 23449 patterns loaded from file\n"
     ]
    },
    {
     "name": "stdout",
     "output_type": "stream",
     "text": [
      "## N_seqs: 23449\n"
     ]
    },
    {
     "name": "stderr",
     "output_type": "stream",
     "text": [
      "[INFO]\u001b[0m 23449 patterns loaded from file\n"
     ]
    },
    {
     "name": "stdout",
     "output_type": "stream",
     "text": [
      "#### PROCESSING Non-singlet modest-cluster RFAM: RF01065, /home/ubuntu/datasets/alignments/mini_Rfam/final_split_by_model/RF01065_final.fa\n",
      "## N_seqs: 73\n",
      "## N_seqs: 73\n",
      "## N_seqs: 73\n"
     ]
    },
    {
     "name": "stderr",
     "output_type": "stream",
     "text": [
      "[INFO]\u001b[0m 73 patterns loaded from file\n",
      "[INFO]\u001b[0m 73 patterns loaded from file\n"
     ]
    },
    {
     "name": "stdout",
     "output_type": "stream",
     "text": [
      "#### PROCESSING Non-singlet modest-cluster RFAM: RF01731, /home/ubuntu/datasets/alignments/mini_Rfam/final_split_by_model/RF01731_final.fa\n",
      "## N_seqs: 1219\n",
      "## N_seqs: 1219\n",
      "## N_seqs: 1219\n"
     ]
    },
    {
     "name": "stderr",
     "output_type": "stream",
     "text": [
      "[INFO]\u001b[0m 1219 patterns loaded from file\n",
      "[INFO]\u001b[0m 1219 patterns loaded from file\n"
     ]
    },
    {
     "name": "stdout",
     "output_type": "stream",
     "text": [
      "#### PROCESSING Non-singlet modest-cluster RFAM: RF03072, /home/ubuntu/datasets/alignments/mini_Rfam/final_split_by_model/RF03072_final.fa\n",
      "## N_seqs: 221\n",
      "## N_seqs: 221\n",
      "## N_seqs: 221\n"
     ]
    },
    {
     "name": "stderr",
     "output_type": "stream",
     "text": [
      "[INFO]\u001b[0m 221 patterns loaded from file\n",
      "[INFO]\u001b[0m 221 patterns loaded from file\n"
     ]
    },
    {
     "name": "stdout",
     "output_type": "stream",
     "text": [
      "#### PROCESSING Non-singlet modest-cluster RFAM: RF03531, /home/ubuntu/datasets/alignments/mini_Rfam/final_split_by_model/RF03531_final.fa\n",
      "## N_seqs: 47\n",
      "## N_seqs: 47\n",
      "## N_seqs: 47\n",
      "#### PROCESSING Non-singlet modest-cluster RFAM: RF03018, /home/ubuntu/datasets/alignments/mini_Rfam/final_split_by_model/RF03018_final.fa\n",
      "## N_seqs: 8\n"
     ]
    },
    {
     "name": "stderr",
     "output_type": "stream",
     "text": [
      "[INFO]\u001b[0m 47 patterns loaded from file\n",
      "[INFO]\u001b[0m 47 patterns loaded from file\n",
      "[INFO]\u001b[0m 8 patterns loaded from file\n"
     ]
    },
    {
     "name": "stdout",
     "output_type": "stream",
     "text": [
      "## N_seqs: 8\n",
      "## N_seqs: 8\n",
      "#### PROCESSING Non-singlet modest-cluster RFAM: RF01685, /home/ubuntu/datasets/alignments/mini_Rfam/final_split_by_model/RF01685_final.fa\n",
      "## N_seqs: 48\n",
      "## N_seqs: 48\n"
     ]
    },
    {
     "name": "stderr",
     "output_type": "stream",
     "text": [
      "[INFO]\u001b[0m 8 patterns loaded from file\n",
      "[INFO]\u001b[0m 48 patterns loaded from file\n"
     ]
    },
    {
     "name": "stdout",
     "output_type": "stream",
     "text": [
      "## N_seqs: 48\n",
      "#### PROCESSING Non-singlet modest-cluster RFAM: RF01766, /home/ubuntu/datasets/alignments/mini_Rfam/final_split_by_model/RF01766_final.fa\n",
      "## N_seqs: 731\n",
      "## N_seqs: 731\n"
     ]
    },
    {
     "name": "stderr",
     "output_type": "stream",
     "text": [
      "[INFO]\u001b[0m 48 patterns loaded from file\n",
      "[INFO]\u001b[0m 731 patterns loaded from file\n"
     ]
    },
    {
     "name": "stdout",
     "output_type": "stream",
     "text": [
      "## N_seqs: 731\n",
      "#### PROCESSING Non-singlet modest-cluster RFAM: RF02972, /home/ubuntu/datasets/alignments/mini_Rfam/final_split_by_model/RF02972_final.fa\n",
      "## N_seqs: 3\n",
      "## N_seqs: 3\n"
     ]
    },
    {
     "name": "stderr",
     "output_type": "stream",
     "text": [
      "[INFO]\u001b[0m 731 patterns loaded from file\n",
      "[INFO]\u001b[0m 3 patterns loaded from file\n"
     ]
    },
    {
     "name": "stdout",
     "output_type": "stream",
     "text": [
      "## N_seqs: 3\n",
      "#### PROCESSING Non-singlet modest-cluster RFAM: RF00022, /home/ubuntu/datasets/alignments/mini_Rfam/final_split_by_model/RF00022_final.fa\n",
      "## N_seqs: 122\n",
      "## N_seqs: 122\n",
      "## N_seqs: 122\n"
     ]
    },
    {
     "name": "stderr",
     "output_type": "stream",
     "text": [
      "[INFO]\u001b[0m 3 patterns loaded from file\n",
      "[INFO]\u001b[0m 122 patterns loaded from file\n",
      "[INFO]\u001b[0m 122 patterns loaded from file\n"
     ]
    },
    {
     "name": "stdout",
     "output_type": "stream",
     "text": [
      "#### PROCESSING Non-singlet modest-cluster RFAM: RF00013, /home/ubuntu/datasets/alignments/mini_Rfam/final_split_by_model/RF00013_final.fa\n",
      "## N_seqs: 6488\n",
      "## N_seqs: 6488\n",
      "## N_seqs: 6488\n"
     ]
    },
    {
     "name": "stderr",
     "output_type": "stream",
     "text": [
      "[INFO]\u001b[0m 6488 patterns loaded from file\n",
      "[INFO]\u001b[0m 6488 patterns loaded from file\n"
     ]
    },
    {
     "name": "stdout",
     "output_type": "stream",
     "text": [
      "#### PROCESSING Non-singlet modest-cluster RFAM: RF02932, /home/ubuntu/datasets/alignments/mini_Rfam/final_split_by_model/RF02932_final.fa\n",
      "## N_seqs: 22\n",
      "## N_seqs: 22\n",
      "## N_seqs: 22\n",
      "#### PROCESSING Non-singlet modest-cluster RFAM: RF01069, /home/ubuntu/datasets/alignments/mini_Rfam/final_split_by_model/RF01069_final.fa\n"
     ]
    },
    {
     "name": "stderr",
     "output_type": "stream",
     "text": [
      "[INFO]\u001b[0m 22 patterns loaded from file\n",
      "[INFO]\u001b[0m 22 patterns loaded from file\n"
     ]
    },
    {
     "name": "stdout",
     "output_type": "stream",
     "text": [
      "## N_seqs: 79\n",
      "## N_seqs: 79\n",
      "## N_seqs: 79\n"
     ]
    },
    {
     "name": "stderr",
     "output_type": "stream",
     "text": [
      "[INFO]\u001b[0m 79 patterns loaded from file\n",
      "[INFO]\u001b[0m 79 patterns loaded from file\n"
     ]
    },
    {
     "name": "stdout",
     "output_type": "stream",
     "text": [
      "#### PROCESSING Non-singlet modest-cluster RFAM: RF03166, /home/ubuntu/datasets/alignments/mini_Rfam/final_split_by_model/RF03166_final.fa\n",
      "## N_seqs: 279\n",
      "## N_seqs: 279\n",
      "## N_seqs: 279\n"
     ]
    },
    {
     "name": "stderr",
     "output_type": "stream",
     "text": [
      "[INFO]\u001b[0m 279 patterns loaded from file\n",
      "[INFO]\u001b[0m 279 patterns loaded from file\n"
     ]
    },
    {
     "name": "stdout",
     "output_type": "stream",
     "text": [
      "#### PROCESSING Non-singlet modest-cluster RFAM: RF02347, /home/ubuntu/datasets/alignments/mini_Rfam/final_split_by_model/RF02347_final.fa\n",
      "## N_seqs: 28\n",
      "## N_seqs: 28\n",
      "## N_seqs: 28\n"
     ]
    },
    {
     "name": "stderr",
     "output_type": "stream",
     "text": [
      "[INFO]\u001b[0m 28 patterns loaded from file\n",
      "[INFO]\u001b[0m 28 patterns loaded from file\n"
     ]
    },
    {
     "name": "stdout",
     "output_type": "stream",
     "text": [
      "#### PROCESSING Non-singlet modest-cluster RFAM: RF00628, /home/ubuntu/datasets/alignments/mini_Rfam/final_split_by_model/RF00628_final.fa\n",
      "## N_seqs: 74\n",
      "## N_seqs: 74\n",
      "## N_seqs: 74\n"
     ]
    },
    {
     "name": "stderr",
     "output_type": "stream",
     "text": [
      "[INFO]\u001b[0m 74 patterns loaded from file\n",
      "[INFO]\u001b[0m 74 patterns loaded from file\n"
     ]
    },
    {
     "name": "stdout",
     "output_type": "stream",
     "text": [
      "#### PROCESSING Non-singlet modest-cluster RFAM: RF04183, /home/ubuntu/datasets/alignments/mini_Rfam/final_split_by_model/RF04183_final.fa\n",
      "## N_seqs: 965\n",
      "## N_seqs: 965\n",
      "## N_seqs: 965\n"
     ]
    },
    {
     "name": "stderr",
     "output_type": "stream",
     "text": [
      "[INFO]\u001b[0m 965 patterns loaded from file\n",
      "[INFO]\u001b[0m 965 patterns loaded from file\n"
     ]
    },
    {
     "name": "stdout",
     "output_type": "stream",
     "text": [
      "#### PROCESSING Non-singlet modest-cluster RFAM: RF00080, /home/ubuntu/datasets/alignments/mini_Rfam/final_split_by_model/RF00080_final.fa\n",
      "## N_seqs: 622\n",
      "## N_seqs: 622\n",
      "## N_seqs: 622\n"
     ]
    },
    {
     "name": "stderr",
     "output_type": "stream",
     "text": [
      "[INFO]\u001b[0m 622 patterns loaded from file\n",
      "[INFO]\u001b[0m 622 patterns loaded from file\n"
     ]
    },
    {
     "name": "stdout",
     "output_type": "stream",
     "text": [
      "#### PROCESSING Non-singlet modest-cluster RFAM: RF02958, /home/ubuntu/datasets/alignments/mini_Rfam/final_split_by_model/RF02958_final.fa\n",
      "## N_seqs: 63\n",
      "## N_seqs: 63\n",
      "## N_seqs: 63\n"
     ]
    },
    {
     "name": "stderr",
     "output_type": "stream",
     "text": [
      "[INFO]\u001b[0m 63 patterns loaded from file\n",
      "[INFO]\u001b[0m 63 patterns loaded from file\n"
     ]
    },
    {
     "name": "stdout",
     "output_type": "stream",
     "text": [
      "#### PROCESSING Non-singlet modest-cluster RFAM: RF03005, /home/ubuntu/datasets/alignments/mini_Rfam/final_split_by_model/RF03005_final.fa\n",
      "## N_seqs: 9\n",
      "## N_seqs: 9\n",
      "## N_seqs: 9\n"
     ]
    },
    {
     "name": "stderr",
     "output_type": "stream",
     "text": [
      "[INFO]\u001b[0m 9 patterns loaded from file\n",
      "[INFO]\u001b[0m 9 patterns loaded from file\n",
      "[INFO]\u001b[0m 945 patterns loaded from file\n"
     ]
    },
    {
     "name": "stdout",
     "output_type": "stream",
     "text": [
      "#### PROCESSING Non-singlet modest-cluster RFAM: RF02033, /home/ubuntu/datasets/alignments/mini_Rfam/final_split_by_model/RF02033_final.fa\n",
      "## N_seqs: 945\n",
      "## N_seqs: 945\n",
      "## N_seqs: 945\n"
     ]
    },
    {
     "name": "stderr",
     "output_type": "stream",
     "text": [
      "[INFO]\u001b[0m 945 patterns loaded from file\n",
      "[INFO]\u001b[0m 983 patterns loaded from file\n"
     ]
    },
    {
     "name": "stdout",
     "output_type": "stream",
     "text": [
      "#### PROCESSING Non-singlet modest-cluster RFAM: RF01055, /home/ubuntu/datasets/alignments/mini_Rfam/final_split_by_model/RF01055_final.fa\n",
      "## N_seqs: 983\n",
      "## N_seqs: 983\n",
      "## N_seqs: 983\n"
     ]
    },
    {
     "name": "stderr",
     "output_type": "stream",
     "text": [
      "[INFO]\u001b[0m 983 patterns loaded from file\n",
      "[INFO]\u001b[0m 27 patterns loaded from file\n"
     ]
    },
    {
     "name": "stdout",
     "output_type": "stream",
     "text": [
      "#### PROCESSING Non-singlet modest-cluster RFAM: RF02081, /home/ubuntu/datasets/alignments/mini_Rfam/final_split_by_model/RF02081_final.fa\n",
      "## N_seqs: 27\n",
      "## N_seqs: 27\n",
      "## N_seqs: 27\n"
     ]
    },
    {
     "name": "stderr",
     "output_type": "stream",
     "text": [
      "[INFO]\u001b[0m 27 patterns loaded from file\n",
      "[INFO]\u001b[0m 635 patterns loaded from file\n"
     ]
    },
    {
     "name": "stdout",
     "output_type": "stream",
     "text": [
      "#### PROCESSING Non-singlet modest-cluster RFAM: RF00380, /home/ubuntu/datasets/alignments/mini_Rfam/final_split_by_model/RF00380_final.fa\n",
      "## N_seqs: 635\n",
      "## N_seqs: 635\n",
      "## N_seqs: 635\n"
     ]
    },
    {
     "name": "stderr",
     "output_type": "stream",
     "text": [
      "[INFO]\u001b[0m 635 patterns loaded from file\n",
      "[INFO]\u001b[0m 1 patterns loaded from file\n"
     ]
    },
    {
     "name": "stdout",
     "output_type": "stream",
     "text": [
      "#### PROCESSING Non-singlet modest-cluster RFAM: RF00506, /home/ubuntu/datasets/alignments/mini_Rfam/final_split_by_model/RF00506_final.fa\n",
      "## N_seqs: 1\n",
      "## N_seqs: 1\n",
      "## N_seqs: 1\n",
      "#### PROCESSING Non-singlet modest-cluster RFAM: RF03062, /home/ubuntu/datasets/alignments/mini_Rfam/final_split_by_model/RF03062_final.fa\n"
     ]
    },
    {
     "name": "stderr",
     "output_type": "stream",
     "text": [
      "[INFO]\u001b[0m 1 patterns loaded from file\n",
      "[INFO]\u001b[0m 3 patterns loaded from file\n"
     ]
    },
    {
     "name": "stdout",
     "output_type": "stream",
     "text": [
      "## N_seqs: 3\n",
      "## N_seqs: 3\n",
      "## N_seqs: 3\n",
      "#### PROCESSING Non-singlet modest-cluster RFAM: RF03026, /home/ubuntu/datasets/alignments/mini_Rfam/final_split_by_model/RF03026_final.fa\n"
     ]
    },
    {
     "name": "stderr",
     "output_type": "stream",
     "text": [
      "[INFO]\u001b[0m 3 patterns loaded from file\n",
      "[INFO]\u001b[0m 69 patterns loaded from file\n"
     ]
    },
    {
     "name": "stdout",
     "output_type": "stream",
     "text": [
      "## N_seqs: 69\n",
      "## N_seqs: 69\n",
      "## N_seqs: 69\n"
     ]
    },
    {
     "name": "stderr",
     "output_type": "stream",
     "text": [
      "[INFO]\u001b[0m 69 patterns loaded from file\n",
      "[INFO]\u001b[0m 2 patterns loaded from file\n"
     ]
    },
    {
     "name": "stdout",
     "output_type": "stream",
     "text": [
      "#### PROCESSING Non-singlet modest-cluster RFAM: RF01721, /home/ubuntu/datasets/alignments/mini_Rfam/final_split_by_model/RF01721_final.fa\n",
      "## N_seqs: 2\n",
      "## N_seqs: 2\n",
      "## N_seqs: 2\n"
     ]
    },
    {
     "name": "stderr",
     "output_type": "stream",
     "text": [
      "[INFO]\u001b[0m 2 patterns loaded from file\n",
      "[INFO]\u001b[0m 50 patterns loaded from file\n"
     ]
    },
    {
     "name": "stdout",
     "output_type": "stream",
     "text": [
      "#### PROCESSING Non-singlet modest-cluster RFAM: RF03079, /home/ubuntu/datasets/alignments/mini_Rfam/final_split_by_model/RF03079_final.fa\n",
      "## N_seqs: 50\n",
      "## N_seqs: 50\n",
      "## N_seqs: 50\n"
     ]
    },
    {
     "name": "stderr",
     "output_type": "stream",
     "text": [
      "[INFO]\u001b[0m 50 patterns loaded from file\n",
      "[INFO]\u001b[0m 486 patterns loaded from file\n"
     ]
    },
    {
     "name": "stdout",
     "output_type": "stream",
     "text": [
      "#### PROCESSING Non-singlet modest-cluster RFAM: RF01693, /home/ubuntu/datasets/alignments/mini_Rfam/final_split_by_model/RF01693_final.fa\n",
      "## N_seqs: 486\n",
      "## N_seqs: 486\n",
      "## N_seqs: 486\n"
     ]
    },
    {
     "name": "stderr",
     "output_type": "stream",
     "text": [
      "[INFO]\u001b[0m 486 patterns loaded from file\n",
      "[INFO]\u001b[0m 284 patterns loaded from file\n"
     ]
    },
    {
     "name": "stdout",
     "output_type": "stream",
     "text": [
      "#### PROCESSING Non-singlet modest-cluster RFAM: RF03000, /home/ubuntu/datasets/alignments/mini_Rfam/final_split_by_model/RF03000_final.fa\n",
      "## N_seqs: 284\n",
      "## N_seqs: 284\n",
      "## N_seqs: 284\n"
     ]
    },
    {
     "name": "stderr",
     "output_type": "stream",
     "text": [
      "[INFO]\u001b[0m 284 patterns loaded from file\n",
      "[INFO]\u001b[0m 8 patterns loaded from file\n",
      "[INFO]\u001b[0m 8 patterns loaded from file\n"
     ]
    },
    {
     "name": "stdout",
     "output_type": "stream",
     "text": [
      "#### PROCESSING Non-singlet modest-cluster RFAM: RF02962, /home/ubuntu/datasets/alignments/mini_Rfam/final_split_by_model/RF02962_final.fa\n",
      "## N_seqs: 8\n",
      "## N_seqs: 8\n",
      "## N_seqs: 8\n",
      "#### PROCESSING Non-singlet modest-cluster RFAM: RF01675, /home/ubuntu/datasets/alignments/mini_Rfam/final_split_by_model/RF01675_final.fa\n",
      "## N_seqs: 7\n",
      "## N_seqs: 7\n"
     ]
    },
    {
     "name": "stderr",
     "output_type": "stream",
     "text": [
      "[INFO]\u001b[0m 7 patterns loaded from file\n",
      "[INFO]\u001b[0m 7 patterns loaded from file\n"
     ]
    },
    {
     "name": "stdout",
     "output_type": "stream",
     "text": [
      "## N_seqs: 7\n",
      "#### PROCESSING Non-singlet modest-cluster RFAM: RF01396, /home/ubuntu/datasets/alignments/mini_Rfam/final_split_by_model/RF01396_final.fa\n",
      "## N_seqs: 70\n",
      "## N_seqs: 70\n"
     ]
    },
    {
     "name": "stderr",
     "output_type": "stream",
     "text": [
      "[INFO]\u001b[0m 70 patterns loaded from file\n",
      "[INFO]\u001b[0m 70 patterns loaded from file\n"
     ]
    },
    {
     "name": "stdout",
     "output_type": "stream",
     "text": [
      "## N_seqs: 70\n",
      "#### PROCESSING Non-singlet modest-cluster RFAM: RF02449, /home/ubuntu/datasets/alignments/mini_Rfam/final_split_by_model/RF02449_final.fa\n",
      "## N_seqs: 11\n",
      "## N_seqs: 11\n",
      "## N_seqs: 11\n"
     ]
    },
    {
     "name": "stderr",
     "output_type": "stream",
     "text": [
      "[INFO]\u001b[0m 11 patterns loaded from file\n",
      "[INFO]\u001b[0m 11 patterns loaded from file\n"
     ]
    },
    {
     "name": "stdout",
     "output_type": "stream",
     "text": [
      "#### PROCESSING Non-singlet modest-cluster RFAM: RF00379, /home/ubuntu/datasets/alignments/mini_Rfam/final_split_by_model/RF00379_final.fa\n",
      "## N_seqs: 5528\n",
      "## N_seqs: 5528\n",
      "## N_seqs: 5528\n"
     ]
    },
    {
     "name": "stderr",
     "output_type": "stream",
     "text": [
      "[INFO]\u001b[0m 5528 patterns loaded from file\n",
      "[INFO]\u001b[0m 5528 patterns loaded from file\n"
     ]
    },
    {
     "name": "stdout",
     "output_type": "stream",
     "text": [
      "#### PROCESSING Non-singlet modest-cluster RFAM: RF02001, /home/ubuntu/datasets/alignments/mini_Rfam/final_split_by_model/RF02001_final.fa\n",
      "## N_seqs: 4434\n",
      "## N_seqs: 4434\n",
      "## N_seqs: 4434\n"
     ]
    },
    {
     "name": "stderr",
     "output_type": "stream",
     "text": [
      "[INFO]\u001b[0m 4434 patterns loaded from file\n",
      "[INFO]\u001b[0m 4434 patterns loaded from file\n"
     ]
    },
    {
     "name": "stdout",
     "output_type": "stream",
     "text": [
      "#### PROCESSING Non-singlet modest-cluster RFAM: RF01851, /home/ubuntu/datasets/alignments/mini_Rfam/final_split_by_model/RF01851_final.fa\n",
      "## N_seqs: 3\n",
      "## N_seqs: 3\n",
      "## N_seqs: 3\n"
     ]
    },
    {
     "name": "stderr",
     "output_type": "stream",
     "text": [
      "[INFO]\u001b[0m 3 patterns loaded from file\n",
      "[INFO]\u001b[0m 3 patterns loaded from file\n"
     ]
    },
    {
     "name": "stdout",
     "output_type": "stream",
     "text": [
      "#### PROCESSING Non-singlet modest-cluster RFAM: RF00168, /home/ubuntu/datasets/alignments/mini_Rfam/final_split_by_model/RF00168_final.fa\n",
      "## N_seqs: 4099\n",
      "## N_seqs: 4099\n",
      "## N_seqs: 4099\n"
     ]
    },
    {
     "name": "stderr",
     "output_type": "stream",
     "text": [
      "[INFO]\u001b[0m 4099 patterns loaded from file\n",
      "[INFO]\u001b[0m 4099 patterns loaded from file\n"
     ]
    },
    {
     "name": "stdout",
     "output_type": "stream",
     "text": [
      "#### PROCESSING Non-singlet modest-cluster RFAM: RF01770, /home/ubuntu/datasets/alignments/mini_Rfam/final_split_by_model/RF01770_final.fa\n",
      "## N_seqs: 2\n",
      "## N_seqs: 2\n",
      "## N_seqs: 2\n"
     ]
    },
    {
     "name": "stderr",
     "output_type": "stream",
     "text": [
      "[INFO]\u001b[0m 2 patterns loaded from file\n",
      "[INFO]\u001b[0m 2 patterns loaded from file\n"
     ]
    },
    {
     "name": "stdout",
     "output_type": "stream",
     "text": [
      "#### PROCESSING Non-singlet modest-cluster RFAM: RF01419, /home/ubuntu/datasets/alignments/mini_Rfam/final_split_by_model/RF01419_final.fa\n",
      "## N_seqs: 227\n",
      "## N_seqs: 227\n",
      "## N_seqs: 227\n"
     ]
    },
    {
     "name": "stderr",
     "output_type": "stream",
     "text": [
      "[INFO]\u001b[0m 227 patterns loaded from file\n",
      "[INFO]\u001b[0m 227 patterns loaded from file\n"
     ]
    },
    {
     "name": "stdout",
     "output_type": "stream",
     "text": [
      "#### PROCESSING Non-singlet modest-cluster RFAM: RF04182, /home/ubuntu/datasets/alignments/mini_Rfam/final_split_by_model/RF04182_final.fa\n",
      "## N_seqs: 10\n",
      "## N_seqs: 10\n",
      "## N_seqs: 10\n"
     ]
    },
    {
     "name": "stderr",
     "output_type": "stream",
     "text": [
      "[INFO]\u001b[0m 10 patterns loaded from file\n",
      "[INFO]\u001b[0m 10 patterns loaded from file\n",
      "[INFO]\u001b[0m 2 patterns loaded from file\n"
     ]
    },
    {
     "name": "stdout",
     "output_type": "stream",
     "text": [
      "#### PROCESSING Non-singlet modest-cluster RFAM: RF01752, /home/ubuntu/datasets/alignments/mini_Rfam/final_split_by_model/RF01752_final.fa\n",
      "## N_seqs: 2\n",
      "## N_seqs: 2\n",
      "## N_seqs: 2\n",
      "#### PROCESSING Non-singlet modest-cluster RFAM: RF02076, /home/ubuntu/datasets/alignments/mini_Rfam/final_split_by_model/RF02076_final.fa\n"
     ]
    },
    {
     "name": "stderr",
     "output_type": "stream",
     "text": [
      "[INFO]\u001b[0m 2 patterns loaded from file\n",
      "[INFO]\u001b[0m 37 patterns loaded from file\n",
      "[INFO]\u001b[0m 37 patterns loaded from file\n"
     ]
    },
    {
     "name": "stdout",
     "output_type": "stream",
     "text": [
      "## N_seqs: 37\n",
      "## N_seqs: 37\n",
      "## N_seqs: 37\n",
      "#### PROCESSING Non-singlet modest-cluster RFAM: RF00195, /home/ubuntu/datasets/alignments/mini_Rfam/final_split_by_model/RF00195_final.fa\n",
      "## N_seqs: 31\n",
      "## N_seqs: 31\n"
     ]
    },
    {
     "name": "stderr",
     "output_type": "stream",
     "text": [
      "[INFO]\u001b[0m 31 patterns loaded from file\n",
      "[INFO]\u001b[0m 31 patterns loaded from file\n"
     ]
    },
    {
     "name": "stdout",
     "output_type": "stream",
     "text": [
      "## N_seqs: 31\n",
      "#### PROCESSING Non-singlet modest-cluster RFAM: RF02032, /home/ubuntu/datasets/alignments/mini_Rfam/final_split_by_model/RF02032_final.fa\n",
      "## N_seqs: 29\n",
      "## N_seqs: 29\n"
     ]
    },
    {
     "name": "stderr",
     "output_type": "stream",
     "text": [
      "[INFO]\u001b[0m 29 patterns loaded from file\n",
      "[INFO]\u001b[0m 29 patterns loaded from file\n",
      "[INFO]\u001b[0m 13 patterns loaded from file\n"
     ]
    },
    {
     "name": "stdout",
     "output_type": "stream",
     "text": [
      "## N_seqs: 29\n",
      "#### PROCESSING Non-singlet modest-cluster RFAM: RF03022, /home/ubuntu/datasets/alignments/mini_Rfam/final_split_by_model/RF03022_final.fa\n",
      "## N_seqs: 13\n",
      "## N_seqs: 13\n",
      "## N_seqs: 13\n"
     ]
    },
    {
     "name": "stderr",
     "output_type": "stream",
     "text": [
      "[INFO]\u001b[0m 13 patterns loaded from file\n",
      "[INFO]\u001b[0m 3 patterns loaded from file\n"
     ]
    },
    {
     "name": "stdout",
     "output_type": "stream",
     "text": [
      "#### PROCESSING Non-singlet modest-cluster RFAM: RF02966, /home/ubuntu/datasets/alignments/mini_Rfam/final_split_by_model/RF02966_final.fa\n",
      "## N_seqs: 3\n",
      "## N_seqs: 3\n",
      "## N_seqs: 3\n"
     ]
    },
    {
     "name": "stderr",
     "output_type": "stream",
     "text": [
      "[INFO]\u001b[0m 3 patterns loaded from file\n",
      "[INFO]\u001b[0m 4 patterns loaded from file\n",
      "[INFO]\u001b[0m 4 patterns loaded from file\n"
     ]
    },
    {
     "name": "stdout",
     "output_type": "stream",
     "text": [
      "#### PROCESSING Non-singlet modest-cluster RFAM: RF02957, /home/ubuntu/datasets/alignments/mini_Rfam/final_split_by_model/RF02957_final.fa\n",
      "## N_seqs: 4\n",
      "## N_seqs: 4\n",
      "## N_seqs: 4\n",
      "#### PROCESSING Non-singlet modest-cluster RFAM: RF02005, /home/ubuntu/datasets/alignments/mini_Rfam/final_split_by_model/RF02005_final.fa\n",
      "## N_seqs: 2309\n",
      "## N_seqs: 2309\n",
      "## N_seqs: 2309\n"
     ]
    },
    {
     "name": "stderr",
     "output_type": "stream",
     "text": [
      "[INFO]\u001b[0m 2309 patterns loaded from file\n",
      "[INFO]\u001b[0m 2309 patterns loaded from file\n"
     ]
    },
    {
     "name": "stdout",
     "output_type": "stream",
     "text": [
      "#### PROCESSING Non-singlet modest-cluster RFAM: RF03019, /home/ubuntu/datasets/alignments/mini_Rfam/final_split_by_model/RF03019_final.fa\n",
      "## N_seqs: 26\n",
      "## N_seqs: 26\n",
      "## N_seqs: 26\n",
      "#### PROCESSING Non-singlet modest-cluster RFAM: RF02920, /home/ubuntu/datasets/alignments/mini_Rfam/final_split_by_model/RF02920_final.fa\n"
     ]
    },
    {
     "name": "stderr",
     "output_type": "stream",
     "text": [
      "[INFO]\u001b[0m 26 patterns loaded from file\n",
      "[INFO]\u001b[0m 26 patterns loaded from file\n"
     ]
    },
    {
     "name": "stdout",
     "output_type": "stream",
     "text": [
      "## N_seqs: 7\n",
      "## N_seqs: 7\n",
      "## N_seqs: 7\n"
     ]
    },
    {
     "name": "stderr",
     "output_type": "stream",
     "text": [
      "[INFO]\u001b[0m 7 patterns loaded from file\n",
      "[INFO]\u001b[0m 7 patterns loaded from file\n"
     ]
    },
    {
     "name": "stdout",
     "output_type": "stream",
     "text": [
      "#### PROCESSING Non-singlet modest-cluster RFAM: RF03532, /home/ubuntu/datasets/alignments/mini_Rfam/final_split_by_model/RF03532_final.fa\n",
      "## N_seqs: 10\n",
      "## N_seqs: 10\n",
      "## N_seqs: 10\n",
      "#### PROCESSING Non-singlet modest-cluster RFAM: RF00625, /home/ubuntu/datasets/alignments/mini_Rfam/final_split_by_model/RF00625_final.fa\n"
     ]
    },
    {
     "name": "stderr",
     "output_type": "stream",
     "text": [
      "[INFO]\u001b[0m 10 patterns loaded from file\n",
      "[INFO]\u001b[0m 10 patterns loaded from file\n",
      "[INFO]\u001b[0m 85 patterns loaded from file\n"
     ]
    },
    {
     "name": "stdout",
     "output_type": "stream",
     "text": [
      "## N_seqs: 85\n",
      "## N_seqs: 85\n",
      "## N_seqs: 85\n",
      "#### PROCESSING Non-singlet modest-cluster RFAM: RF01732, /home/ubuntu/datasets/alignments/mini_Rfam/final_split_by_model/RF01732_final.fa\n",
      "## N_seqs: 6\n",
      "## N_seqs: 6\n"
     ]
    },
    {
     "name": "stderr",
     "output_type": "stream",
     "text": [
      "[INFO]\u001b[0m 85 patterns loaded from file\n",
      "[INFO]\u001b[0m 6 patterns loaded from file\n"
     ]
    },
    {
     "name": "stdout",
     "output_type": "stream",
     "text": [
      "## N_seqs: 6\n",
      "#### PROCESSING Non-singlet modest-cluster RFAM: RF03037, /home/ubuntu/datasets/alignments/mini_Rfam/final_split_by_model/RF03037_final.fa\n",
      "## N_seqs: 11\n",
      "## N_seqs: 11\n"
     ]
    },
    {
     "name": "stderr",
     "output_type": "stream",
     "text": [
      "[INFO]\u001b[0m 6 patterns loaded from file\n",
      "[INFO]\u001b[0m 11 patterns loaded from file\n"
     ]
    },
    {
     "name": "stdout",
     "output_type": "stream",
     "text": [
      "## N_seqs: 11\n",
      "#### PROCESSING Non-singlet modest-cluster RFAM: RF02344, /home/ubuntu/datasets/alignments/mini_Rfam/final_split_by_model/RF02344_final.fa\n",
      "## N_seqs: 1089\n",
      "## N_seqs: 1089\n"
     ]
    },
    {
     "name": "stderr",
     "output_type": "stream",
     "text": [
      "[INFO]\u001b[0m 11 patterns loaded from file\n",
      "[INFO]\u001b[0m 1089 patterns loaded from file\n"
     ]
    },
    {
     "name": "stdout",
     "output_type": "stream",
     "text": [
      "## N_seqs: 1089\n",
      "#### PROCESSING Non-singlet modest-cluster RFAM: RF02452, /home/ubuntu/datasets/alignments/mini_Rfam/final_split_by_model/RF02452_final.fa\n",
      "## N_seqs: 17\n",
      "## N_seqs: 17\n"
     ]
    },
    {
     "name": "stderr",
     "output_type": "stream",
     "text": [
      "[INFO]\u001b[0m 1089 patterns loaded from file\n",
      "[INFO]\u001b[0m 17 patterns loaded from file\n"
     ]
    },
    {
     "name": "stdout",
     "output_type": "stream",
     "text": [
      "## N_seqs: 17\n",
      "#### PROCESSING Non-singlet modest-cluster RFAM: RF03028, /home/ubuntu/datasets/alignments/mini_Rfam/final_split_by_model/RF03028_final.fa\n",
      "## N_seqs: 11\n",
      "## N_seqs: 11\n"
     ]
    },
    {
     "name": "stderr",
     "output_type": "stream",
     "text": [
      "[INFO]\u001b[0m 17 patterns loaded from file\n",
      "[INFO]\u001b[0m 11 patterns loaded from file\n"
     ]
    },
    {
     "name": "stdout",
     "output_type": "stream",
     "text": [
      "## N_seqs: 11\n",
      "#### PROCESSING Non-singlet modest-cluster RFAM: RF00634, /home/ubuntu/datasets/alignments/mini_Rfam/final_split_by_model/RF00634_final.fa\n",
      "## N_seqs: 726\n",
      "## N_seqs: 726\n"
     ]
    },
    {
     "name": "stderr",
     "output_type": "stream",
     "text": [
      "[INFO]\u001b[0m 11 patterns loaded from file\n",
      "[INFO]\u001b[0m 726 patterns loaded from file\n"
     ]
    },
    {
     "name": "stdout",
     "output_type": "stream",
     "text": [
      "## N_seqs: 726\n",
      "#### PROCESSING Non-singlet modest-cluster RFAM: RF00391, /home/ubuntu/datasets/alignments/mini_Rfam/final_split_by_model/RF00391_final.fa\n",
      "## N_seqs: 603\n",
      "## N_seqs: 603\n"
     ]
    },
    {
     "name": "stderr",
     "output_type": "stream",
     "text": [
      "[INFO]\u001b[0m 726 patterns loaded from file\n",
      "[INFO]\u001b[0m 603 patterns loaded from file\n"
     ]
    },
    {
     "name": "stdout",
     "output_type": "stream",
     "text": [
      "## N_seqs: 603\n",
      "#### PROCESSING Non-singlet modest-cluster RFAM: RF03046, /home/ubuntu/datasets/alignments/mini_Rfam/final_split_by_model/RF03046_final.fa\n",
      "## N_seqs: 21\n",
      "## N_seqs: 21\n"
     ]
    },
    {
     "name": "stderr",
     "output_type": "stream",
     "text": [
      "[INFO]\u001b[0m 603 patterns loaded from file\n",
      "[INFO]\u001b[0m 21 patterns loaded from file\n"
     ]
    },
    {
     "name": "stdout",
     "output_type": "stream",
     "text": [
      "## N_seqs: 21\n",
      "#### PROCESSING Non-singlet modest-cluster RFAM: RF00373, /home/ubuntu/datasets/alignments/mini_Rfam/final_split_by_model/RF00373_final.fa\n",
      "## N_seqs: 746\n",
      "## N_seqs: 746\n"
     ]
    },
    {
     "name": "stderr",
     "output_type": "stream",
     "text": [
      "[INFO]\u001b[0m 21 patterns loaded from file\n",
      "[INFO]\u001b[0m 746 patterns loaded from file\n"
     ]
    },
    {
     "name": "stdout",
     "output_type": "stream",
     "text": [
      "## N_seqs: 746\n",
      "#### PROCESSING Non-singlet modest-cluster RFAM: RF01794, /home/ubuntu/datasets/alignments/mini_Rfam/final_split_by_model/RF01794_final.fa\n",
      "## N_seqs: 198\n",
      "## N_seqs: 198\n"
     ]
    },
    {
     "name": "stderr",
     "output_type": "stream",
     "text": [
      "[INFO]\u001b[0m 746 patterns loaded from file\n",
      "[INFO]\u001b[0m 198 patterns loaded from file\n"
     ]
    },
    {
     "name": "stdout",
     "output_type": "stream",
     "text": [
      "## N_seqs: 198\n",
      "#### PROCESSING Non-singlet modest-cluster RFAM: RF00230, /home/ubuntu/datasets/alignments/mini_Rfam/final_split_by_model/RF00230_final.fa\n"
     ]
    },
    {
     "name": "stderr",
     "output_type": "stream",
     "text": [
      "[INFO]\u001b[0m 198 patterns loaded from file\n"
     ]
    },
    {
     "name": "stdout",
     "output_type": "stream",
     "text": [
      "~~~~Skipping: RF00230\n",
      "#### PROCESSING Non-singlet modest-cluster RFAM: RF02012, /home/ubuntu/datasets/alignments/mini_Rfam/final_split_by_model/RF02012_final.fa\n",
      "## N_seqs: 433\n",
      "## N_seqs: 433\n",
      "## N_seqs: 433\n"
     ]
    },
    {
     "name": "stderr",
     "output_type": "stream",
     "text": [
      "[INFO]\u001b[0m 433 patterns loaded from file\n",
      "[INFO]\u001b[0m 433 patterns loaded from file\n"
     ]
    },
    {
     "name": "stdout",
     "output_type": "stream",
     "text": [
      "#### PROCESSING Non-singlet modest-cluster RFAM: RF02469, /home/ubuntu/datasets/alignments/mini_Rfam/final_split_by_model/RF02469_final.fa\n",
      "## N_seqs: 132\n",
      "## N_seqs: 132\n",
      "## N_seqs: 132\n"
     ]
    },
    {
     "name": "stderr",
     "output_type": "stream",
     "text": [
      "[INFO]\u001b[0m 132 patterns loaded from file\n",
      "[INFO]\u001b[0m 132 patterns loaded from file\n"
     ]
    },
    {
     "name": "stdout",
     "output_type": "stream",
     "text": [
      "#### PROCESSING Non-singlet modest-cluster RFAM: RF00050, /home/ubuntu/datasets/alignments/mini_Rfam/final_split_by_model/RF00050_final.fa\n",
      "## N_seqs: 4499\n",
      "## N_seqs: 4499\n",
      "## N_seqs: 4499\n"
     ]
    },
    {
     "name": "stderr",
     "output_type": "stream",
     "text": [
      "[INFO]\u001b[0m 4499 patterns loaded from file\n",
      "[INFO]\u001b[0m 4499 patterns loaded from file\n"
     ]
    },
    {
     "name": "stdout",
     "output_type": "stream",
     "text": [
      "#### PROCESSING Non-singlet modest-cluster RFAM: RF01497, /home/ubuntu/datasets/alignments/mini_Rfam/final_split_by_model/RF01497_final.fa\n",
      "## N_seqs: 637\n",
      "## N_seqs: 637\n",
      "## N_seqs: 637\n"
     ]
    },
    {
     "name": "stderr",
     "output_type": "stream",
     "text": [
      "[INFO]\u001b[0m 637 patterns loaded from file\n",
      "[INFO]\u001b[0m 637 patterns loaded from file\n"
     ]
    },
    {
     "name": "stdout",
     "output_type": "stream",
     "text": [
      "#### PROCESSING Non-singlet modest-cluster RFAM: RF02111, /home/ubuntu/datasets/alignments/mini_Rfam/final_split_by_model/RF02111_final.fa\n",
      "## N_seqs: 32\n",
      "## N_seqs: 32\n",
      "## N_seqs: 32\n",
      "#### PROCESSING Non-singlet modest-cluster RFAM: RF02030, /home/ubuntu/datasets/alignments/mini_Rfam/final_split_by_model/RF02030_final.fa\n"
     ]
    },
    {
     "name": "stderr",
     "output_type": "stream",
     "text": [
      "[INFO]\u001b[0m 32 patterns loaded from file\n",
      "[INFO]\u001b[0m 32 patterns loaded from file\n",
      "[INFO]\u001b[0m 70 patterns loaded from file\n"
     ]
    },
    {
     "name": "stdout",
     "output_type": "stream",
     "text": [
      "## N_seqs: 70\n",
      "## N_seqs: 70\n",
      "## N_seqs: 70\n"
     ]
    },
    {
     "name": "stderr",
     "output_type": "stream",
     "text": [
      "[INFO]\u001b[0m 70 patterns loaded from file\n",
      "[INFO]\u001b[0m 446 patterns loaded from file\n"
     ]
    },
    {
     "name": "stdout",
     "output_type": "stream",
     "text": [
      "#### PROCESSING Non-singlet modest-cluster RFAM: RF01857, /home/ubuntu/datasets/alignments/mini_Rfam/final_split_by_model/RF01857_final.fa\n",
      "## N_seqs: 446\n",
      "## N_seqs: 446\n",
      "## N_seqs: 446\n"
     ]
    },
    {
     "name": "stderr",
     "output_type": "stream",
     "text": [
      "[INFO]\u001b[0m 446 patterns loaded from file\n",
      "[INFO]\u001b[0m 7 patterns loaded from file\n"
     ]
    },
    {
     "name": "stdout",
     "output_type": "stream",
     "text": [
      "#### PROCESSING Non-singlet modest-cluster RFAM: RF02496, /home/ubuntu/datasets/alignments/mini_Rfam/final_split_by_model/RF02496_final.fa\n",
      "## N_seqs: 7\n",
      "## N_seqs: 7\n",
      "## N_seqs: 7\n"
     ]
    },
    {
     "name": "stderr",
     "output_type": "stream",
     "text": [
      "[INFO]\u001b[0m 7 patterns loaded from file\n",
      "[INFO]\u001b[0m 8 patterns loaded from file\n"
     ]
    },
    {
     "name": "stdout",
     "output_type": "stream",
     "text": [
      "#### PROCESSING Non-singlet modest-cluster RFAM: RF02955, /home/ubuntu/datasets/alignments/mini_Rfam/final_split_by_model/RF02955_final.fa\n",
      "## N_seqs: 8\n",
      "## N_seqs: 8\n",
      "## N_seqs: 8\n"
     ]
    },
    {
     "name": "stderr",
     "output_type": "stream",
     "text": [
      "[INFO]\u001b[0m 8 patterns loaded from file\n",
      "[INFO]\u001b[0m 1204 patterns loaded from file\n"
     ]
    },
    {
     "name": "stdout",
     "output_type": "stream",
     "text": [
      "#### PROCESSING Non-singlet modest-cluster RFAM: RF02003, /home/ubuntu/datasets/alignments/mini_Rfam/final_split_by_model/RF02003_final.fa\n",
      "## N_seqs: 1204\n",
      "## N_seqs: 1204\n",
      "## N_seqs: 1204\n"
     ]
    },
    {
     "name": "stderr",
     "output_type": "stream",
     "text": [
      "[INFO]\u001b[0m 1204 patterns loaded from file\n"
     ]
    },
    {
     "name": "stdout",
     "output_type": "stream",
     "text": [
      "#### PROCESSING Non-singlet modest-cluster RFAM: RF00023, /home/ubuntu/datasets/alignments/mini_Rfam/final_split_by_model/RF00023_final.fa\n",
      "## N_seqs: 14227\n",
      "## N_seqs: 14227\n"
     ]
    },
    {
     "name": "stderr",
     "output_type": "stream",
     "text": [
      "[INFO]\u001b[0m 14227 patterns loaded from file\n"
     ]
    },
    {
     "name": "stdout",
     "output_type": "stream",
     "text": [
      "## N_seqs: 14227\n"
     ]
    },
    {
     "name": "stderr",
     "output_type": "stream",
     "text": [
      "[INFO]\u001b[0m 14227 patterns loaded from file\n"
     ]
    },
    {
     "name": "stdout",
     "output_type": "stream",
     "text": [
      "#### PROCESSING Non-singlet modest-cluster RFAM: RF02960, /home/ubuntu/datasets/alignments/mini_Rfam/final_split_by_model/RF02960_final.fa\n",
      "## N_seqs: 26\n",
      "## N_seqs: 26\n",
      "## N_seqs: 26\n"
     ]
    },
    {
     "name": "stderr",
     "output_type": "stream",
     "text": [
      "[INFO]\u001b[0m 26 patterns loaded from file\n",
      "[INFO]\u001b[0m 26 patterns loaded from file\n"
     ]
    },
    {
     "name": "stdout",
     "output_type": "stream",
     "text": [
      "#### PROCESSING Non-singlet modest-cluster RFAM: RF00629, /home/ubuntu/datasets/alignments/mini_Rfam/final_split_by_model/RF00629_final.fa\n",
      "## N_seqs: 12\n",
      "## N_seqs: 12\n",
      "## N_seqs: 12\n"
     ]
    },
    {
     "name": "stderr",
     "output_type": "stream",
     "text": [
      "[INFO]\u001b[0m 12 patterns loaded from file\n",
      "[INFO]\u001b[0m 12 patterns loaded from file\n"
     ]
    },
    {
     "name": "stdout",
     "output_type": "stream",
     "text": [
      "#### PROCESSING Non-singlet modest-cluster RFAM: RF01754, /home/ubuntu/datasets/alignments/mini_Rfam/final_split_by_model/RF01754_final.fa\n",
      "## N_seqs: 296\n",
      "## N_seqs: 296\n",
      "## N_seqs: 296\n"
     ]
    },
    {
     "name": "stderr",
     "output_type": "stream",
     "text": [
      "[INFO]\u001b[0m 296 patterns loaded from file\n",
      "[INFO]\u001b[0m 296 patterns loaded from file\n"
     ]
    },
    {
     "name": "stdout",
     "output_type": "stream",
     "text": [
      "#### PROCESSING Non-singlet modest-cluster RFAM: RF01673, /home/ubuntu/datasets/alignments/mini_Rfam/final_split_by_model/RF01673_final.fa\n",
      "## N_seqs: 56\n",
      "## N_seqs: 56\n",
      "## N_seqs: 56\n"
     ]
    },
    {
     "name": "stderr",
     "output_type": "stream",
     "text": [
      "[INFO]\u001b[0m 56 patterns loaded from file\n",
      "[INFO]\u001b[0m 56 patterns loaded from file\n"
     ]
    },
    {
     "name": "stdout",
     "output_type": "stream",
     "text": [
      "#### PROCESSING Non-singlet modest-cluster RFAM: RF01718, /home/ubuntu/datasets/alignments/mini_Rfam/final_split_by_model/RF01718_final.fa\n",
      "## N_seqs: 2\n",
      "## N_seqs: 2\n",
      "## N_seqs: 2\n"
     ]
    },
    {
     "name": "stderr",
     "output_type": "stream",
     "text": [
      "[INFO]\u001b[0m 2 patterns loaded from file\n",
      "[INFO]\u001b[0m 2 patterns loaded from file\n"
     ]
    },
    {
     "name": "stdout",
     "output_type": "stream",
     "text": [
      "#### PROCESSING Non-singlet modest-cluster RFAM: RF00010, /home/ubuntu/datasets/alignments/mini_Rfam/final_split_by_model/RF00010_final.fa\n",
      "~~~~Skipping: RF00010\n",
      "#### PROCESSING Non-singlet modest-cluster RFAM: RF03077, /home/ubuntu/datasets/alignments/mini_Rfam/final_split_by_model/RF03077_final.fa\n",
      "## N_seqs: 62\n",
      "## N_seqs: 62\n",
      "## N_seqs: 62\n"
     ]
    },
    {
     "name": "stderr",
     "output_type": "stream",
     "text": [
      "[INFO]\u001b[0m 62 patterns loaded from file\n",
      "[INFO]\u001b[0m 62 patterns loaded from file\n"
     ]
    },
    {
     "name": "stdout",
     "output_type": "stream",
     "text": [
      "#### PROCESSING Non-singlet modest-cluster RFAM: RF02942, /home/ubuntu/datasets/alignments/mini_Rfam/final_split_by_model/RF02942_final.fa\n",
      "## N_seqs: 2\n",
      "## N_seqs: 2\n",
      "## N_seqs: 2\n"
     ]
    },
    {
     "name": "stderr",
     "output_type": "stream",
     "text": [
      "[INFO]\u001b[0m 2 patterns loaded from file\n",
      "[INFO]\u001b[0m 2 patterns loaded from file\n"
     ]
    },
    {
     "name": "stdout",
     "output_type": "stream",
     "text": [
      "#### PROCESSING Non-singlet modest-cluster RFAM: RF03068, /home/ubuntu/datasets/alignments/mini_Rfam/final_split_by_model/RF03068_final.fa\n",
      "## N_seqs: 15\n",
      "## N_seqs: 15\n",
      "## N_seqs: 15\n"
     ]
    },
    {
     "name": "stderr",
     "output_type": "stream",
     "text": [
      "[INFO]\u001b[0m 15 patterns loaded from file\n",
      "[INFO]\u001b[0m 15 patterns loaded from file\n"
     ]
    },
    {
     "name": "stdout",
     "output_type": "stream",
     "text": [
      "#### PROCESSING Non-singlet modest-cluster RFAM: RF00557, /home/ubuntu/datasets/alignments/mini_Rfam/final_split_by_model/RF00557_final.fa\n",
      "## N_seqs: 1099\n",
      "## N_seqs: 1099\n",
      "## N_seqs: 1099\n"
     ]
    },
    {
     "name": "stderr",
     "output_type": "stream",
     "text": [
      "[INFO]\u001b[0m 1099 patterns loaded from file\n",
      "[INFO]\u001b[0m 1099 patterns loaded from file\n"
     ]
    },
    {
     "name": "stdout",
     "output_type": "stream",
     "text": [
      "#### PROCESSING Non-singlet modest-cluster RFAM: RF01808, /home/ubuntu/datasets/alignments/mini_Rfam/final_split_by_model/RF01808_final.fa\n",
      "## N_seqs: 38\n",
      "## N_seqs: 38\n",
      "## N_seqs: 38\n"
     ]
    },
    {
     "name": "stderr",
     "output_type": "stream",
     "text": [
      "[INFO]\u001b[0m 38 patterns loaded from file\n",
      "[INFO]\u001b[0m 38 patterns loaded from file\n"
     ]
    },
    {
     "name": "stdout",
     "output_type": "stream",
     "text": [
      "#### PROCESSING Non-singlet modest-cluster RFAM: RF01745, /home/ubuntu/datasets/alignments/mini_Rfam/final_split_by_model/RF01745_final.fa\n",
      "## N_seqs: 1\n",
      "## N_seqs: 1\n",
      "## N_seqs: 1\n"
     ]
    },
    {
     "name": "stderr",
     "output_type": "stream",
     "text": [
      "[INFO]\u001b[0m 1 patterns loaded from file\n",
      "[INFO]\u001b[0m 1 patterns loaded from file\n"
     ]
    },
    {
     "name": "stdout",
     "output_type": "stream",
     "text": [
      "#### PROCESSING Non-singlet modest-cluster RFAM: RF02951, /home/ubuntu/datasets/alignments/mini_Rfam/final_split_by_model/RF02951_final.fa\n",
      "## N_seqs: 35\n",
      "## N_seqs: 35\n",
      "## N_seqs: 35\n"
     ]
    },
    {
     "name": "stderr",
     "output_type": "stream",
     "text": [
      "[INFO]\u001b[0m 35 patterns loaded from file\n",
      "[INFO]\u001b[0m 35 patterns loaded from file\n"
     ]
    },
    {
     "name": "stdout",
     "output_type": "stream",
     "text": [
      "#### PROCESSING Non-singlet modest-cluster RFAM: RF00234, /home/ubuntu/datasets/alignments/mini_Rfam/final_split_by_model/RF00234_final.fa\n",
      "## N_seqs: 1213\n",
      "## N_seqs: 1213\n",
      "## N_seqs: 1213\n"
     ]
    },
    {
     "name": "stderr",
     "output_type": "stream",
     "text": [
      "[INFO]\u001b[0m 1213 patterns loaded from file\n",
      "[INFO]\u001b[0m 1213 patterns loaded from file\n"
     ]
    },
    {
     "name": "stdout",
     "output_type": "stream",
     "text": [
      "#### PROCESSING Non-singlet modest-cluster RFAM: RF00513, /home/ubuntu/datasets/alignments/mini_Rfam/final_split_by_model/RF00513_final.fa\n",
      "## N_seqs: 62\n",
      "## N_seqs: 62\n",
      "## N_seqs: 62\n"
     ]
    },
    {
     "name": "stderr",
     "output_type": "stream",
     "text": [
      "[INFO]\u001b[0m 62 patterns loaded from file\n",
      "[INFO]\u001b[0m 62 patterns loaded from file\n"
     ]
    },
    {
     "name": "stdout",
     "output_type": "stream",
     "text": [
      "#### PROCESSING Non-singlet modest-cluster RFAM: RF01699, /home/ubuntu/datasets/alignments/mini_Rfam/final_split_by_model/RF01699_final.fa\n",
      "~~~~Skipping: RF01699\n",
      "#### PROCESSING Non-singlet modest-cluster RFAM: RF02986, /home/ubuntu/datasets/alignments/mini_Rfam/final_split_by_model/RF02986_final.fa\n",
      "## N_seqs: 22\n",
      "## N_seqs: 22\n",
      "## N_seqs: 22\n"
     ]
    },
    {
     "name": "stderr",
     "output_type": "stream",
     "text": [
      "[INFO]\u001b[0m 22 patterns loaded from file\n",
      "[INFO]\u001b[0m 22 patterns loaded from file\n"
     ]
    },
    {
     "name": "stdout",
     "output_type": "stream",
     "text": [
      "#### PROCESSING Non-singlet modest-cluster RFAM: RF00018, /home/ubuntu/datasets/alignments/mini_Rfam/final_split_by_model/RF00018_final.fa\n",
      "## N_seqs: 2\n",
      "## N_seqs: 2\n",
      "## N_seqs: 2\n"
     ]
    },
    {
     "name": "stderr",
     "output_type": "stream",
     "text": [
      "[INFO]\u001b[0m 2 patterns loaded from file\n",
      "[INFO]\u001b[0m 2 patterns loaded from file\n"
     ]
    },
    {
     "name": "stdout",
     "output_type": "stream",
     "text": [
      "#### PROCESSING Non-singlet modest-cluster RFAM: RF00162, /home/ubuntu/datasets/alignments/mini_Rfam/final_split_by_model/RF00162_final.fa\n",
      "~~~~Skipping: RF00162\n",
      "#### PROCESSING Non-singlet modest-cluster RFAM: RF02502, /home/ubuntu/datasets/alignments/mini_Rfam/final_split_by_model/RF02502_final.fa\n",
      "~~~~Skipping: RF02502\n",
      "!!!! TOKENS BEFORE SINGLETS: 30800847\n",
      "#### PROCESSING SINGLET RFAM: RF00166, /home/ubuntu/datasets/alignments/mini_Rfam/final_split_by_model/RF00166_final.fa\n",
      "RF00166 106411\n",
      "~~~~Skipping: RF00166\n",
      "#### PROCESSING SINGLET RFAM: RF00111, /home/ubuntu/datasets/alignments/mini_Rfam/final_split_by_model/RF00111_final.fa\n",
      "RF00111 22889\n",
      "~~~~Skipping: RF00111\n",
      "#### PROCESSING SINGLET RFAM: RF00444, /home/ubuntu/datasets/alignments/mini_Rfam/final_split_by_model/RF00444_final.fa\n",
      "RF00444 221531\n",
      "~~~~Skipping: RF00444\n",
      "#### PROCESSING SINGLET RFAM: RF02422, /home/ubuntu/datasets/alignments/mini_Rfam/final_split_by_model/RF02422_final.fa\n",
      "RF02422 50199\n",
      "~~~~Skipping: RF02422\n",
      "#### PROCESSING SINGLET RFAM: RF02422, /home/ubuntu/datasets/alignments/mini_Rfam/final_split_by_model/RF02422_final.fa\n",
      "RF02422 50199\n",
      "~~~~Skipping: RF02422\n",
      "#### PROCESSING SINGLET RFAM: RF02100, /home/ubuntu/datasets/alignments/mini_Rfam/final_split_by_model/RF02100_final.fa\n",
      "RF02100 18669\n",
      "~~~~Skipping: RF02100\n",
      "#### PROCESSING SINGLET RFAM: RF04192, /home/ubuntu/datasets/alignments/mini_Rfam/final_split_by_model/RF04192_final.fa\n",
      "RF04192 21870\n",
      "~~~~Skipping: RF04192\n",
      "#### PROCESSING SINGLET RFAM: RF01723, /home/ubuntu/datasets/alignments/mini_Rfam/final_split_by_model/RF01723_final.fa\n",
      "RF01723 23892\n",
      "~~~~Skipping: RF01723\n",
      "#### PROCESSING SINGLET RFAM: RF01796, /home/ubuntu/datasets/alignments/mini_Rfam/final_split_by_model/RF01796_final.fa\n",
      "RF01796 62127\n",
      "~~~~Skipping: RF01796\n",
      "#### PROCESSING SINGLET RFAM: RF02144, /home/ubuntu/datasets/alignments/mini_Rfam/final_split_by_model/RF02144_final.fa\n",
      "RF02144 90843\n",
      "~~~~Skipping: RF02144\n",
      "#### PROCESSING SINGLET RFAM: RF02422, /home/ubuntu/datasets/alignments/mini_Rfam/final_split_by_model/RF02422_final.fa\n",
      "RF02422 50199\n",
      "~~~~Skipping: RF02422\n",
      "#### PROCESSING SINGLET RFAM: RF02437, /home/ubuntu/datasets/alignments/mini_Rfam/final_split_by_model/RF02437_final.fa\n",
      "RF02437 18631\n",
      "~~~~Skipping: RF02437\n",
      "#### PROCESSING SINGLET RFAM: RF00083, /home/ubuntu/datasets/alignments/mini_Rfam/final_split_by_model/RF00083_final.fa\n",
      "RF00083 115680\n",
      "~~~~Skipping: RF00083\n",
      "#### PROCESSING SINGLET RFAM: RF00111, /home/ubuntu/datasets/alignments/mini_Rfam/final_split_by_model/RF00111_final.fa\n",
      "RF00111 22889\n",
      "~~~~Skipping: RF00111\n",
      "#### PROCESSING SINGLET RFAM: RF00113, /home/ubuntu/datasets/alignments/mini_Rfam/final_split_by_model/RF00113_final.fa\n",
      "RF00113 24816\n",
      "~~~~Skipping: RF00113\n",
      "#### PROCESSING SINGLET RFAM: RF02235, /home/ubuntu/datasets/alignments/mini_Rfam/final_split_by_model/RF02235_final.fa\n",
      "RF02235 39492\n",
      "~~~~Skipping: RF02235\n",
      "#### PROCESSING SINGLET RFAM: RF00503, /home/ubuntu/datasets/alignments/mini_Rfam/final_split_by_model/RF00503_final.fa\n",
      "RF00503 5062\n",
      "## N_seqs: 10\n",
      "## N_seqs: 10\n"
     ]
    },
    {
     "name": "stderr",
     "output_type": "stream",
     "text": [
      "[INFO]\u001b[0m 10 patterns loaded from file\n",
      "[INFO]\u001b[0m 10 patterns loaded from file\n"
     ]
    },
    {
     "name": "stdout",
     "output_type": "stream",
     "text": [
      "## N_seqs: 10\n",
      "#### PROCESSING SINGLET RFAM: RF00113, /home/ubuntu/datasets/alignments/mini_Rfam/final_split_by_model/RF00113_final.fa\n",
      "RF00113 24816\n",
      "~~~~Skipping: RF00113\n",
      "#### PROCESSING SINGLET RFAM: RF02355, /home/ubuntu/datasets/alignments/mini_Rfam/final_split_by_model/RF02355_final.fa\n",
      "RF02355 70401\n",
      "~~~~Skipping: RF02355\n",
      "#### PROCESSING SINGLET RFAM: RF02680, /home/ubuntu/datasets/alignments/mini_Rfam/final_split_by_model/RF02680_final.fa\n",
      "RF02680 9733\n",
      "~~~~Skipping: RF02680\n",
      "#### PROCESSING SINGLET RFAM: RF00378, /home/ubuntu/datasets/alignments/mini_Rfam/final_split_by_model/RF00378_final.fa\n",
      "RF00378 66178\n",
      "~~~~Skipping: RF00378\n",
      "#### PROCESSING SINGLET RFAM: RF02345, /home/ubuntu/datasets/alignments/mini_Rfam/final_split_by_model/RF02345_final.fa\n",
      "RF02345 136783\n",
      "~~~~Skipping: RF02345\n",
      "#### PROCESSING SINGLET RFAM: RF02235, /home/ubuntu/datasets/alignments/mini_Rfam/final_split_by_model/RF02235_final.fa\n",
      "RF02235 39492\n",
      "~~~~Skipping: RF02235\n",
      "#### PROCESSING SINGLET RFAM: RF02356, /home/ubuntu/datasets/alignments/mini_Rfam/final_split_by_model/RF02356_final.fa\n",
      "RF02356 179070\n",
      "~~~~Skipping: RF02356\n",
      "#### PROCESSING SINGLET RFAM: RF00111, /home/ubuntu/datasets/alignments/mini_Rfam/final_split_by_model/RF00111_final.fa\n",
      "RF00111 22889\n",
      "~~~~Skipping: RF00111\n",
      "#### PROCESSING SINGLET RFAM: RF00106, /home/ubuntu/datasets/alignments/mini_Rfam/final_split_by_model/RF00106_final.fa\n",
      "RF00106 35275\n",
      "~~~~Skipping: RF00106\n",
      "#### PROCESSING SINGLET RFAM: RF02424, /home/ubuntu/datasets/alignments/mini_Rfam/final_split_by_model/RF02424_final.fa\n",
      "RF02424 28646\n",
      "~~~~Skipping: RF02424\n",
      "#### PROCESSING SINGLET RFAM: RF02928, /home/ubuntu/datasets/alignments/mini_Rfam/final_split_by_model/RF02928_final.fa\n",
      "RF02928 18827\n",
      "~~~~Skipping: RF02928\n",
      "#### PROCESSING SINGLET RFAM: RF02356, /home/ubuntu/datasets/alignments/mini_Rfam/final_split_by_model/RF02356_final.fa\n",
      "RF02356 179070\n",
      "~~~~Skipping: RF02356\n",
      "#### PROCESSING SINGLET RFAM: RF02434, /home/ubuntu/datasets/alignments/mini_Rfam/final_split_by_model/RF02434_final.fa\n",
      "RF02434 3133\n",
      "~~~~Skipping: RF02434\n",
      "#### PROCESSING SINGLET RFAM: RF03041, /home/ubuntu/datasets/alignments/mini_Rfam/final_split_by_model/RF03041_final.fa\n",
      "RF03041 33109\n",
      "~~~~Skipping: RF03041\n",
      "#### PROCESSING SINGLET RFAM: RF01720, /home/ubuntu/datasets/alignments/mini_Rfam/final_split_by_model/RF01720_final.fa\n",
      "RF01720 67377\n",
      "~~~~Skipping: RF01720\n",
      "#### PROCESSING SINGLET RFAM: RF00021, /home/ubuntu/datasets/alignments/mini_Rfam/final_split_by_model/RF00021_final.fa\n",
      "RF00021 122514\n",
      "~~~~Skipping: RF00021\n",
      "#### PROCESSING SINGLET RFAM: RF02680, /home/ubuntu/datasets/alignments/mini_Rfam/final_split_by_model/RF02680_final.fa\n",
      "RF02680 9733\n",
      "~~~~Skipping: RF02680\n",
      "#### PROCESSING SINGLET RFAM: RF02446, /home/ubuntu/datasets/alignments/mini_Rfam/final_split_by_model/RF02446_final.fa\n",
      "RF02446 21736\n",
      "~~~~Skipping: RF02446\n",
      "#### PROCESSING SINGLET RFAM: RF02982, /home/ubuntu/datasets/alignments/mini_Rfam/final_split_by_model/RF02982_final.fa\n",
      "RF02982 16664\n",
      "~~~~Skipping: RF02982\n",
      "#### PROCESSING SINGLET RFAM: RF00034, /home/ubuntu/datasets/alignments/mini_Rfam/final_split_by_model/RF00034_final.fa\n",
      "RF00034 34038\n",
      "~~~~Skipping: RF00034\n",
      "#### PROCESSING SINGLET RFAM: RF01820, /home/ubuntu/datasets/alignments/mini_Rfam/final_split_by_model/RF01820_final.fa\n",
      "RF01820 70230\n",
      "~~~~Skipping: RF01820\n",
      "#### PROCESSING SINGLET RFAM: RF00128, /home/ubuntu/datasets/alignments/mini_Rfam/final_split_by_model/RF00128_final.fa\n",
      "RF00128 92050\n",
      "~~~~Skipping: RF00128\n",
      "#### PROCESSING SINGLET RFAM: RF02422, /home/ubuntu/datasets/alignments/mini_Rfam/final_split_by_model/RF02422_final.fa\n",
      "RF02422 50199\n",
      "~~~~Skipping: RF02422\n",
      "#### PROCESSING SINGLET RFAM: RF01735, /home/ubuntu/datasets/alignments/mini_Rfam/final_split_by_model/RF01735_final.fa\n",
      "RF01735 143009\n",
      "~~~~Skipping: RF01735\n",
      "#### PROCESSING SINGLET RFAM: RF02928, /home/ubuntu/datasets/alignments/mini_Rfam/final_split_by_model/RF02928_final.fa\n",
      "RF02928 18827\n",
      "~~~~Skipping: RF02928\n",
      "#### PROCESSING SINGLET RFAM: RF01723, /home/ubuntu/datasets/alignments/mini_Rfam/final_split_by_model/RF01723_final.fa\n",
      "RF01723 23892\n",
      "~~~~Skipping: RF01723\n",
      "#### PROCESSING SINGLET RFAM: RF02423, /home/ubuntu/datasets/alignments/mini_Rfam/final_split_by_model/RF02423_final.fa\n",
      "RF02423 58474\n",
      "~~~~Skipping: RF02423\n",
      "#### PROCESSING SINGLET RFAM: RF03063, /home/ubuntu/datasets/alignments/mini_Rfam/final_split_by_model/RF03063_final.fa\n",
      "RF03063 102712\n",
      "~~~~Skipping: RF03063\n",
      "#### PROCESSING SINGLET RFAM: RF02345, /home/ubuntu/datasets/alignments/mini_Rfam/final_split_by_model/RF02345_final.fa\n",
      "RF02345 136783\n",
      "~~~~Skipping: RF02345\n",
      "#### PROCESSING SINGLET RFAM: RF02981, /home/ubuntu/datasets/alignments/mini_Rfam/final_split_by_model/RF02981_final.fa\n",
      "RF02981 5655\n",
      "~~~~Skipping: RF02981\n",
      "#### PROCESSING SINGLET RFAM: RF02526, /home/ubuntu/datasets/alignments/mini_Rfam/final_split_by_model/RF02526_final.fa\n",
      "RF02526 5562\n",
      "~~~~Skipping: RF02526\n",
      "#### PROCESSING SINGLET RFAM: RF01723, /home/ubuntu/datasets/alignments/mini_Rfam/final_split_by_model/RF01723_final.fa\n",
      "RF01723 23892\n",
      "~~~~Skipping: RF01723\n",
      "#### PROCESSING SINGLET RFAM: RF03025, /home/ubuntu/datasets/alignments/mini_Rfam/final_split_by_model/RF03025_final.fa\n",
      "RF03025 4832\n",
      "~~~~Skipping: RF03025\n",
      "#### PROCESSING SINGLET RFAM: RF02345, /home/ubuntu/datasets/alignments/mini_Rfam/final_split_by_model/RF02345_final.fa\n",
      "RF02345 136783\n",
      "~~~~Skipping: RF02345\n",
      "#### PROCESSING SINGLET RFAM: RF03011, /home/ubuntu/datasets/alignments/mini_Rfam/final_split_by_model/RF03011_final.fa\n",
      "RF03011 7527\n",
      "~~~~Skipping: RF03011\n",
      "#### PROCESSING SINGLET RFAM: RF02414, /home/ubuntu/datasets/alignments/mini_Rfam/final_split_by_model/RF02414_final.fa\n",
      "RF02414 15999\n",
      "~~~~Skipping: RF02414\n",
      "#### PROCESSING SINGLET RFAM: RF02437, /home/ubuntu/datasets/alignments/mini_Rfam/final_split_by_model/RF02437_final.fa\n",
      "RF02437 18631\n",
      "~~~~Skipping: RF02437\n",
      "#### PROCESSING SINGLET RFAM: RF00111, /home/ubuntu/datasets/alignments/mini_Rfam/final_split_by_model/RF00111_final.fa\n",
      "RF00111 22889\n",
      "~~~~Skipping: RF00111\n",
      "#### PROCESSING SINGLET RFAM: RF02230, /home/ubuntu/datasets/alignments/mini_Rfam/final_split_by_model/RF02230_final.fa\n",
      "RF02230 19718\n",
      "~~~~Skipping: RF02230\n",
      "#### PROCESSING SINGLET RFAM: RF01719, /home/ubuntu/datasets/alignments/mini_Rfam/final_split_by_model/RF01719_final.fa\n",
      "RF01719 91699\n",
      "~~~~Skipping: RF01719\n",
      "#### PROCESSING SINGLET RFAM: RF02943, /home/ubuntu/datasets/alignments/mini_Rfam/final_split_by_model/RF02943_final.fa\n",
      "RF02943 9843\n",
      "~~~~Skipping: RF02943\n",
      "#### PROCESSING SINGLET RFAM: RF02995, /home/ubuntu/datasets/alignments/mini_Rfam/final_split_by_model/RF02995_final.fa\n",
      "RF02995 5970\n",
      "~~~~Skipping: RF02995\n",
      "#### PROCESSING SINGLET RFAM: RF01719, /home/ubuntu/datasets/alignments/mini_Rfam/final_split_by_model/RF01719_final.fa\n",
      "RF01719 91699\n",
      "~~~~Skipping: RF01719\n",
      "#### PROCESSING SINGLET RFAM: RF02447, /home/ubuntu/datasets/alignments/mini_Rfam/final_split_by_model/RF02447_final.fa\n",
      "RF02447 40526\n",
      "~~~~Skipping: RF02447\n",
      "#### PROCESSING SINGLET RFAM: RF03112, /home/ubuntu/datasets/alignments/mini_Rfam/final_split_by_model/RF03112_final.fa\n",
      "RF03112 12067\n",
      "~~~~Skipping: RF03112\n",
      "#### PROCESSING SINGLET RFAM: RF01772, /home/ubuntu/datasets/alignments/mini_Rfam/final_split_by_model/RF01772_final.fa\n",
      "RF01772 47321\n",
      "~~~~Skipping: RF01772\n",
      "#### PROCESSING SINGLET RFAM: RF01470, /home/ubuntu/datasets/alignments/mini_Rfam/final_split_by_model/RF01470_final.fa\n",
      "RF01470 29567\n",
      "~~~~Skipping: RF01470\n",
      "#### PROCESSING SINGLET RFAM: RF00615, /home/ubuntu/datasets/alignments/mini_Rfam/final_split_by_model/RF00615_final.fa\n",
      "RF00615 8233\n",
      "~~~~Skipping: RF00615\n",
      "#### PROCESSING SINGLET RFAM: RF02447, /home/ubuntu/datasets/alignments/mini_Rfam/final_split_by_model/RF02447_final.fa\n",
      "RF02447 40526\n",
      "~~~~Skipping: RF02447\n",
      "#### PROCESSING SINGLET RFAM: RF03534, /home/ubuntu/datasets/alignments/mini_Rfam/final_split_by_model/RF03534_final.fa\n",
      "RF03534 4034\n",
      "~~~~Skipping: RF03534\n",
      "#### PROCESSING SINGLET RFAM: RF02431, /home/ubuntu/datasets/alignments/mini_Rfam/final_split_by_model/RF02431_final.fa\n",
      "RF02431 29381\n",
      "~~~~Skipping: RF02431\n",
      "#### PROCESSING SINGLET RFAM: RF01470, /home/ubuntu/datasets/alignments/mini_Rfam/final_split_by_model/RF01470_final.fa\n",
      "RF01470 29567\n",
      "~~~~Skipping: RF01470\n",
      "#### PROCESSING SINGLET RFAM: RF02447, /home/ubuntu/datasets/alignments/mini_Rfam/final_split_by_model/RF02447_final.fa\n",
      "RF02447 40526\n",
      "~~~~Skipping: RF02447\n",
      "#### PROCESSING SINGLET RFAM: RF01796, /home/ubuntu/datasets/alignments/mini_Rfam/final_split_by_model/RF01796_final.fa\n",
      "RF01796 62127\n",
      "~~~~Skipping: RF01796\n",
      "#### PROCESSING SINGLET RFAM: RF01729, /home/ubuntu/datasets/alignments/mini_Rfam/final_split_by_model/RF01729_final.fa\n",
      "RF01729 1540\n",
      "~~~~Skipping: RF01729\n",
      "#### PROCESSING SINGLET RFAM: RF03011, /home/ubuntu/datasets/alignments/mini_Rfam/final_split_by_model/RF03011_final.fa\n",
      "RF03011 7527\n",
      "~~~~Skipping: RF03011\n",
      "#### PROCESSING SINGLET RFAM: RF02144, /home/ubuntu/datasets/alignments/mini_Rfam/final_split_by_model/RF02144_final.fa\n",
      "RF02144 90843\n",
      "~~~~Skipping: RF02144\n",
      "#### PROCESSING SINGLET RFAM: RF02919, /home/ubuntu/datasets/alignments/mini_Rfam/final_split_by_model/RF02919_final.fa\n",
      "RF02919 17870\n",
      "~~~~Skipping: RF02919\n",
      "#### PROCESSING SINGLET RFAM: RF02943, /home/ubuntu/datasets/alignments/mini_Rfam/final_split_by_model/RF02943_final.fa\n",
      "RF02943 9843\n",
      "~~~~Skipping: RF02943\n",
      "#### PROCESSING SINGLET RFAM: RF00627, /home/ubuntu/datasets/alignments/mini_Rfam/final_split_by_model/RF00627_final.fa\n",
      "RF00627 91831\n",
      "~~~~Skipping: RF00627\n",
      "#### PROCESSING SINGLET RFAM: RF03025, /home/ubuntu/datasets/alignments/mini_Rfam/final_split_by_model/RF03025_final.fa\n",
      "RF03025 4832\n",
      "~~~~Skipping: RF03025\n",
      "#### PROCESSING SINGLET RFAM: RF03025, /home/ubuntu/datasets/alignments/mini_Rfam/final_split_by_model/RF03025_final.fa\n",
      "RF03025 4832\n",
      "~~~~Skipping: RF03025\n",
      "#### PROCESSING SINGLET RFAM: RF02995, /home/ubuntu/datasets/alignments/mini_Rfam/final_split_by_model/RF02995_final.fa\n",
      "RF02995 5970\n",
      "~~~~Skipping: RF02995\n",
      "#### PROCESSING SINGLET RFAM: RF02100, /home/ubuntu/datasets/alignments/mini_Rfam/final_split_by_model/RF02100_final.fa\n",
      "RF02100 18669\n",
      "~~~~Skipping: RF02100\n",
      "#### PROCESSING SINGLET RFAM: RF02235, /home/ubuntu/datasets/alignments/mini_Rfam/final_split_by_model/RF02235_final.fa\n",
      "RF02235 39492\n",
      "~~~~Skipping: RF02235\n",
      "#### PROCESSING SINGLET RFAM: RF02434, /home/ubuntu/datasets/alignments/mini_Rfam/final_split_by_model/RF02434_final.fa\n",
      "RF02434 3133\n",
      "~~~~Skipping: RF02434\n",
      "#### PROCESSING SINGLET RFAM: RF00021, /home/ubuntu/datasets/alignments/mini_Rfam/final_split_by_model/RF00021_final.fa\n",
      "RF00021 122514\n",
      "~~~~Skipping: RF00021\n",
      "#### PROCESSING SINGLET RFAM: RF02680, /home/ubuntu/datasets/alignments/mini_Rfam/final_split_by_model/RF02680_final.fa\n",
      "RF02680 9733\n",
      "~~~~Skipping: RF02680\n",
      "#### PROCESSING SINGLET RFAM: RF02680, /home/ubuntu/datasets/alignments/mini_Rfam/final_split_by_model/RF02680_final.fa\n",
      "RF02680 9733\n",
      "~~~~Skipping: RF02680\n",
      "#### PROCESSING SINGLET RFAM: RF01470, /home/ubuntu/datasets/alignments/mini_Rfam/final_split_by_model/RF01470_final.fa\n",
      "RF01470 29567\n",
      "~~~~Skipping: RF01470\n",
      "#### PROCESSING SINGLET RFAM: RF00444, /home/ubuntu/datasets/alignments/mini_Rfam/final_split_by_model/RF00444_final.fa\n",
      "RF00444 221531\n",
      "~~~~Skipping: RF00444\n",
      "#### PROCESSING SINGLET RFAM: RF02919, /home/ubuntu/datasets/alignments/mini_Rfam/final_split_by_model/RF02919_final.fa\n",
      "RF02919 17870\n",
      "~~~~Skipping: RF02919\n",
      "#### PROCESSING SINGLET RFAM: RF04192, /home/ubuntu/datasets/alignments/mini_Rfam/final_split_by_model/RF04192_final.fa\n",
      "RF04192 21870\n",
      "~~~~Skipping: RF04192\n",
      "#### PROCESSING SINGLET RFAM: RF03011, /home/ubuntu/datasets/alignments/mini_Rfam/final_split_by_model/RF03011_final.fa\n",
      "RF03011 7527\n",
      "~~~~Skipping: RF03011\n",
      "#### PROCESSING SINGLET RFAM: RF00083, /home/ubuntu/datasets/alignments/mini_Rfam/final_split_by_model/RF00083_final.fa\n",
      "RF00083 115680\n",
      "~~~~Skipping: RF00083\n"
     ]
    },
    {
     "ename": "SystemExit",
     "evalue": "",
     "output_type": "error",
     "traceback": [
      "An exception has occurred, use %tb to see the full traceback.\n",
      "\u001b[0;31mSystemExit\u001b[0m\n"
     ]
    },
    {
     "name": "stderr",
     "output_type": "stream",
     "text": [
      "/home/ubuntu/anaconda3/envs/bioinfo_tools_Py_310/lib/python3.10/site-packages/IPython/core/interactiveshell.py:3561: UserWarning: To exit: use 'exit', 'quit', or Ctrl-D.\n",
      "  warn(\"To exit: use 'exit', 'quit', or Ctrl-D.\", stacklevel=1)\n"
     ]
    }
   ],
   "source": [
    "#### TRAIN/TEST SPLITS: Total 228x Dataset ####\n",
    "# GET TOTAL TOKENS IN 3xRFAM TEST\n",
    "total_token_test_3xrfam = 0\n",
    "for rfam,fasta in rfam_3x_test.items():\n",
    "    output = subprocess.check_output(f\"seqkit stats {fasta.replace('Superset', 'Superset/Archive')}\", \n",
    "                                     shell=True, text=True)\n",
    "    test_tokens = int(output.split()[12].replace(\",\", \"\"))\n",
    "    total_token_test_3xrfam += test_tokens\n",
    "    print(rfam,test_tokens)\n",
    "print(f\"# 3x RFAM TEST TOKENS: {total_token_test_3xrfam}\")\n",
    "\n",
    "# COLLECT 10% TOTAL TOKENS FOR 231 RFAMs\n",
    "fraction = 0.10\n",
    "seq_margin = 0.01\n",
    "ten_percent_tokens = int(np.ceil(fraction*total_tokens_231xrfam))\n",
    "min_test_tokens = ten_percent_tokens - int(np.ceil(fraction*total_tokens_231xrfam*seq_margin))\n",
    "max_test_tokens = ten_percent_tokens + int(np.ceil(fraction*total_tokens_231xrfam*seq_margin))\n",
    "rfams_processed_for_test = []\n",
    "test_set_ids = []\n",
    "train_fastas = []\n",
    "test_fastas = []\n",
    "test_tokens_per_rfam = {}\n",
    "current_tokens = 0\n",
    "\n",
    "## PROCESS NON-SINGLET RFAMS\n",
    "# FIND RFAMS WITH >1 CLUSTER\n",
    "not_singlets = [x for x in all_clusters_dict.keys() if x not in singlets]\n",
    "\n",
    "# FIND RFAMS WITH MODEST CLUSTER SIZES: get clusters that aren't >33% RFam's tokens\n",
    "dominant_fraction = 0.33 # Define dominant cluster\n",
    "not_singlet_with_modest_token_clusters = {} # Dict of dicts: major_key =  RFAM , minor_key = cluster_ids, minor_vals = cluster_token_count\n",
    "for rfam in not_singlets:\n",
    "    cluster_token_dict = tokens_per_cluster_dict[rfam]\n",
    "    modest_clusters = {}\n",
    "    percent_x = dominant_fraction*np.sum(list(cluster_token_dict.values()))\n",
    "    # Find Clusters that aren't > 33% Rfam's tokens\n",
    "    for cid,token_count in cluster_token_dict.items():\n",
    "        if token_count > percent_x:\n",
    "            continue\n",
    "        else:\n",
    "            modest_clusters[cid] = token_count\n",
    "    # Save rfams with modest clusters\n",
    "    if len(modest_clusters.values()) == 0: # Skip if rfam only had large clusters\n",
    "        continue\n",
    "    else:\n",
    "        not_singlet_with_modest_token_clusters[rfam] = modest_clusters\n",
    "\n",
    "# COLLECT < 33% TOKENS FROM NON-SINGLET RFAMS WITH MODEST CLUSTER SETS\n",
    "rfam_fraction = dominant_fraction\n",
    "modest_counter = 0 \n",
    "\n",
    "while current_tokens < max_test_tokens:\n",
    "    if modest_counter >= len(not_singlet_with_modest_token_clusters.keys()): # Prevent infinite loop\n",
    "        break\n",
    "    for rfam,good_clusters in not_singlet_with_modest_token_clusters.items():\n",
    "        if rfam in rfams_processed_for_test:\n",
    "            continue\n",
    "        \n",
    "        original_fasta = fasta_dict_228[rfam]\n",
    "        print(f\"#### PROCESSING Non-singlet modest-cluster RFAM: {rfam}, {original_fasta}\")\n",
    "        out_train = f\"{final_train_test_dir}{rfam}_train.fa\"\n",
    "        out_test = f\"{final_train_test_dir}{rfam}_test.fa\"\n",
    "        \n",
    "        modest_cluster_ids = list(good_clusters.keys())\n",
    "        n_modest_clusters = len(modest_cluster_ids)\n",
    "        \n",
    "        total_token_count = int(subprocess.check_output(f\"seqkit stats {original_fasta}\",\n",
    "                                                        shell=True, text=True).split()[12].replace(\",\", \"\"))\n",
    "        rfam_x_max_tokens = int(np.ceil(total_token_count*rfam_fraction)) + int(np.ceil(total_token_count*rfam_fraction)) * seq_margin\n",
    "\n",
    "        # Iterate through modest clusters\n",
    "        temp_tokens = 0\n",
    "        cluster_counter = 0\n",
    "        sequence_ids = [] # Selected clusters\n",
    "        while temp_tokens < rfam_x_max_tokens:\n",
    "            # Randomly select modest cluster\n",
    "            selected = []\n",
    "            random_cluster_id = np.random.choice(modest_cluster_ids)\n",
    "            while random_cluster_id in selected:\n",
    "                random_cluster_id = np.random.choice(modest_cluster_ids)\n",
    "            if random_cluster_id not in selected:\n",
    "                selected.append(random_cluster_id)\n",
    "            \n",
    "            # Get num tokens in random choice\n",
    "            random_cluster_seq_ids = list(set(cluster_to_seqid_list_dicts[rfam][random_cluster_id]))\n",
    "            tokens_in_random_cluster = np.sum([minirfam_fasta_len_dict[x] for x in random_cluster_seq_ids])\n",
    "            #tokens_in_random_cluster = good_clusters[random_cluster_id]\n",
    "            \n",
    "            # Assess cluster's token count and add to sequence_ids if within min/max boundaries\n",
    "            if (temp_tokens+tokens_in_random_cluster <= rfam_x_max_tokens) and (cluster_counter <= n_modest_clusters)\\\n",
    "                and ((current_tokens + temp_tokens) < max_test_tokens):\n",
    "                sequence_ids.append(random_cluster_seq_ids)\n",
    "                temp_tokens += tokens_in_random_cluster\n",
    "            elif cluster_counter > n_modest_clusters:\n",
    "                break # break if you've iterated through all clusters\n",
    "            cluster_counter += 1\n",
    "        \n",
    "        # UPDATE TOKEN COUNT\n",
    "        if (current_tokens + temp_tokens) > max_test_tokens:\n",
    "            modest_counter += 1\n",
    "            print(f\"~~~~Skipping: {rfam}\")\n",
    "            continue\n",
    "        else:\n",
    "            if rfam in rfams_processed_for_test:\n",
    "                continue\n",
    "            test_tokens_per_rfam[rfam] = temp_tokens\n",
    "            \n",
    "            # WRITE TRAIN/TEST\n",
    "            # Format ID list\n",
    "            sequence_ids = list(set([s for l in sequence_ids for s in l]))  # Flatten\n",
    "            test_set_ids.append(sequence_ids)\n",
    "            id_list_file = f\"{final_train_test_dir}{rfam}_ID_List.txt\"\n",
    "            print(f\"## N_seqs: {len(sequence_ids)}\")\n",
    "            \n",
    "            # Test\n",
    "            if not os.path.exists(out_test):\n",
    "                subset_fasta_inclusion(id_list_file, sequence_ids, original_fasta, out_test)\n",
    "            \n",
    "            # Train\n",
    "            if not os.path.exists(out_train):\n",
    "                subset_fasta_exclusion(id_list_file, sequence_ids, original_fasta, out_train)\n",
    "            \n",
    "            train_fastas.append(out_train)\n",
    "            test_fastas.append(out_test)\n",
    "            \n",
    "            # Clean Dir\n",
    "            os.remove(id_list_file)\n",
    "            \n",
    "            rfams_processed_for_test.append(rfam)\n",
    "            modest_counter += 1\n",
    "\n",
    "            # Update token counter\n",
    "            flat_test_ids = [s for l in test_set_ids for s in l]\n",
    "            current_tokens = np.sum([minirfam_fasta_len_dict[x] for x in flat_test_ids]) + total_token_test_3xrfam\n",
    "print((f\"!!!! TOKENS BEFORE SINGLETS: {current_tokens}\"))\n",
    "\n",
    "\n",
    "## PROCESS SINGLET RFAMS\n",
    "# PROCESS REMAINING SINGLETS\n",
    "singlet_counter = 0\n",
    "included_singlet_counter = []\n",
    "unprocessed_singlets = [x for x in singlets if x not in rfams_processed_for_test] # Skip previously processed rfams\n",
    "max_singlet_iters =  len(unprocessed_singlets)\n",
    "\n",
    "while current_tokens < max_test_tokens:\n",
    "    selected_rfams = []\n",
    "    # Randomly select singlet-rfam\n",
    "    rfam = np.random.choice(unprocessed_singlets)\n",
    "    while rfam in selected_rfams:\n",
    "        rfam = np.random.choice(unprocessed_singlets)\n",
    "        if len(rfams_processed_for_test) > len(fasta_dict_228.keys()):\n",
    "            sys.exit()\n",
    "    if rfam in rfams_processed_for_test:\n",
    "        continue\n",
    "    else:\n",
    "        selected_rfams.append(rfam)\n",
    "        \n",
    "    # Prevent infinite loop: break if you've iterated through all singlets and don't have min token count\n",
    "    if singlet_counter > max_singlet_iters:\n",
    "        sys.exit()\n",
    "        \n",
    "    original_fasta = fasta_dict_228[rfam]\n",
    "    print(f\"#### PROCESSING SINGLET RFAM: {rfam}, {original_fasta}\")\n",
    "    out_train = f\"{final_train_test_dir}{rfam}_train.fa\"\n",
    "    out_test = f\"{final_train_test_dir}{rfam}_test.fa\"\n",
    "\n",
    "    # COLLECT TOKENS AND SEQ IDS\n",
    "    # Get token count for rfam\n",
    "    temp_tokens = int(subprocess.check_output(f\"seqkit stats {fasta_dict_228[rfam]}\", \n",
    "                      shell=True, text=True).split()[12].replace(\",\", \"\")) #bp_per_rfam[rfam] #list(tokens_per_cluster_dict[rfam].values())[0]\n",
    "    print(rfam, temp_tokens)\n",
    "    \n",
    "    # Get Seq IDs\n",
    "    sequence_ids = list(cluster_to_seqid_list_dicts[rfam].values())[0]\n",
    "    \n",
    "    # UPDATE TOKEN COUNT\n",
    "    if (current_tokens + temp_tokens) > max_test_tokens:\n",
    "        singlet_counter +=1\n",
    "        print(f\"~~~~Skipping: {rfam}\")\n",
    "        continue # Skip if singlet token count too large\n",
    "    else:\n",
    "        if rfam in rfams_processed_for_test:\n",
    "            continue\n",
    "        test_tokens_per_rfam[rfam] = temp_tokens    \n",
    "        included_singlet_counter.append(rfam)\n",
    "        # WRITE TRAIN/TEST\n",
    "        # Write ID list\n",
    "        test_set_ids.append(sequence_ids)\n",
    "        id_list_file = f\"{final_train_test_dir}{rfam}_ID_List.txt\"\n",
    "        print(f\"## N_seqs: {len(sequence_ids)}\")\n",
    "\n",
    "        # Test\n",
    "        if not os.path.exists(out_test):\n",
    "            subset_fasta_inclusion(id_list_file, sequence_ids, original_fasta, out_test)\n",
    "        # Train\n",
    "        if not os.path.exists(out_train):\n",
    "            subset_fasta_exclusion(id_list_file, sequence_ids, original_fasta, out_train)        \n",
    "        \n",
    "        train_fastas.append(out_train)\n",
    "        test_fastas.append(out_test)\n",
    "            \n",
    "        # Clean Dir\n",
    "        os.remove(id_list_file)\n",
    "        rfams_processed_for_test.append(rfam)\n",
    "        \n",
    "        # Update token counter\n",
    "        singlet_counter +=1\n",
    "        flat_test_ids = [s for l in test_set_ids for s in l]\n",
    "        current_tokens = np.sum([minirfam_fasta_len_dict[x] for x in flat_test_ids]) + total_token_test_3xrfam"
   ]
  },
  {
   "cell_type": "markdown",
   "id": "955b052c-dd6c-4270-b2c5-b8ca50c6f2e5",
   "metadata": {},
   "source": [
    "## III. Aggregate 231 Rfam train/test superset"
   ]
  },
  {
   "cell_type": "code",
   "execution_count": 9,
   "id": "c74c2d10-b75f-42bf-8728-47ced726a4d1",
   "metadata": {},
   "outputs": [
    {
     "name": "stdout",
     "output_type": "stream",
     "text": [
      "## SUPERSET TOTAL TRAIN TOKENS: 274214273\n",
      "## SUPERSET TRAIN THERMO TOKENS: 2605716\n",
      "## SUPERSET TEST TOKENS: 30805909\n",
      "## SUPERSET TEST THERMO TOKENS: 949507\n",
      "* Superset TEST Tokens are 10.099629735320269% Total\n",
      "* Superset TEST THERMO Tokens are 0.31129317206951246% Total\n",
      "# ALL MINI RFAM PROCESSED:  True\n"
     ]
    }
   ],
   "source": [
    "#### CONCATENATE SUPERSET AND STATS ####\n",
    "superset_dir = \"/mnt/efs/fs1/software/Manuscript/GTDB_Data_Curation_and_Preprocessing/Hierarchical_Clustering/Final_Train_Test/Superset/\"\n",
    "total_228x_fasta = \"/home/ubuntu/datasets/alignments/mini_Rfam/mini_rfam.fa\"\n",
    "\n",
    "## COLLECT SUPERSET TRAIN: 3xRFAM Train + 228XRFAM Train\n",
    "# Add old rfams and rfams with dominant clusters\n",
    "unprocessed_train_fastas = [fasta for rfam,fasta in list(fasta_dict_228.items()) if rfam not in rfams_processed_for_test]\n",
    "train_superset_fastas = list(set(unprocessed_train_fastas + train_fastas + [v for k,v in rfam_3x_train.items()]))\n",
    "\n",
    "# CONCAT TRAIN\n",
    "superset_train = f\"{superset_dir}Superset_Train.fa\"\n",
    "if not os.path.exists(superset_train):\n",
    "    os.system(f\"cat {' '.join(train_superset_fastas)} > {superset_train}\")\n",
    "\n",
    "# STATS\n",
    "# Total train tokens\n",
    "output = subprocess.check_output(f\"seqkit stats {superset_train}\", shell=True, text=True)\n",
    "superset_train_tokens = int(output.split()[12].replace(\",\", \"\"))\n",
    "print(f\"## SUPERSET TOTAL TRAIN TOKENS: {superset_train_tokens}\")\n",
    "# Thermo train tokens\n",
    "superset_train_thermo_tokens = np.sum([len(record.seq) for record in SeqIO.parse(superset_train, \"fasta\") \\\n",
    "                                if record.id.split(\"__\")[0] in thermo_acc])\n",
    "print(f\"## SUPERSET TRAIN THERMO TOKENS: {superset_train_thermo_tokens}\")\n",
    "\n",
    "## COLLECT SUPERSET FINETUNING-TEST: 5XRFAM Test +  250xRFAM Test\n",
    "test_superset_fastas = [v for k,v in rfam_3x_test.items()] + test_fastas\n",
    "\n",
    "# CONCAT TEST\n",
    "superset_test = f\"{superset_dir}Superset_Test.fa\"\n",
    "if not os.path.exists(superset_test):\n",
    "    os.system(f\"cat {' '.join(test_superset_fastas)} > {superset_test}\")\n",
    "\n",
    "# STATS\n",
    "# Total train tokens\n",
    "output = subprocess.check_output(f\"seqkit stats {superset_test}\", shell=True, text=True)\n",
    "superset_test_tokens = int(output.split()[12].replace(\",\", \"\"))\n",
    "print(f\"## SUPERSET TEST TOKENS: {superset_test_tokens}\")\n",
    "# Thermo train tokens\n",
    "superset_test_thermo_tokens = np.sum([len(record.seq) for record in SeqIO.parse(superset_test, \"fasta\") \\\n",
    "                                if record.id.split(\"__\")[0] in thermo_acc])\n",
    "print(f\"## SUPERSET TEST THERMO TOKENS: {superset_test_thermo_tokens}\")\n",
    "\n",
    "total_superset_tokens = superset_train_tokens + superset_test_tokens\n",
    "print(f\"* Superset TEST Tokens are {100*superset_test_tokens/total_superset_tokens}% Total\")\n",
    "print(f\"* Superset TEST THERMO Tokens are {100*superset_test_thermo_tokens/total_superset_tokens}% Total\")\n",
    "print(\"# ALL MINI RFAM PROCESSED: \", len(unprocessed_train_fastas) + len(rfams_processed_for_test) == 228)\n"
   ]
  },
  {
   "cell_type": "code",
   "execution_count": 10,
   "id": "ed7a78f3-a372-4187-88fa-29de98e8510c",
   "metadata": {},
   "outputs": [
    {
     "name": "stdout",
     "output_type": "stream",
     "text": [
      "## SUPER TEST CORRECT:  True\n",
      "## SUPER TRAIN CORRECT:  True\n",
      "# TEST IDs NOT DUPLICATED:  True\n",
      "# NUM SINGLETS PROCESSED:  1\n"
     ]
    }
   ],
   "source": [
    "#### EXTENDED CHECK SUMS ####\n",
    "## CHECK TEST IDS UNIQUE AND COMPLETE\n",
    "rfam_3x_ids = [[record.id for record in SeqIO.parse(fasta, \"fasta\")] for fasta in rfam_3x_test.values()]\n",
    "rfam_3x_ids = set([s for l in rfam_3x_ids for s in l])\n",
    "n_supertest_ids = len([record.id for record in SeqIO.parse(superset_test, \"fasta\")])\n",
    "print(\"## SUPER TEST CORRECT: \", len(flat_test_ids) + len(rfam_3x_ids) == n_supertest_ids)\n",
    "\n",
    "## CHECK TRAIN IDS UNIQUE AND COMPLETE\n",
    "rfam_3x_ids = [[record.id for record in SeqIO.parse(fasta, \"fasta\")] for fasta in rfam_3x_train.values()]\n",
    "rfam_3x_ids = set([s for l in rfam_3x_ids for s in l])\n",
    "n_supertrain_ids = len(set([record.id for record in SeqIO.parse(superset_train, \"fasta\")]))\n",
    "print(\"## SUPER TRAIN CORRECT: \", len(rfam_3x_ids) + len(minirfam_fasta_len_dict.keys())-len(flat_test_ids) == n_supertrain_ids)\n",
    "\n",
    "## CHECK TEST-SET IDS NOT DUPLICATED\n",
    "flat_test_ids = [s for l in test_set_ids for s in l]\n",
    "counted = Counter(flat_test_ids)\n",
    "print(\"# TEST IDs NOT DUPLICATED: \", len([k.split(\"__\")[-1] for k,v in counted.items() if v > 1]) == 0)\n",
    "\n",
    "# GET NUMBER OF SINGLETS PROCESSED\n",
    "print(\"# NUM SINGLETS PROCESSED: \", len([x for x in singlets if x in rfams_processed_for_test])) # N Singlets used for Test"
   ]
  },
  {
   "cell_type": "code",
   "execution_count": 11,
   "id": "ac911734-828d-4996-8290-e0bb6a61ec39",
   "metadata": {},
   "outputs": [
    {
     "name": "stdout",
     "output_type": "stream",
     "text": [
      "True\n",
      "3458844 96379\n"
     ]
    }
   ],
   "source": [
    "#### CREATE FINETUNING SETS: SPLIT THERMOPHILE FASTAS ####\n",
    "n_records_in_superset_test = len([record.id for record in SeqIO.parse(superset_test, \"fasta\") if record.id.split(\"__\")[0]])\n",
    "thermos_in_super_train = [record.id for record in SeqIO.parse(superset_train, \"fasta\") if record.id.split(\"__\")[0] in thermo_acc]\n",
    "thermos_in_super_test = [record.id for record in SeqIO.parse(superset_test, \"fasta\") if record.id.split(\"__\")[0] in thermo_acc]\n",
    "\n",
    "superset_test_index = list(SeqIO.parse(superset_test, \"fasta\"))\n",
    "indices = list(range(0, n_records_in_superset_test))\n",
    "\n",
    "# Ten percent of testing tokens\n",
    "tokens_for_thermo_test = int(np.ceil(fraction*superset_test_thermo_tokens))\n",
    "n_thermo_test_tokens = 0\n",
    "thermo_seqs_selected = []\n",
    "\n",
    "# WRITE THERMO TEST: Collect 10% of tokens for seqs not in initial training\n",
    "thermo_test_fasta = f\"{superset_dir}Superset_Thermo_Test.fa\"\n",
    "n_thermo_test = 0\n",
    "with open(thermo_test_fasta, \"w\") as f:\n",
    "    while n_thermo_test_tokens < tokens_for_thermo_test:\n",
    "        # Select a random sequence from superset-test\n",
    "        random_index = np.random.choice(indices)\n",
    "        while random_index in thermo_seqs_selected:\n",
    "            random_index = np.random.choice(indices)\n",
    "        thermo_seqs_selected.append(random_index)\n",
    "        \n",
    "        # Get seq info\n",
    "        random_read_id = superset_test_index[random_index].id\n",
    "        if random_read_id in thermos_in_super_test:\n",
    "            random_read_seq = superset_test_index[random_index].seq\n",
    "            # Write to thermo-test\n",
    "            f.write(f\">{random_read_id}\\n{random_read_seq}\\n\")\n",
    "            n_thermo_test += 1\n",
    "            n_thermo_test_tokens += len(random_read_seq)\n",
    "        if len(thermo_seqs_selected) > n_records_in_superset_test:\n",
    "            break\n",
    "\n",
    "# WRITE THERMO FINETUNING: use all seqs not reserved for Thermo-Test\n",
    "indices_not_in_thermo_test = [x for x in indices if x not in thermo_seqs_selected]\n",
    "finetuning_fasta = f\"{superset_dir}Superset_Thermo_Finetune.fa\"\n",
    "n_finetune_tokens = 0\n",
    "n_finetune = 0\n",
    "with open(finetuning_fasta, \"w\") as f:\n",
    "    for idx in indices_not_in_thermo_test:\n",
    "        random_read_id = superset_test_index[idx].id\n",
    "        \n",
    "        # If thermophile, save for finetuning\n",
    "        #if random_read_id in thermos_in_super_test:\n",
    "        if random_read_id.split(\"__\")[0] in thermo_acc:\n",
    "            random_read_seq = superset_test_index[idx].seq\n",
    "            # Write to thermo finetuning\n",
    "            f.write(f\">{random_read_id}\\n{random_read_seq}\\n\")\n",
    "            n_finetune += 1\n",
    "            n_finetune_tokens += len(random_read_seq)\n",
    "    \n",
    "    # Check all of superset test processed\n",
    "    print(n_thermo_test + n_finetune == len(thermos_in_super_test))\n",
    "    \n",
    "    # Add thermos from superset train\n",
    "    for record in SeqIO.parse(superset_train, \"fasta\"):\n",
    "        random_read_id = record.id\n",
    "        if random_read_id.split(\"__\")[0] in thermo_acc:\n",
    "            # Write to thermo finetuning\n",
    "            f.write(f\">{random_read_id}\\n{record.seq}\\n\")\n",
    "            n_finetune += 1\n",
    "            n_finetune_tokens += len(record.seq)\n",
    "\n",
    "# CHECK SUM\n",
    "print(n_finetune_tokens, n_thermo_test_tokens)"
   ]
  },
  {
   "cell_type": "code",
   "execution_count": 12,
   "id": "9460f63f-f651-40c2-960c-613245aaf9c2",
   "metadata": {},
   "outputs": [
    {
     "name": "stdout",
     "output_type": "stream",
     "text": [
      "# Check Superset_Train.fa and Superset_Test.fa overlap: 0\n",
      "# Check Superset_Train.fa and Superset_Thermo_Test.fasta overlap: 0\n"
     ]
    }
   ],
   "source": [
    "#### VALIDATION ####\n",
    "# CHECK FOR DATA LEAKAGE: Superset_Train.fa and Superset_Test.fa\n",
    "superset_train_ids = set([record.id for record in SeqIO.parse(superset_train,\"fasta\")])\n",
    "superset_test_ids = set([record.id for record in SeqIO.parse(superset_test,\"fasta\")])\n",
    "print(f\"# Check Superset_Train.fa and Superset_Test.fa overlap: {len(superset_test_ids&superset_train_ids)}\")\n",
    "\n",
    "# CHECK FOR DATA LEAKAGE: Superset_Train.fa and Superset_Thermo_Test.fasta\n",
    "superset_thermo_test_ids = set([record.id for record in SeqIO.parse(thermo_test_fasta,\"fasta\")])\n",
    "print(f\"# Check Superset_Train.fa and Superset_Thermo_Test.fasta overlap: {len(superset_thermo_test_ids&superset_train_ids)}\")\n"
   ]
  },
  {
   "cell_type": "code",
   "execution_count": null,
   "id": "14af8a0a-f6e0-49f5-88d1-5726e1ecba1c",
   "metadata": {},
   "outputs": [],
   "source": []
  }
 ],
 "metadata": {
  "kernelspec": {
   "display_name": "bioinfo_tools_Py_310",
   "language": "python",
   "name": "bioinfo_tools_py_310"
  },
  "language_info": {
   "codemirror_mode": {
    "name": "ipython",
    "version": 3
   },
   "file_extension": ".py",
   "mimetype": "text/x-python",
   "name": "python",
   "nbconvert_exporter": "python",
   "pygments_lexer": "ipython3",
   "version": "3.10.8"
  }
 },
 "nbformat": 4,
 "nbformat_minor": 5
}
